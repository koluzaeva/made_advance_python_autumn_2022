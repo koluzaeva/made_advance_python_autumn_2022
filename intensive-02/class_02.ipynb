{
 "cells": [
  {
   "cell_type": "code",
   "execution_count": 1,
   "id": "3fb44849",
   "metadata": {},
   "outputs": [],
   "source": [
    "def gen(count):\n",
    "    return 10\n",
    "    yield 99\n",
    "\n",
    "\n",
    "for i in gen(0):\n",
    "    print(i)"
   ]
  },
  {
   "cell_type": "code",
   "execution_count": 5,
   "id": "f6ef7aa9",
   "metadata": {},
   "outputs": [
    {
     "data": {
      "text/plain": [
       "<generator object gen at 0x1103170d0>"
      ]
     },
     "execution_count": 5,
     "metadata": {},
     "output_type": "execute_result"
    }
   ],
   "source": [
    "g = gen(0)\n",
    "g"
   ]
  },
  {
   "cell_type": "code",
   "execution_count": 6,
   "id": "099cd0d1",
   "metadata": {},
   "outputs": [
    {
     "name": "stdout",
     "output_type": "stream",
     "text": [
      "5\n",
      "4\n",
      "3\n",
      "2\n",
      "1\n"
     ]
    }
   ],
   "source": [
    "def counter(count):\n",
    "    while count > 0:\n",
    "        yield count\n",
    "        count -= 1\n",
    "        \n",
    "for i in counter(5):\n",
    "    print(i)"
   ]
  },
  {
   "cell_type": "code",
   "execution_count": 17,
   "id": "1d6e5eed",
   "metadata": {},
   "outputs": [
    {
     "name": "stdout",
     "output_type": "stream",
     "text": [
      "5\n",
      "4\n",
      "3\n",
      "2\n",
      "1\n"
     ]
    }
   ],
   "source": [
    "def counter(count):\n",
    "    while count > 0:\n",
    "        yield count\n",
    "        count -= 1\n",
    "\n",
    "    return {1:11}\n",
    "\n",
    "\n",
    "for i in counter(5):\n",
    "    print(i)"
   ]
  },
  {
   "cell_type": "code",
   "execution_count": 18,
   "id": "e2da80e3",
   "metadata": {},
   "outputs": [
    {
     "name": "stdout",
     "output_type": "stream",
     "text": [
      "<generator object counter at 0x110e06730>\n",
      "5\n",
      "4\n",
      "3\n",
      "2\n",
      "1\n",
      "StopIteration({1: 11})\n",
      "{1: 11}\n",
      "str= {1: 11}\n"
     ]
    }
   ],
   "source": [
    "cnt_gen = counter(5)\n",
    "print(cnt_gen)\n",
    "\n",
    "print(next(cnt_gen))\n",
    "print(next(cnt_gen))\n",
    "print(next(cnt_gen))\n",
    "print(next(cnt_gen))\n",
    "print(next(cnt_gen))\n",
    "\n",
    "try:\n",
    "    print(next(cnt_gen))\n",
    "except StopIteration as err:\n",
    "    print(repr(err))\n",
    "    print(err)\n",
    "    print('str=', err.__str__())\n",
    "    "
   ]
  },
  {
   "cell_type": "code",
   "execution_count": null,
   "id": "a741151a",
   "metadata": {},
   "outputs": [],
   "source": []
  },
  {
   "cell_type": "code",
   "execution_count": 27,
   "id": "f6a62ac5",
   "metadata": {},
   "outputs": [
    {
     "name": "stdout",
     "output_type": "stream",
     "text": [
      "10\n",
      "in counter diff=2\n",
      "8\n",
      "in counter diff=5\n",
      "3\n",
      "in counter diff=None\n",
      "for 2\n",
      "in counter diff=None\n",
      "for 1\n",
      "in counter diff=None\n"
     ]
    }
   ],
   "source": [
    "def counter(count):\n",
    "    while count > 0:\n",
    "        diff = yield count\n",
    "        print(f\"in counter {diff=}\")\n",
    "\n",
    "        if diff is None:\n",
    "            diff = 1\n",
    "\n",
    "        count -= diff\n",
    "\n",
    "\n",
    "cnt = counter(10)\n",
    "print(next(cnt))\n",
    "\n",
    "print(cnt.send(2))\n",
    "print(cnt.send(5))\n",
    "\n",
    "#cnt.throw(ValueError)\n",
    "\n",
    "for i in cnt:\n",
    "    print(\"for\", i)"
   ]
  },
  {
   "cell_type": "code",
   "execution_count": null,
   "id": "33691c89",
   "metadata": {},
   "outputs": [],
   "source": []
  },
  {
   "cell_type": "code",
   "execution_count": null,
   "id": "d206d991",
   "metadata": {},
   "outputs": [],
   "source": []
  },
  {
   "cell_type": "code",
   "execution_count": null,
   "id": "08562bb9",
   "metadata": {},
   "outputs": [],
   "source": []
  },
  {
   "cell_type": "code",
   "execution_count": null,
   "id": "c1f2e028",
   "metadata": {},
   "outputs": [],
   "source": []
  },
  {
   "cell_type": "code",
   "execution_count": null,
   "id": "8a256126",
   "metadata": {},
   "outputs": [],
   "source": [
    "def usual_function(x):\n",
    "    if x > 0:\n",
    "        return x + 1\n",
    "    else:\n",
    "        return x - 1"
   ]
  },
  {
   "cell_type": "code",
   "execution_count": null,
   "id": "851f1bdb",
   "metadata": {},
   "outputs": [],
   "source": []
  },
  {
   "cell_type": "code",
   "execution_count": null,
   "id": "893105a5",
   "metadata": {},
   "outputs": [],
   "source": []
  },
  {
   "cell_type": "code",
   "execution_count": null,
   "id": "a89622eb",
   "metadata": {},
   "outputs": [],
   "source": []
  },
  {
   "cell_type": "code",
   "execution_count": 28,
   "id": "a06751ad",
   "metadata": {},
   "outputs": [],
   "source": [
    "points = (1, 2, [])\n"
   ]
  },
  {
   "cell_type": "code",
   "execution_count": 29,
   "id": "3073e3bf",
   "metadata": {},
   "outputs": [
    {
     "ename": "TypeError",
     "evalue": "'tuple' object does not support item assignment",
     "output_type": "error",
     "traceback": [
      "\u001b[0;31m---------------------------------------------------------------------------\u001b[0m",
      "\u001b[0;31mTypeError\u001b[0m                                 Traceback (most recent call last)",
      "Cell \u001b[0;32mIn [29], line 1\u001b[0m\n\u001b[0;32m----> 1\u001b[0m \u001b[43mpoints\u001b[49m\u001b[43m[\u001b[49m\u001b[38;5;241;43m0\u001b[39;49m\u001b[43m]\u001b[49m \u001b[38;5;241m=\u001b[39m \u001b[38;5;241m3\u001b[39m\n",
      "\u001b[0;31mTypeError\u001b[0m: 'tuple' object does not support item assignment"
     ]
    }
   ],
   "source": [
    "points[0] = 3"
   ]
  },
  {
   "cell_type": "code",
   "execution_count": 31,
   "id": "7849c9b8",
   "metadata": {},
   "outputs": [
    {
     "name": "stdout",
     "output_type": "stream",
     "text": [
      "(1, 2, [3, 3])\n"
     ]
    }
   ],
   "source": [
    "points[2].append(3)\n",
    "print(points)"
   ]
  },
  {
   "cell_type": "code",
   "execution_count": 45,
   "id": "236770bf",
   "metadata": {},
   "outputs": [
    {
     "name": "stdout",
     "output_type": "stream",
     "text": [
      "name='val', val='name'\n"
     ]
    },
    {
     "ename": "TypeError",
     "evalue": "Immutable!!!",
     "output_type": "error",
     "traceback": [
      "\u001b[0;31m---------------------------------------------------------------------------\u001b[0m",
      "\u001b[0;31mTypeError\u001b[0m                                 Traceback (most recent call last)",
      "Cell \u001b[0;32mIn [45], line 10\u001b[0m\n\u001b[1;32m      6\u001b[0m         \u001b[38;5;28mprint\u001b[39m(\u001b[38;5;124mf\u001b[39m\u001b[38;5;124m\"\u001b[39m\u001b[38;5;132;01m{\u001b[39;00mname\u001b[38;5;132;01m=}\u001b[39;00m\u001b[38;5;124m, \u001b[39m\u001b[38;5;132;01m{\u001b[39;00mval\u001b[38;5;132;01m=}\u001b[39;00m\u001b[38;5;124m\"\u001b[39m)\n\u001b[1;32m      7\u001b[0m         \u001b[38;5;28;01mraise\u001b[39;00m \u001b[38;5;167;01mTypeError\u001b[39;00m(\u001b[38;5;124m'\u001b[39m\u001b[38;5;124mImmutable!!!\u001b[39m\u001b[38;5;124m'\u001b[39m)\n\u001b[0;32m---> 10\u001b[0m user \u001b[38;5;241m=\u001b[39m \u001b[43mUserImmutable\u001b[49m\u001b[43m(\u001b[49m\u001b[38;5;124;43m\"\u001b[39;49m\u001b[38;5;124;43mname\u001b[39;49m\u001b[38;5;124;43m\"\u001b[39;49m\u001b[43m)\u001b[49m\n\u001b[1;32m     11\u001b[0m user\u001b[38;5;241m.\u001b[39mval \u001b[38;5;241m=\u001b[39m \u001b[38;5;124m\"\u001b[39m\u001b[38;5;124mtree\u001b[39m\u001b[38;5;124m\"\u001b[39m\n",
      "Cell \u001b[0;32mIn [45], line 3\u001b[0m, in \u001b[0;36mUserImmutable.__init__\u001b[0;34m(self, val)\u001b[0m\n\u001b[1;32m      2\u001b[0m \u001b[38;5;28;01mdef\u001b[39;00m \u001b[38;5;21m__init__\u001b[39m(\u001b[38;5;28mself\u001b[39m, val):\n\u001b[0;32m----> 3\u001b[0m     \u001b[38;5;28;43mself\u001b[39;49m\u001b[38;5;241;43m.\u001b[39;49m\u001b[43mval\u001b[49m \u001b[38;5;241m=\u001b[39m val\n",
      "Cell \u001b[0;32mIn [45], line 7\u001b[0m, in \u001b[0;36mUserImmutable.__setattr__\u001b[0;34m(self, name, val)\u001b[0m\n\u001b[1;32m      5\u001b[0m \u001b[38;5;28;01mdef\u001b[39;00m \u001b[38;5;21m__setattr__\u001b[39m(\u001b[38;5;28mself\u001b[39m, name, val):\n\u001b[1;32m      6\u001b[0m     \u001b[38;5;28mprint\u001b[39m(\u001b[38;5;124mf\u001b[39m\u001b[38;5;124m\"\u001b[39m\u001b[38;5;132;01m{\u001b[39;00mname\u001b[38;5;132;01m=}\u001b[39;00m\u001b[38;5;124m, \u001b[39m\u001b[38;5;132;01m{\u001b[39;00mval\u001b[38;5;132;01m=}\u001b[39;00m\u001b[38;5;124m\"\u001b[39m)\n\u001b[0;32m----> 7\u001b[0m     \u001b[38;5;28;01mraise\u001b[39;00m \u001b[38;5;167;01mTypeError\u001b[39;00m(\u001b[38;5;124m'\u001b[39m\u001b[38;5;124mImmutable!!!\u001b[39m\u001b[38;5;124m'\u001b[39m)\n",
      "\u001b[0;31mTypeError\u001b[0m: Immutable!!!"
     ]
    }
   ],
   "source": [
    "class UserImmutable:\n",
    "    def __init__(self, val):\n",
    "        self.val = val\n",
    "\n",
    "    def __setattr__(self, name, val):\n",
    "        print(f\"{name=}, {val=}\")\n",
    "        raise TypeError('Immutable!!!')\n",
    "\n",
    "\n",
    "user = UserImmutable(\"name\")\n",
    "user.val = \"tree\"  # Fail"
   ]
  },
  {
   "cell_type": "code",
   "execution_count": 43,
   "id": "5b51c02f",
   "metadata": {},
   "outputs": [
    {
     "data": {
      "text/plain": [
       "{'val': 'tree',\n",
       " '__setattr__': <bound method UserImmutable.fake__setattr__ of <__main__.UserImmutable object at 0x11055ef20>>}"
      ]
     },
     "execution_count": 43,
     "metadata": {},
     "output_type": "execute_result"
    }
   ],
   "source": [
    "user.__dict__"
   ]
  },
  {
   "cell_type": "code",
   "execution_count": 44,
   "id": "add986a0",
   "metadata": {},
   "outputs": [],
   "source": [
    "user.val = \"tre\""
   ]
  },
  {
   "cell_type": "code",
   "execution_count": null,
   "id": "b9633ef3",
   "metadata": {},
   "outputs": [],
   "source": []
  },
  {
   "cell_type": "code",
   "execution_count": null,
   "id": "6b1535a6",
   "metadata": {},
   "outputs": [],
   "source": []
  },
  {
   "cell_type": "code",
   "execution_count": null,
   "id": "268d8d0b",
   "metadata": {},
   "outputs": [],
   "source": []
  },
  {
   "cell_type": "code",
   "execution_count": 46,
   "id": "5e6c0f0d",
   "metadata": {},
   "outputs": [
    {
     "name": "stdout",
     "output_type": "stream",
     "text": [
      "[1, 2, 3]\n"
     ]
    }
   ],
   "source": [
    "lst = [1, 2, 3]\n",
    "\n",
    "if lst:\n",
    "    print(lst)"
   ]
  },
  {
   "cell_type": "code",
   "execution_count": 48,
   "id": "f0c46a19",
   "metadata": {},
   "outputs": [
    {
     "name": "stdout",
     "output_type": "stream",
     "text": [
      "empty\n"
     ]
    }
   ],
   "source": [
    "lst = []\n",
    "\n",
    "if lst:\n",
    "    print(lst)\n",
    "else:\n",
    "    print('empty')"
   ]
  },
  {
   "cell_type": "code",
   "execution_count": 51,
   "id": "f7def5a2",
   "metadata": {},
   "outputs": [
    {
     "name": "stdout",
     "output_type": "stream",
     "text": [
      "()\n"
     ]
    }
   ],
   "source": [
    "res = () and (1, 2, 3)\n",
    "print(res)"
   ]
  },
  {
   "cell_type": "code",
   "execution_count": 69,
   "id": "8df1db1c",
   "metadata": {},
   "outputs": [
    {
     "name": "stdout",
     "output_type": "stream",
     "text": [
      "1\n"
     ]
    }
   ],
   "source": [
    "def print1():\n",
    "    print(1)\n",
    "#     return 111\n",
    "    return None\n",
    "\n",
    "    \n",
    "def print2():\n",
    "    print(2)\n",
    "#     return 222\n",
    "    return\n",
    "\n",
    "\n",
    "print1() and print2()\n"
   ]
  },
  {
   "cell_type": "code",
   "execution_count": 71,
   "id": "7fc52fb9",
   "metadata": {},
   "outputs": [
    {
     "name": "stdout",
     "output_type": "stream",
     "text": [
      "1\n",
      "2\n"
     ]
    }
   ],
   "source": [
    "print1() or print2()"
   ]
  },
  {
   "cell_type": "code",
   "execution_count": 72,
   "id": "6742461b",
   "metadata": {},
   "outputs": [
    {
     "name": "stdout",
     "output_type": "stream",
     "text": [
      "1\n"
     ]
    },
    {
     "data": {
      "text/plain": [
       "111"
      ]
     },
     "execution_count": 72,
     "metadata": {},
     "output_type": "execute_result"
    }
   ],
   "source": [
    "def print1():\n",
    "    print(1)\n",
    "    return 111\n",
    "\n",
    "    \n",
    "def print2():\n",
    "    print(2)\n",
    "    return 222\n",
    "\n",
    "\n",
    "print1() or print2()"
   ]
  },
  {
   "cell_type": "markdown",
   "id": "8710a1bb",
   "metadata": {},
   "source": [
    "## False"
   ]
  },
  {
   "cell_type": "code",
   "execution_count": 75,
   "id": "12fa18cf",
   "metadata": {},
   "outputs": [
    {
     "name": "stdout",
     "output_type": "stream",
     "text": [
      "42\n"
     ]
    }
   ],
   "source": [
    "print(\n",
    "    None or 0 or [] or {} or 0.0 or False\n",
    "    or set() or () or \"\" or b\"\" or 42\n",
    ")"
   ]
  },
  {
   "cell_type": "code",
   "execution_count": 76,
   "id": "2cf559d7",
   "metadata": {},
   "outputs": [],
   "source": [
    "if (\n",
    "    None\n",
    "    or 0\n",
    "    or []\n",
    "):\n",
    "    pass"
   ]
  },
  {
   "cell_type": "code",
   "execution_count": 93,
   "id": "59e3cd40",
   "metadata": {},
   "outputs": [],
   "source": [
    "def fn(\n",
    "    super_long=12,\n",
    "    extra_super_long=9999999\n",
    "):\n",
    "    pass\n",
    "\n",
    "\n",
    "res = fn(\n",
    "    super_long=12,\n",
    "    extra_super_long=9999999,\n",
    ")"
   ]
  },
  {
   "cell_type": "code",
   "execution_count": 77,
   "id": "85b51e1b",
   "metadata": {},
   "outputs": [
    {
     "name": "stdout",
     "output_type": "stream",
     "text": [
      "2\n"
     ]
    }
   ],
   "source": [
    "x = (1 + 1)\n",
    "print(x)"
   ]
  },
  {
   "cell_type": "code",
   "execution_count": 78,
   "id": "27068433",
   "metadata": {},
   "outputs": [
    {
     "name": "stdout",
     "output_type": "stream",
     "text": [
      "(2,)\n"
     ]
    }
   ],
   "source": [
    "x = (1 + 1,)\n",
    "print(x)"
   ]
  },
  {
   "cell_type": "code",
   "execution_count": 84,
   "id": "26204128",
   "metadata": {},
   "outputs": [
    {
     "name": "stdout",
     "output_type": "stream",
     "text": [
      "<_io.TextIOWrapper name='README.md' mode='r' encoding='UTF-8'> <_io.TextIOWrapper name='README.md' mode='r' encoding='UTF-8'>\n"
     ]
    }
   ],
   "source": [
    "with (\n",
    "    open('README.md') as xxx,\n",
    "    open('README.md') as yyy,\n",
    "):\n",
    "    print(xxx, yyy)\n",
    "    "
   ]
  },
  {
   "cell_type": "code",
   "execution_count": 88,
   "id": "8d7b1885",
   "metadata": {},
   "outputs": [],
   "source": [
    "from sys import (\n",
    "    getdefaultencoding,\n",
    "    getrecursionlimit,\n",
    ")"
   ]
  },
  {
   "cell_type": "code",
   "execution_count": 95,
   "id": "ca78d1ff",
   "metadata": {},
   "outputs": [
    {
     "name": "stdout",
     "output_type": "stream",
     "text": [
      "abc123\n"
     ]
    }
   ],
   "source": [
    "s = (\n",
    "    \"abc\"\n",
    "    \"123\"\n",
    ")\n",
    "print(s)\n",
    "\n",
    "fn(\n",
    "    \"abc\"\n",
    "    \"123\"\n",
    ")"
   ]
  },
  {
   "cell_type": "code",
   "execution_count": null,
   "id": "819a699d",
   "metadata": {},
   "outputs": [],
   "source": []
  },
  {
   "cell_type": "code",
   "execution_count": 60,
   "id": "6d1ab89c",
   "metadata": {},
   "outputs": [
    {
     "data": {
      "text/plain": [
       "[1, 6]"
      ]
     },
     "execution_count": 60,
     "metadata": {},
     "output_type": "execute_result"
    }
   ],
   "source": [
    "[1] and [1, 2] and [1, 6] or []"
   ]
  },
  {
   "cell_type": "code",
   "execution_count": 65,
   "id": "fe8c768b",
   "metadata": {},
   "outputs": [
    {
     "name": "stdout",
     "output_type": "stream",
     "text": [
      "no\n"
     ]
    }
   ],
   "source": [
    "d = {}\n",
    "if \"key\" in d and len(d[\"key\"]) > 10 and d[\"key\"][10] == \"niddle\":\n",
    "    print(\"yes\")\n",
    "else:\n",
    "    print(\"no\")"
   ]
  },
  {
   "cell_type": "code",
   "execution_count": 66,
   "id": "3dbe4586",
   "metadata": {},
   "outputs": [
    {
     "name": "stdout",
     "output_type": "stream",
     "text": [
      "yes\n"
     ]
    }
   ],
   "source": [
    "d = {\"key\": [\"niddle\"] * 11}\n",
    "\n",
    "if \"key\" in d and len(d[\"key\"]) > 10 and d[\"key\"][10] == \"niddle\":\n",
    "    print(\"yes\")\n",
    "else:\n",
    "    print(\"no\")"
   ]
  },
  {
   "cell_type": "code",
   "execution_count": 68,
   "id": "cefba7e5",
   "metadata": {},
   "outputs": [
    {
     "name": "stdout",
     "output_type": "stream",
     "text": [
      "niddle\n"
     ]
    }
   ],
   "source": [
    "res = \"key\" in d and len(d[\"key\"]) > 10 and d[\"key\"][10]\n",
    "print(res)"
   ]
  },
  {
   "cell_type": "code",
   "execution_count": null,
   "id": "64f0385a",
   "metadata": {},
   "outputs": [],
   "source": []
  },
  {
   "cell_type": "code",
   "execution_count": 99,
   "id": "a4fb4e01",
   "metadata": {},
   "outputs": [
    {
     "name": "stdout",
     "output_type": "stream",
     "text": [
      "(1, 2, [3, 4], 5, 6, [7, 8])\n",
      "(1, 2, [3, 4, 99], 5, 6, [7, 8])\n",
      "(1, 2, [3, 4, 99])\n"
     ]
    }
   ],
   "source": [
    "tp1 = (1, 2, [3, 4])\n",
    "tp2 = (5, 6, [7, 8])\n",
    "\n",
    "tp = tp1 + tp2\n",
    "print(tp)\n",
    "\n",
    "tp[2].append(99)\n",
    "print(tp)\n",
    "print(tp1)"
   ]
  },
  {
   "cell_type": "code",
   "execution_count": 102,
   "id": "0266b4d0",
   "metadata": {},
   "outputs": [
    {
     "data": {
      "text/plain": [
       "(('q', 'w', 'e', 'r', 't', 'y'), (1, 2, 3))"
      ]
     },
     "execution_count": 102,
     "metadata": {},
     "output_type": "execute_result"
    }
   ],
   "source": [
    "tuple(\"qwerty\"), tuple([1, 2, 3])"
   ]
  },
  {
   "cell_type": "code",
   "execution_count": null,
   "id": "5a109e6f",
   "metadata": {},
   "outputs": [],
   "source": []
  },
  {
   "cell_type": "code",
   "execution_count": 104,
   "id": "91fb53bf",
   "metadata": {},
   "outputs": [
    {
     "name": "stdout",
     "output_type": "stream",
     "text": [
      "['q', 'w', 'e', 'r', 't', 'y']\n"
     ]
    }
   ],
   "source": [
    "lst = []\n",
    "lst = list(\"qwerty\")\n",
    "print(lst)"
   ]
  },
  {
   "cell_type": "code",
   "execution_count": 109,
   "id": "b8a5faa7",
   "metadata": {},
   "outputs": [
    {
     "name": "stdout",
     "output_type": "stream",
     "text": [
      "['99']\n",
      "['99', 5, 6, [7, 8]]\n",
      "['99', 5, 6, [7, 8], (5, 6, [7, 8])]\n"
     ]
    }
   ],
   "source": [
    "lst = []\n",
    "\n",
    "lst.append('99')\n",
    "print(lst)\n",
    "\n",
    "lst.extend(tp2)\n",
    "print(lst)\n",
    "\n",
    "lst.append(tp2)\n",
    "print(lst)"
   ]
  },
  {
   "cell_type": "code",
   "execution_count": 112,
   "id": "f7a81b3e",
   "metadata": {},
   "outputs": [
    {
     "name": "stdout",
     "output_type": "stream",
     "text": [
      "['99', [7, 8], (5, 6, [7, 8])]\n"
     ]
    }
   ],
   "source": [
    "lst.remove(6)\n",
    "print(lst)"
   ]
  },
  {
   "cell_type": "code",
   "execution_count": 113,
   "id": "e354a8d1",
   "metadata": {},
   "outputs": [
    {
     "ename": "ValueError",
     "evalue": "list.remove(x): x not in list",
     "output_type": "error",
     "traceback": [
      "\u001b[0;31m---------------------------------------------------------------------------\u001b[0m",
      "\u001b[0;31mValueError\u001b[0m                                Traceback (most recent call last)",
      "Cell \u001b[0;32mIn [113], line 1\u001b[0m\n\u001b[0;32m----> 1\u001b[0m \u001b[43mlst\u001b[49m\u001b[38;5;241;43m.\u001b[39;49m\u001b[43mremove\u001b[49m\u001b[43m(\u001b[49m\u001b[38;5;241;43m6\u001b[39;49m\u001b[43m)\u001b[49m\n\u001b[1;32m      2\u001b[0m \u001b[38;5;28mprint\u001b[39m(lst)\n",
      "\u001b[0;31mValueError\u001b[0m: list.remove(x): x not in list"
     ]
    }
   ],
   "source": [
    "lst.remove(6)\n",
    "print(lst)"
   ]
  },
  {
   "cell_type": "code",
   "execution_count": 118,
   "id": "8a2d4d82",
   "metadata": {},
   "outputs": [
    {
     "name": "stdout",
     "output_type": "stream",
     "text": [
      "[1, 1]\n"
     ]
    }
   ],
   "source": [
    "x = [1, 1, 1]\n",
    "x.remove(1)\n",
    "print(x)"
   ]
  },
  {
   "cell_type": "code",
   "execution_count": 123,
   "id": "fc70bc15",
   "metadata": {},
   "outputs": [
    {
     "name": "stdout",
     "output_type": "stream",
     "text": [
      "[0, 1, 2, 3, 4]\n",
      "[1, 2, 3, 4]\n",
      "[2, 3, 4]\n",
      "[2, 4]\n"
     ]
    }
   ],
   "source": [
    "lst = [1, 2, 3, 4, 5]\n",
    "lst.insert(0, 0)\n",
    "lst.pop()\n",
    "print(lst)\n",
    "\n",
    "lst.pop(0)\n",
    "print(lst)\n",
    "\n",
    "lst.pop(0)\n",
    "print(lst)\n",
    "\n",
    "lst.pop(1)\n",
    "print(lst)"
   ]
  },
  {
   "cell_type": "code",
   "execution_count": 124,
   "id": "748b894f",
   "metadata": {},
   "outputs": [
    {
     "name": "stdout",
     "output_type": "stream",
     "text": [
      "[0, 2, 4, 6, 8]\n"
     ]
    }
   ],
   "source": [
    "lst = list(range(0, 10, 2))\n",
    "print(lst)"
   ]
  },
  {
   "cell_type": "code",
   "execution_count": 129,
   "id": "3a162742",
   "metadata": {},
   "outputs": [
    {
     "name": "stdout",
     "output_type": "stream",
     "text": [
      "[0, 1, 2, 3, 4, 5, 6, 7, 8, 9]\n",
      "[0, 1, 2, 3, 4, 5, 6, 7, 8, 9]\n",
      "[0, 1, 2, 3, 4, 5, 6, 7, 8, 9]\n",
      "[1, 3, 5]\n"
     ]
    }
   ],
   "source": [
    "lst = list(range(10))\n",
    "print(lst)\n",
    "\n",
    "print(lst[0:len(lst):1])\n",
    "print(lst[:])\n",
    "\n",
    "print(lst[1:6:2])"
   ]
  },
  {
   "cell_type": "code",
   "execution_count": 134,
   "id": "81ffa02a",
   "metadata": {},
   "outputs": [
    {
     "name": "stdout",
     "output_type": "stream",
     "text": [
      "[0, 1, 2, 3, 4, 5, 6, 7, 8, 9] 4591239552\n",
      "4591205952\n",
      "-------\n",
      "base 4579666560\n",
      "[1, 10] 4579666560\n"
     ]
    }
   ],
   "source": [
    "lst = list(range(10))\n",
    "print(lst, id(lst))\n",
    "\n",
    "lst = [1, 10]\n",
    "print(id(lst))\n",
    "\n",
    "print('-------')\n",
    "\n",
    "lst = list(range(10))\n",
    "print('base', id(lst))\n",
    "\n",
    "lst[:] = [1, 10]\n",
    "print(lst, id(lst))"
   ]
  },
  {
   "cell_type": "code",
   "execution_count": 137,
   "id": "ef6bc8f8",
   "metadata": {},
   "outputs": [
    {
     "name": "stdout",
     "output_type": "stream",
     "text": [
      "[0, 1, 2, 3, 4, 5, 6, 7, 8, 9]\n",
      "[0, 1, 2, 98, 99, 8, 9]\n",
      "[]\n"
     ]
    }
   ],
   "source": [
    "lst = list(range(10))\n",
    "print(lst)\n",
    "\n",
    "lst[3:8] = [98, 99]\n",
    "print(lst)\n",
    "\n",
    "lst[:] = []\n",
    "print(lst)"
   ]
  },
  {
   "cell_type": "code",
   "execution_count": 139,
   "id": "a52cca34",
   "metadata": {},
   "outputs": [
    {
     "name": "stdout",
     "output_type": "stream",
     "text": [
      "[0, 1, 2, 3, 4, 5, 6, 7, 8, 9]\n",
      "[0, 1, 2, 98, 4, 99, 6, 7, 8, 9]\n"
     ]
    },
    {
     "ename": "ValueError",
     "evalue": "attempt to assign sequence of size 3 to extended slice of size 2",
     "output_type": "error",
     "traceback": [
      "\u001b[0;31m---------------------------------------------------------------------------\u001b[0m",
      "\u001b[0;31mValueError\u001b[0m                                Traceback (most recent call last)",
      "Cell \u001b[0;32mIn [139], line 7\u001b[0m\n\u001b[1;32m      4\u001b[0m lst[\u001b[38;5;241m3\u001b[39m:\u001b[38;5;241m6\u001b[39m:\u001b[38;5;241m2\u001b[39m] \u001b[38;5;241m=\u001b[39m [\u001b[38;5;241m98\u001b[39m, \u001b[38;5;241m99\u001b[39m]\n\u001b[1;32m      5\u001b[0m \u001b[38;5;28mprint\u001b[39m(lst)\n\u001b[0;32m----> 7\u001b[0m \u001b[43mlst\u001b[49m\u001b[43m[\u001b[49m\u001b[38;5;241;43m3\u001b[39;49m\u001b[43m:\u001b[49m\u001b[38;5;241;43m6\u001b[39;49m\u001b[43m:\u001b[49m\u001b[38;5;241;43m2\u001b[39;49m\u001b[43m]\u001b[49m \u001b[38;5;241m=\u001b[39m [\u001b[38;5;241m98\u001b[39m, \u001b[38;5;241m99\u001b[39m, \u001b[38;5;241m100\u001b[39m]\n\u001b[1;32m      8\u001b[0m \u001b[38;5;28mprint\u001b[39m(lst)\n",
      "\u001b[0;31mValueError\u001b[0m: attempt to assign sequence of size 3 to extended slice of size 2"
     ]
    }
   ],
   "source": [
    "lst = list(range(10))\n",
    "print(lst)\n",
    "\n",
    "lst[3:6:2] = [98, 99]\n",
    "print(lst)\n",
    "\n",
    "lst[3:6:2] = [98, 99, 100]\n",
    "print(lst)"
   ]
  },
  {
   "cell_type": "code",
   "execution_count": 143,
   "id": "3c4e86d2",
   "metadata": {
    "collapsed": true
   },
   "outputs": [
    {
     "name": "stdout",
     "output_type": "stream",
     "text": [
      "[0, 1, 2, 3, 4]\n",
      "0\n",
      "1\n",
      "2\n",
      "3\n",
      "4\n",
      "=====\n",
      "0\n",
      "1\n",
      "2\n",
      "3\n",
      "4\n"
     ]
    }
   ],
   "source": [
    "lst = list(range(5))\n",
    "print(lst)\n",
    "\n",
    "for n in lst:\n",
    "    print(n)\n",
    "\n",
    "print('=====')\n",
    "\n",
    "i = 0\n",
    "while i < len(lst):\n",
    "    print(lst[i])\n",
    "    i += 1"
   ]
  },
  {
   "cell_type": "code",
   "execution_count": null,
   "id": "9cb87ff2",
   "metadata": {},
   "outputs": [],
   "source": []
  },
  {
   "cell_type": "code",
   "execution_count": null,
   "id": "11a73eb7",
   "metadata": {},
   "outputs": [],
   "source": []
  },
  {
   "cell_type": "code",
   "execution_count": 146,
   "id": "75e2b6a8",
   "metadata": {},
   "outputs": [
    {
     "name": "stdout",
     "output_type": "stream",
     "text": [
      "[0, 1, 2, 3, 4]\n",
      "10 0\n",
      "11 1\n",
      "12 2\n",
      "13 3\n",
      "14 4\n"
     ]
    }
   ],
   "source": [
    "lst = list(range(5))\n",
    "print(lst)\n",
    "\n",
    "for i, n in enumerate(lst, 10):\n",
    "    print(i, n)"
   ]
  },
  {
   "cell_type": "code",
   "execution_count": null,
   "id": "5b104e97",
   "metadata": {},
   "outputs": [],
   "source": []
  },
  {
   "cell_type": "code",
   "execution_count": null,
   "id": "27facf40",
   "metadata": {},
   "outputs": [],
   "source": []
  },
  {
   "cell_type": "code",
   "execution_count": 155,
   "id": "6f5f0620",
   "metadata": {},
   "outputs": [
    {
     "name": "stdout",
     "output_type": "stream",
     "text": [
      "{} {1: 11, 2: 22} {'q': 33, 'w': 44}\n",
      "{1: 11, 2: 22, 'q': 33, 'w': 44}\n",
      "{1: 11, 2: 22, 'q': 33, 'w': 44, 42: 4422}\n",
      "4422\n",
      "pop 4422\n",
      "{1: 11, 2: 22, 'q': 33, 'w': 44}\n",
      "pop default\n",
      "{1: 11, 2: 22, 'q': 33, 'w': 44}\n",
      "False True\n"
     ]
    }
   ],
   "source": [
    "dct1 = {}\n",
    "dct2 = {1: 11, 2: 22}\n",
    "dct3 = dict(q=33, w=44)\n",
    "\n",
    "print(dct1, dct2, dct3)\n",
    "\n",
    "dct4 = {**dct1, **dct2, **dct3}\n",
    "print(dct4)\n",
    "\n",
    "dct4[42] = 4422\n",
    "print(dct4)\n",
    "print(dct4[42])\n",
    "\n",
    "print('pop', dct4.pop(42))\n",
    "print(dct4)\n",
    "\n",
    "\n",
    "print('pop', dct4.pop(42, \"default\"))\n",
    "print(dct4)\n",
    "\n",
    "print(42 in dct4, 1 in dct4)\n"
   ]
  },
  {
   "cell_type": "code",
   "execution_count": 165,
   "id": "91bd9836",
   "metadata": {},
   "outputs": [
    {
     "name": "stdout",
     "output_type": "stream",
     "text": [
      "1\n",
      "2\n",
      "0\n",
      "keys()\n",
      "1\n",
      "2\n",
      "0\n",
      "values()\n",
      "11\n",
      "22\n",
      "0\n",
      "items()\n",
      "1 11\n",
      "2 22\n",
      "0 0\n",
      "\n",
      "enumerate()\n",
      "0 (1, 11)\n",
      "1 (2, 22)\n",
      "2 (0, 0)\n",
      "\n",
      "enumerate()\n",
      "0 1 11\n",
      "1 2 22\n",
      "2 0 0\n"
     ]
    }
   ],
   "source": [
    "dct = {1: 11, 2: 22, 0: 0}\n",
    "\n",
    "for i in dct:\n",
    "    print(i)\n",
    "    \n",
    "print('keys()')\n",
    "for i in dct.keys():\n",
    "    print(i)\n",
    "\n",
    "print('values()')\n",
    "for i in dct.values():\n",
    "    print(i)\n",
    "    \n",
    "print('items()')\n",
    "for key, val in dct.items():\n",
    "    print(key, val)\n",
    "    \n",
    "print('\\nenumerate()')\n",
    "for i, val in enumerate(dct.items()):\n",
    "    print(i, val)\n",
    "    \n",
    "print('\\nenumerate()')\n",
    "for i, (key, val) in enumerate(dct.items()):\n",
    "    print(i, key, val)"
   ]
  },
  {
   "cell_type": "code",
   "execution_count": 159,
   "id": "a5a56216",
   "metadata": {},
   "outputs": [
    {
     "data": {
      "text/plain": [
       "dict_keys([1, 2])"
      ]
     },
     "execution_count": 159,
     "metadata": {},
     "output_type": "execute_result"
    }
   ],
   "source": [
    "dct.keys()"
   ]
  },
  {
   "cell_type": "code",
   "execution_count": 169,
   "id": "f74f6ac5",
   "metadata": {},
   "outputs": [
    {
     "name": "stdout",
     "output_type": "stream",
     "text": [
      "11\n",
      "False\n",
      "None\n",
      "-1\n"
     ]
    }
   ],
   "source": [
    "dct = {1: 11, 2: 22, 0: 0}\n",
    "\n",
    "print(dct[1])\n",
    "print(99 in dct and dct[99])\n",
    "print(dct.get(99))\n",
    "print(dct.get(99, -1))\n"
   ]
  },
  {
   "cell_type": "code",
   "execution_count": 172,
   "id": "6d1be22d",
   "metadata": {},
   "outputs": [
    {
     "name": "stdout",
     "output_type": "stream",
     "text": [
      "99 <__main__.OurObj object at 0x111dc12d0>\n",
      "<object object at 0x110f5b180>\n"
     ]
    }
   ],
   "source": [
    "class OurObj:\n",
    "    def __bool__(self):\n",
    "        return False\n",
    "\n",
    "    \n",
    "obj = OurObj()\n",
    "print(obj or 99, obj and 99)\n",
    "\n",
    "\n",
    "obj1 = object()\n",
    "print(obj1 or 99)"
   ]
  },
  {
   "cell_type": "code",
   "execution_count": null,
   "id": "481c117f",
   "metadata": {},
   "outputs": [],
   "source": []
  },
  {
   "cell_type": "code",
   "execution_count": 177,
   "id": "41560324",
   "metadata": {},
   "outputs": [],
   "source": [
    "# counter([1, 2, 3, 1, 4, 1, 4]) -> {1: 3, 2: 1, 3: 1, 4: 2}\n",
    "\n",
    "def counter(nums):\n",
    "    freq = {}\n",
    "\n",
    "    for n in nums:\n",
    "        if n in freq:\n",
    "            freq[n] += 1\n",
    "        else:\n",
    "            freq[n] = 1\n",
    "\n",
    "    return freq\n",
    "\n",
    "\n",
    "assert counter([1, 2, 3, 1, 4, 1, 4]) == {1: 3, 2: 1, 3: 1, 4: 2}\n",
    "assert counter([]) == {}\n",
    "assert counter([1, 1, 1, 1]) == {1: 4}"
   ]
  },
  {
   "cell_type": "code",
   "execution_count": null,
   "id": "46d98d25",
   "metadata": {},
   "outputs": [],
   "source": []
  },
  {
   "cell_type": "code",
   "execution_count": 181,
   "id": "3df6af91",
   "metadata": {},
   "outputs": [],
   "source": [
    "# counter_k([1, 2, 3, 1, 4, 1, 4], 2) -> {1: 3, 4: 2}\n",
    "\n",
    "def counter_k(nums, k):\n",
    "    freq = {}\n",
    "\n",
    "    for n in nums:\n",
    "        if n in freq:\n",
    "            freq[n] += 1\n",
    "        else:\n",
    "            freq[n] = 1\n",
    "\n",
    "    return {n: fr for n, fr in freq.items() if fr >= k}\n",
    "\n",
    "\n",
    "assert counter_k([1, 2, 3, 1, 4, 1, 4], 2) == {1: 3, 4: 2}\n",
    "assert counter_k([], 1) == {}\n",
    "assert counter_k([1, 1, 1, 1], 4) == {1: 4}\n",
    "assert counter_k([1, 1, 1, 1], 5) == {}"
   ]
  },
  {
   "cell_type": "code",
   "execution_count": 196,
   "id": "bcd2fb63",
   "metadata": {},
   "outputs": [
    {
     "name": "stdout",
     "output_type": "stream",
     "text": [
      "[4, 7, 23, 45, 7, 8, 6, 3, 1, 4, 6]\n",
      "[1, 3, 4, 4, 6, 6, 7, 7, 8, 23, 45]\n",
      "[45, 23, 8, 7, 7, 6, 6, 4, 4, 3, 1]\n",
      "[1, 23, 3, 4, 4, 45, 6, 6, 7, 7, 8]\n",
      "[1, 23, 3, 4, 4, 45, 6, 6, 7, 7, 8]\n"
     ]
    }
   ],
   "source": [
    "lst = [4,7,23,45,7,8,6,3,1,4,6]\n",
    "print(lst)\n",
    "\n",
    "print(\n",
    "    sorted(lst)\n",
    ")\n",
    "\n",
    "print(\n",
    "    sorted(lst, reverse=True)\n",
    ")\n",
    "\n",
    "print(\n",
    "    sorted(lst, key=str)\n",
    ")\n",
    "# (4, \"4\"), (7, \"7\"), (23, \"23\")\n",
    "\n",
    "\n",
    "print(\n",
    "    sorted(lst, key=str)\n",
    ")\n",
    "# (4, \"4\"), (7, \"7\"), (23, \"23\")\n",
    "\n",
    "\n"
   ]
  },
  {
   "cell_type": "code",
   "execution_count": 189,
   "id": "a5cd6745",
   "metadata": {},
   "outputs": [
    {
     "data": {
      "text/plain": [
       "False"
      ]
     },
     "execution_count": 189,
     "metadata": {},
     "output_type": "execute_result"
    }
   ],
   "source": [
    "[(2, 1,)] < [(2,)]"
   ]
  },
  {
   "cell_type": "code",
   "execution_count": 192,
   "id": "4a8c47e3",
   "metadata": {},
   "outputs": [
    {
     "data": {
      "text/plain": [
       "(True, True)"
      ]
     },
     "execution_count": 192,
     "metadata": {},
     "output_type": "execute_result"
    }
   ],
   "source": [
    "\"a\" < \"b\", \"abc\" > \"abb\""
   ]
  },
  {
   "cell_type": "code",
   "execution_count": 195,
   "id": "c142e984",
   "metadata": {},
   "outputs": [
    {
     "data": {
      "text/plain": [
       "True"
      ]
     },
     "execution_count": 195,
     "metadata": {},
     "output_type": "execute_result"
    }
   ],
   "source": [
    "b\"a\" < b\"b\""
   ]
  },
  {
   "cell_type": "code",
   "execution_count": 202,
   "id": "62804ebb",
   "metadata": {},
   "outputs": [
    {
     "name": "stdout",
     "output_type": "stream",
     "text": [
      "[1, 2, 3, 5, 6, 7, 8, 9]\n",
      "[7, 5, 8, 2, 6, 1, 9, 3]\n",
      "[7, 5, 8, 2, 6, 1, 9, 3]\n",
      "[7, 8, 5, 2, 6, 9, 1, 3]\n"
     ]
    }
   ],
   "source": [
    "d = {1: 99, 2: 44, 3: 100, 5: 1, 6: 60, 7: 0, 8: 1, 9: 99}\n",
    "\n",
    "print(list(d))\n",
    "\n",
    "print(\n",
    "    sorted(d, key=lambda x: d.get(x))\n",
    ")\n",
    "\n",
    "print(\n",
    "    sorted(d, key=d.get)\n",
    ")\n",
    "\n",
    "\n",
    "print(\n",
    "    sorted(d, key=lambda x: (d.get(x, -1), -x))\n",
    ")\n"
   ]
  },
  {
   "cell_type": "code",
   "execution_count": 204,
   "id": "e7e632d5",
   "metadata": {},
   "outputs": [
    {
     "name": "stdout",
     "output_type": "stream",
     "text": [
      "[0, 1, 2, 3, 4, 5, 6, 7, 8, 9]\n",
      "[4, 0, 7, 8, 5, 2, 6, 9, 1, 3]\n"
     ]
    }
   ],
   "source": [
    "lst = list(range(10))\n",
    "print(lst)\n",
    "\n",
    "lst.sort(key=lambda x: (d.get(x, -1), -x))\n",
    "print(lst)"
   ]
  },
  {
   "cell_type": "code",
   "execution_count": null,
   "id": "e524f2a3",
   "metadata": {},
   "outputs": [],
   "source": []
  }
 ],
 "metadata": {
  "kernelspec": {
   "display_name": "Python 3 (ipykernel)",
   "language": "python",
   "name": "python3"
  },
  "language_info": {
   "codemirror_mode": {
    "name": "ipython",
    "version": 3
   },
   "file_extension": ".py",
   "mimetype": "text/x-python",
   "name": "python",
   "nbconvert_exporter": "python",
   "pygments_lexer": "ipython3",
   "version": "3.10.2"
  }
 },
 "nbformat": 4,
 "nbformat_minor": 5
}
