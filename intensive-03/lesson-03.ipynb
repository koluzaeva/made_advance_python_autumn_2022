{
 "cells": [
  {
   "cell_type": "code",
   "execution_count": 17,
   "id": "46e19a45",
   "metadata": {},
   "outputs": [],
   "source": [
    "# https://github.com/dunovank/jupyter-themes\n",
    "# pip install jupyterthemes\n",
    "# jt -t chesterish\n",
    "def square(x):\n",
    "    return x * x, x"
   ]
  },
  {
   "cell_type": "code",
   "execution_count": 19,
   "id": "402ec461",
   "metadata": {},
   "outputs": [],
   "source": [
    "res, value = square(10)"
   ]
  },
  {
   "cell_type": "code",
   "execution_count": 20,
   "id": "94eae87b",
   "metadata": {},
   "outputs": [
    {
     "name": "stdout",
     "output_type": "stream",
     "text": [
      "res=100, value=10\n"
     ]
    }
   ],
   "source": [
    "print(f\"{res=}, {value=}\")"
   ]
  },
  {
   "cell_type": "markdown",
   "id": "d0eb5689",
   "metadata": {},
   "source": [
    "# Аргументы функции"
   ]
  },
  {
   "cell_type": "code",
   "execution_count": 21,
   "id": "d7e0ebd9",
   "metadata": {},
   "outputs": [],
   "source": [
    "def get_docs():\n",
    "    return [\"doc1\", \"doc2\"]"
   ]
  },
  {
   "cell_type": "code",
   "execution_count": 33,
   "id": "c59618a3",
   "metadata": {},
   "outputs": [],
   "source": [
    "def my_sum(a, b, c=0):\n",
    "    print(f\"{a=}, {b=}, {c=}\")\n",
    "    return a + b + c"
   ]
  },
  {
   "cell_type": "code",
   "execution_count": 35,
   "id": "98b95caa",
   "metadata": {},
   "outputs": [
    {
     "name": "stdout",
     "output_type": "stream",
     "text": [
      "a=0, b=15, c=10\n"
     ]
    },
    {
     "data": {
      "text/plain": [
       "25"
      ]
     },
     "execution_count": 35,
     "metadata": {},
     "output_type": "execute_result"
    }
   ],
   "source": [
    "my_sum(c=10, b=15, a=0)"
   ]
  },
  {
   "cell_type": "code",
   "execution_count": 36,
   "id": "6fe98532",
   "metadata": {},
   "outputs": [
    {
     "name": "stdout",
     "output_type": "stream",
     "text": [
      "10 asdfsadfs None True\n"
     ]
    }
   ],
   "source": [
    "print(10, \"asdfsadfs\", None, True)"
   ]
  },
  {
   "cell_type": "code",
   "execution_count": 57,
   "id": "2b526972",
   "metadata": {},
   "outputs": [],
   "source": [
    "def foo(*args):\n",
    "    if len(args) == 0:\n",
    "        return None\n",
    "    res = args[0]\n",
    "    for idx in range(1, len(args)):\n",
    "        res += args[idx]\n",
    "    return res\n",
    "    "
   ]
  },
  {
   "cell_type": "code",
   "execution_count": 60,
   "id": "c559be9a",
   "metadata": {},
   "outputs": [],
   "source": [
    "def foo_2(**kwargs):\n",
    "    print(kwargs, type(kwargs))"
   ]
  },
  {
   "cell_type": "code",
   "execution_count": 61,
   "id": "1e9117f4",
   "metadata": {},
   "outputs": [
    {
     "name": "stdout",
     "output_type": "stream",
     "text": [
      "{'k': 2, 'arg1': 'str', 'very_long_var': 'Hello, world'} <class 'dict'>\n"
     ]
    }
   ],
   "source": [
    "foo_2(k=2, arg1='str', very_long_var='Hello, world')"
   ]
  },
  {
   "cell_type": "code",
   "execution_count": 62,
   "id": "89be3328",
   "metadata": {},
   "outputs": [],
   "source": [
    "def foo_3(*args, **kwargs):\n",
    "    print(f\"{args=}, {kwargs=}\")"
   ]
  },
  {
   "cell_type": "code",
   "execution_count": 63,
   "id": "ca4a1138",
   "metadata": {},
   "outputs": [
    {
     "name": "stdout",
     "output_type": "stream",
     "text": [
      "args=(1, 'Hello', True), kwargs={'kwarg': 'world', 'k': 10}\n"
     ]
    }
   ],
   "source": [
    "foo_3(1, 'Hello', True, kwarg='world', k=10)"
   ]
  },
  {
   "cell_type": "markdown",
   "id": "6e251691",
   "metadata": {},
   "source": [
    "# Декораторы"
   ]
  },
  {
   "cell_type": "code",
   "execution_count": 137,
   "id": "37828d76",
   "metadata": {},
   "outputs": [],
   "source": [
    "# здесь будет декоратор\n",
    "import time\n",
    "from functools import wraps\n",
    "\n",
    "def timer(func):\n",
    "    print(\"timer\")\n",
    "    @wraps(func)\n",
    "    def wrapper(*args, **kwargs):\n",
    "        start_ts = time.time()\n",
    "        res = func(*args, **kwargs)\n",
    "        end_ts = time.time()\n",
    "        print(f\"Time of {func.__name__} is {end_ts - start_ts} seconds\")\n",
    "        return res\n",
    "    return wrapper\n",
    "\n",
    "def sleeper(delay_sec=0.5, fake=True):\n",
    "    def _sleeper(func):\n",
    "        print(\"sleeper\")\n",
    "        def wrapper(*args, **kwargs):\n",
    "            res = func(*args, **kwargs)\n",
    "            print(f\"sleeper make us sleep {delay_sec}\")\n",
    "            time.sleep(delay_sec)\n",
    "            return res\n",
    "        return wrapper\n",
    "    return _sleeper"
   ]
  },
  {
   "cell_type": "code",
   "execution_count": 143,
   "id": "3a19e0a7",
   "metadata": {},
   "outputs": [
    {
     "name": "stdout",
     "output_type": "stream",
     "text": [
      "sleeper\n",
      "timer\n",
      "sleeper\n",
      "timer\n"
     ]
    }
   ],
   "source": [
    "@timer\n",
    "@sleeper()\n",
    "def get_default_content(url):\n",
    "    return url\n",
    "\n",
    "@sleeper(0.1, False)\n",
    "def get_vkcom_content(url):\n",
    "    return url\n",
    "\n",
    "@timer\n",
    "def get_docs_from_http(urls, https=True):\n",
    "    '''urls -> ссылки, например, ['https://vk.com']\n",
    "    '''\n",
    "    res = []\n",
    "    for url in urls:\n",
    "        # TODO: нормально распарсить URL и сравнить доменное имя.\n",
    "        if url.endswith('vk.com'):\n",
    "            content = get_vkcom_content(url)\n",
    "        else:\n",
    "            content = get_default_content(url)\n",
    "        res.append(content)\n",
    "    return res"
   ]
  },
  {
   "cell_type": "code",
   "execution_count": 139,
   "id": "75bb37ec",
   "metadata": {},
   "outputs": [
    {
     "name": "stdout",
     "output_type": "stream",
     "text": [
      "sleeper make us sleep 0.1\n",
      "sleeper make us sleep 0.5\n",
      "Time of wrapper is 0.5049481391906738 seconds\n",
      "sleeper make us sleep 0.5\n",
      "Time of wrapper is 0.5049850940704346 seconds\n",
      "Time of get_docs_from_http is 1.1154539585113525 seconds\n",
      "['https://vk.com', 'https://make.vk.company', 'https://google.com/?q=таксы']\n",
      "Total: 1.1156861782073975 seconds\n"
     ]
    }
   ],
   "source": [
    "start_ts = time.time()\n",
    "urls = ['https://vk.com', 'https://make.vk.company', 'https://google.com/?q=таксы']\n",
    "print(get_docs_from_http(urls))\n",
    "end_ts = time.time()\n",
    "\n",
    "print(f\"Total: {end_ts - start_ts} seconds\")"
   ]
  },
  {
   "cell_type": "code",
   "execution_count": 144,
   "id": "16e27521",
   "metadata": {},
   "outputs": [
    {
     "name": "stdout",
     "output_type": "stream",
     "text": [
      "sleeper make us sleep 0.1\n",
      "sleeper make us sleep 0.5\n",
      "Time of wrapper is 0.504004716873169 seconds\n",
      "sleeper make us sleep 0.5\n",
      "Time of wrapper is 0.5040419101715088 seconds\n"
     ]
    },
    {
     "data": {
      "text/plain": [
       "['https://vk.com', 'https://make.vk.company', 'https://google.com/?q=таксы']"
      ]
     },
     "execution_count": 144,
     "metadata": {},
     "output_type": "execute_result"
    }
   ],
   "source": [
    "dir(get_docs_from_http)\n",
    "origin_get_docs_from_http = get_docs_from_http.__wrapped__\n",
    "origin_get_docs_from_http(urls)"
   ]
  },
  {
   "cell_type": "markdown",
   "id": "ab461d6a",
   "metadata": {},
   "source": [
    "# Лямбда-функции"
   ]
  },
  {
   "cell_type": "code",
   "execution_count": 148,
   "id": "d80459d3",
   "metadata": {},
   "outputs": [],
   "source": [
    "import random\n",
    "l = list(range(-10, 10))"
   ]
  },
  {
   "cell_type": "code",
   "execution_count": 149,
   "id": "300628ae",
   "metadata": {},
   "outputs": [],
   "source": [
    "random.shuffle(l)"
   ]
  },
  {
   "cell_type": "code",
   "execution_count": 150,
   "id": "d7a39eb8",
   "metadata": {},
   "outputs": [
    {
     "data": {
      "text/plain": [
       "[-9, 8, 1, 5, -1, -2, -10, 3, 7, -7, 4, -8, 2, 0, -4, 6, 9, -6, -5, -3]"
      ]
     },
     "execution_count": 150,
     "metadata": {},
     "output_type": "execute_result"
    }
   ],
   "source": [
    "l"
   ]
  },
  {
   "cell_type": "code",
   "execution_count": 154,
   "id": "0e064b68",
   "metadata": {},
   "outputs": [
    {
     "data": {
      "text/plain": [
       "[-1, 1]"
      ]
     },
     "execution_count": 154,
     "metadata": {},
     "output_type": "execute_result"
    }
   ],
   "source": [
    "# TODO: отрицательные по возрастанию, положительные - по убыванию.\n",
    "# WRONG. не делает то, что нужно.\n",
    "def compare(x):\n",
    "    return -x if x < 0 else x\n",
    "\n",
    "sorted(l, key=compare)\n",
    "sorted([-1, 1], key=compare)"
   ]
  },
  {
   "cell_type": "markdown",
   "id": "0c936a78",
   "metadata": {},
   "source": [
    "# Аргументы функции (опять)"
   ]
  },
  {
   "cell_type": "code",
   "execution_count": 173,
   "id": "c4fd1cc8",
   "metadata": {},
   "outputs": [],
   "source": [
    "def add(x, y, /, z, *, w):\n",
    "    return x + y + z + w"
   ]
  },
  {
   "cell_type": "code",
   "execution_count": 174,
   "id": "36ad447f",
   "metadata": {},
   "outputs": [
    {
     "data": {
      "text/plain": [
       "12"
      ]
     },
     "execution_count": 174,
     "metadata": {},
     "output_type": "execute_result"
    }
   ],
   "source": [
    "add(10, 2, 10, w=-10)\n"
   ]
  },
  {
   "cell_type": "markdown",
   "id": "fb576ae1",
   "metadata": {},
   "source": [
    "# Область видимости"
   ]
  },
  {
   "cell_type": "code",
   "execution_count": 196,
   "id": "328bc0fc",
   "metadata": {},
   "outputs": [],
   "source": [
    "glob = \"Global var\"\n",
    "\n",
    "def f1():\n",
    "    p1 = 1\n",
    "    lst = []\n",
    "    def f2():\n",
    "        p2 = 2\n",
    "        nonlocal p1\n",
    "        p1 = 10\n",
    "        lst.append(10)\n",
    "        global glob\n",
    "        glob = \"f2 global var\"\n",
    "        print(f\"{p2=}, {p1=}, {glob=}\", locals())\n",
    "    f2()\n",
    "    print(f\"{p1=}, {lst=}, {glob=}\", locals())"
   ]
  },
  {
   "cell_type": "code",
   "execution_count": 197,
   "id": "aa89b7e4",
   "metadata": {},
   "outputs": [
    {
     "name": "stdout",
     "output_type": "stream",
     "text": [
      "p2=2, p1=10, glob='f2 global var' {'p2': 2, 'lst': [10], 'p1': 10}\n",
      "p1=10, lst=[10], glob='f2 global var' {'f2': <function f1.<locals>.f2 at 0x107516dc0>, 'lst': [10], 'p1': 10}\n"
     ]
    }
   ],
   "source": [
    "f1()"
   ]
  },
  {
   "cell_type": "code",
   "execution_count": null,
   "id": "63a55492",
   "metadata": {},
   "outputs": [],
   "source": []
  }
 ],
 "metadata": {
  "kernelspec": {
   "display_name": "Python 3 (ipykernel)",
   "language": "python",
   "name": "python3"
  },
  "language_info": {
   "codemirror_mode": {
    "name": "ipython",
    "version": 3
   },
   "file_extension": ".py",
   "mimetype": "text/x-python",
   "name": "python",
   "nbconvert_exporter": "python",
   "pygments_lexer": "ipython3",
   "version": "3.9.13"
  }
 },
 "nbformat": 4,
 "nbformat_minor": 5
}
