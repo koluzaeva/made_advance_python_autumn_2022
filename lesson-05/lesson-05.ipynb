{
 "cells": [
  {
   "cell_type": "code",
   "execution_count": 18,
   "id": "b2bd8498",
   "metadata": {},
   "outputs": [],
   "source": [
    "from collections import defaultdict\n",
    "from contextlib import contextmanager\n",
    "\n",
    "\n",
    "class CtxManager:\n",
    "    def __init__(self, name):\n",
    "        self.stats = defaultdict(int)\n",
    "\n",
    "    def __enter__(self):\n",
    "        print(\"in enter\")\n",
    "        return self.stats\n",
    "\n",
    "    def __exit__(self, exc_type, exc_val, exc_tb):\n",
    "        print(f\"exit with {self.stats=}\")\n",
    "        print(\"errors:\", exc_type, exc_val, exc_tb)\n",
    "        \n",
    "\n",
    "@contextmanager\n",
    "def calc_stat():\n",
    "    stats = defaultdict(int)\n",
    "    print(\"before yield\")\n",
    "    try:\n",
    "        yield stats\n",
    "    except Exception as err:\n",
    "        print(\"ERRROR:\", err)\n",
    "        raise\n",
    "    finally:\n",
    "        print(f\"exit with {stats=}\")"
   ]
  },
  {
   "cell_type": "code",
   "execution_count": 11,
   "id": "67359c18",
   "metadata": {},
   "outputs": [
    {
     "name": "stdout",
     "output_type": "stream",
     "text": [
      "in enter\n",
      "ctx: stats=defaultdict(<class 'int'>, {})\n",
      "exit with self.stats=defaultdict(<class 'int'>, {'q': 1, 't': 250})\n",
      "errors: None None None\n",
      "end\n"
     ]
    }
   ],
   "source": [
    "with CtxManager(\"qwerty\") as stats:\n",
    "    print(f\"ctx: {stats=}\")\n",
    "    stats[\"q\"] += 1\n",
    "    stats[\"t\"] = 250\n",
    "    #stats[{1, 2, 3}] = 42\n",
    "\n",
    "print(\"end\")"
   ]
  },
  {
   "cell_type": "code",
   "execution_count": 16,
   "id": "ae559d32",
   "metadata": {},
   "outputs": [
    {
     "name": "stdout",
     "output_type": "stream",
     "text": [
      "before yield\n",
      "ctx: stats=defaultdict(<class 'int'>, {})\n",
      "exit with stats=defaultdict(<class 'int'>, {'q': 1, 't': 250})\n",
      "end\n"
     ]
    }
   ],
   "source": [
    "with calc_stat() as stats:\n",
    "    print(f\"ctx: {stats=}\")\n",
    "    stats[\"q\"] += 1\n",
    "    stats[\"t\"] = 250\n",
    "    #stats[{1, 2, 3}] = 42\n",
    "\n",
    "print(\"end\")"
   ]
  },
  {
   "cell_type": "code",
   "execution_count": 17,
   "id": "17fcbdd1",
   "metadata": {},
   "outputs": [
    {
     "name": "stdout",
     "output_type": "stream",
     "text": [
      "before yield\n",
      "ctx: stats=defaultdict(<class 'int'>, {})\n",
      "ERRROR: unhashable type: 'set'\n",
      "exit with stats=defaultdict(<class 'int'>, {'q': 1, 't': 250})\n",
      "end\n"
     ]
    }
   ],
   "source": [
    "with calc_stat() as stats:\n",
    "    print(f\"ctx: {stats=}\")\n",
    "    stats[\"q\"] += 1\n",
    "    stats[\"t\"] = 250\n",
    "    stats[{1, 2, 3}] = 42\n",
    "\n",
    "print(\"end\")"
   ]
  },
  {
   "cell_type": "code",
   "execution_count": 21,
   "id": "b27552a8",
   "metadata": {},
   "outputs": [
    {
     "name": "stdout",
     "output_type": "stream",
     "text": [
      "before yield\n",
      "ctx: stats=defaultdict(<class 'int'>, {})\n",
      "ERRROR: unhashable type: 'set'\n",
      "exit with stats=defaultdict(<class 'int'>, {'q': 1, 't': 250})\n"
     ]
    },
    {
     "ename": "TypeError",
     "evalue": "unhashable type: 'set'",
     "output_type": "error",
     "traceback": [
      "\u001b[0;31m---------------------------------------------------------------------------\u001b[0m",
      "\u001b[0;31mTypeError\u001b[0m                                 Traceback (most recent call last)",
      "Cell \u001b[0;32mIn [21], line 5\u001b[0m\n\u001b[1;32m      3\u001b[0m     stats[\u001b[38;5;124m\"\u001b[39m\u001b[38;5;124mq\u001b[39m\u001b[38;5;124m\"\u001b[39m] \u001b[38;5;241m+\u001b[39m\u001b[38;5;241m=\u001b[39m \u001b[38;5;241m1\u001b[39m\n\u001b[1;32m      4\u001b[0m     stats[\u001b[38;5;124m\"\u001b[39m\u001b[38;5;124mt\u001b[39m\u001b[38;5;124m\"\u001b[39m] \u001b[38;5;241m=\u001b[39m \u001b[38;5;241m250\u001b[39m\n\u001b[0;32m----> 5\u001b[0m     \u001b[43mstats\u001b[49m\u001b[43m[\u001b[49m\u001b[43m{\u001b[49m\u001b[38;5;241;43m1\u001b[39;49m\u001b[43m,\u001b[49m\u001b[43m \u001b[49m\u001b[38;5;241;43m2\u001b[39;49m\u001b[43m,\u001b[49m\u001b[43m \u001b[49m\u001b[38;5;241;43m3\u001b[39;49m\u001b[43m}\u001b[49m\u001b[43m]\u001b[49m \u001b[38;5;241m=\u001b[39m \u001b[38;5;241m42\u001b[39m\n\u001b[1;32m      7\u001b[0m \u001b[38;5;28mprint\u001b[39m(\u001b[38;5;124m\"\u001b[39m\u001b[38;5;124mend\u001b[39m\u001b[38;5;124m\"\u001b[39m)\n",
      "\u001b[0;31mTypeError\u001b[0m: unhashable type: 'set'"
     ]
    }
   ],
   "source": [
    "with calc_stat() as stats:\n",
    "    print(f\"ctx: {stats=}\")\n",
    "    stats[\"q\"] += 1\n",
    "    stats[\"t\"] = 250\n",
    "    stats[{1, 2, 3}] = 42\n",
    "\n",
    "print(\"end\")"
   ]
  },
  {
   "cell_type": "code",
   "execution_count": null,
   "id": "1f181734",
   "metadata": {},
   "outputs": [],
   "source": []
  },
  {
   "cell_type": "code",
   "execution_count": null,
   "id": "45bbbc3c",
   "metadata": {},
   "outputs": [],
   "source": []
  },
  {
   "cell_type": "code",
   "execution_count": 22,
   "id": "37bb2be9",
   "metadata": {},
   "outputs": [],
   "source": [
    "class StatError(Exception):\n",
    "    pass\n",
    "\n",
    "class ZeroStatError(StatError):\n",
    "    pass"
   ]
  },
  {
   "cell_type": "code",
   "execution_count": 39,
   "id": "4eb25d82",
   "metadata": {},
   "outputs": [
    {
     "name": "stdout",
     "output_type": "stream",
     "text": [
      "zero \n",
      "finally\n"
     ]
    },
    {
     "ename": "StatError",
     "evalue": "",
     "output_type": "error",
     "traceback": [
      "\u001b[0;31m---------------------------------------------------------------------------\u001b[0m",
      "\u001b[0;31mZeroStatError\u001b[0m                             Traceback (most recent call last)",
      "Cell \u001b[0;32mIn [39], line 2\u001b[0m\n\u001b[1;32m      1\u001b[0m \u001b[38;5;28;01mtry\u001b[39;00m:\n\u001b[0;32m----> 2\u001b[0m     \u001b[38;5;28;01mraise\u001b[39;00m ZeroStatError()\n\u001b[1;32m      3\u001b[0m \u001b[38;5;28;01mexcept\u001b[39;00m ZeroStatError \u001b[38;5;28;01mas\u001b[39;00m err:\n",
      "\u001b[0;31mZeroStatError\u001b[0m: ",
      "\nThe above exception was the direct cause of the following exception:\n",
      "\u001b[0;31mStatError\u001b[0m                                 Traceback (most recent call last)",
      "Cell \u001b[0;32mIn [39], line 5\u001b[0m\n\u001b[1;32m      3\u001b[0m \u001b[38;5;28;01mexcept\u001b[39;00m ZeroStatError \u001b[38;5;28;01mas\u001b[39;00m err:\n\u001b[1;32m      4\u001b[0m     \u001b[38;5;28mprint\u001b[39m(\u001b[38;5;124m\"\u001b[39m\u001b[38;5;124mzero\u001b[39m\u001b[38;5;124m\"\u001b[39m, err)\n\u001b[0;32m----> 5\u001b[0m     \u001b[38;5;28;01mraise\u001b[39;00m StatError \u001b[38;5;28;01mfrom\u001b[39;00m \u001b[38;5;21;01merr\u001b[39;00m\n\u001b[1;32m      6\u001b[0m \u001b[38;5;28;01mexcept\u001b[39;00m StatError \u001b[38;5;28;01mas\u001b[39;00m err:\n\u001b[1;32m      7\u001b[0m     \u001b[38;5;28mprint\u001b[39m(\u001b[38;5;124m\"\u001b[39m\u001b[38;5;124mstat\u001b[39m\u001b[38;5;124m\"\u001b[39m, err)\n",
      "\u001b[0;31mStatError\u001b[0m: "
     ]
    }
   ],
   "source": [
    "try:\n",
    "    raise ZeroStatError()\n",
    "except ZeroStatError as err:\n",
    "    print(\"zero\", err)\n",
    "    raise StatError from err\n",
    "except StatError as err:\n",
    "    print(\"stat\", err)\n",
    "except Exception as err:\n",
    "    print(\"exp\", err)\n",
    "else:\n",
    "    print(\"else\")\n",
    "finally:\n",
    "    print(\"finally\")\n"
   ]
  },
  {
   "cell_type": "code",
   "execution_count": null,
   "id": "a3e5ee9f",
   "metadata": {},
   "outputs": [],
   "source": []
  },
  {
   "cell_type": "code",
   "execution_count": 40,
   "id": "7087cec4",
   "metadata": {},
   "outputs": [
    {
     "name": "stdout",
     "output_type": "stream",
     "text": [
      "exp \n",
      "finally\n"
     ]
    }
   ],
   "source": [
    "try:\n",
    "    raise Exception()\n",
    "except ZeroStatError as err:\n",
    "    print(\"zero\", err)\n",
    "    raise StatError from err\n",
    "except StatError as err:\n",
    "    print(\"stat\", err)\n",
    "except Exception as err:\n",
    "    print(\"exp\", err)\n",
    "else:\n",
    "    print(\"else\")\n",
    "finally:\n",
    "    print(\"finally\")\n"
   ]
  },
  {
   "cell_type": "code",
   "execution_count": null,
   "id": "7556c011",
   "metadata": {},
   "outputs": [],
   "source": []
  },
  {
   "cell_type": "code",
   "execution_count": null,
   "id": "c9a90e79",
   "metadata": {},
   "outputs": [],
   "source": []
  },
  {
   "cell_type": "code",
   "execution_count": 42,
   "id": "a5550bd9",
   "metadata": {},
   "outputs": [
    {
     "name": "stdout",
     "output_type": "stream",
     "text": [
      "README.md      bfm_loader.py  \u001b[1m\u001b[34mlesson-01\u001b[m\u001b[m      \u001b[1m\u001b[34mlesson-04\u001b[m\u001b[m\r\n",
      "\u001b[1m\u001b[34m__pycache__\u001b[m\u001b[m    class_02.ipynb \u001b[1m\u001b[34mlesson-02\u001b[m\u001b[m      \u001b[1m\u001b[34mlesson-05\u001b[m\u001b[m\r\n",
      "bfm.jsonl      class_05.ipynb \u001b[1m\u001b[34mlesson-03\u001b[m\u001b[m      test.py\r\n"
     ]
    }
   ],
   "source": [
    "!ls"
   ]
  },
  {
   "cell_type": "code",
   "execution_count": 98,
   "id": "bfd0262a",
   "metadata": {},
   "outputs": [],
   "source": [
    "students = [\"s1\\n\", \"s2\\n\", \"s3\\n\"]\n",
    "\n",
    "with open(\"students.txt\", \"w\") as f:\n",
    "    f.writelines(students)\n",
    "    \n",
    "with open(\"students.txt\", \"a+\") as f:\n",
    "    f.writelines([\"s4\\n\", \"s5\\n\"])\n",
    "\n",
    "with open(\"students.txt\", \"a+\") as f:\n",
    "    f.write(\"\\n\".join([\"s6\", \"s7\"]))"
   ]
  },
  {
   "cell_type": "code",
   "execution_count": 63,
   "id": "8dbd0806",
   "metadata": {},
   "outputs": [
    {
     "name": "stdout",
     "output_type": "stream",
     "text": [
      "s1\r\n",
      "s2\r\n",
      "s3\r\n",
      "s4\r\n",
      "s5\r\n",
      "s6\r\n",
      "s7"
     ]
    }
   ],
   "source": [
    "!cat students.txt"
   ]
  },
  {
   "cell_type": "code",
   "execution_count": 51,
   "id": "8b9962ce",
   "metadata": {},
   "outputs": [
    {
     "data": {
      "text/plain": [
       "'s6\\ns7'"
      ]
     },
     "execution_count": 51,
     "metadata": {},
     "output_type": "execute_result"
    }
   ],
   "source": [
    "\"\\n\".join([\"s6\", \"s7\"])"
   ]
  },
  {
   "cell_type": "code",
   "execution_count": 71,
   "id": "cb6e523f",
   "metadata": {},
   "outputs": [
    {
     "name": "stdout",
     "output_type": "stream",
     "text": [
      "<_io.TextIOWrapper name='students.txt' mode='r' encoding='UTF-8'>\n",
      "72\n",
      "1 's1\\n' s1\n",
      "2 's2\\n' s2\n",
      "3 's3\\n' s3\n",
      "4 's4\\n' s4\n",
      "5 's5\\n' s5\n",
      "6 's6\\n' s6\n",
      "7 's7' s7\n"
     ]
    }
   ],
   "source": [
    "with open(\"students.txt\") as f:\n",
    "    print(f)\n",
    "    print(f.fileno())\n",
    "\n",
    "    for i, line in enumerate(f, 1):\n",
    "        print(i, repr(line), line.strip())"
   ]
  },
  {
   "cell_type": "code",
   "execution_count": 74,
   "id": "f462282f",
   "metadata": {},
   "outputs": [
    {
     "name": "stdout",
     "output_type": "stream",
     "text": [
      "s1\n",
      "s2\n",
      "s3\n",
      "s4\n",
      "s5\n",
      "s6\n",
      "s7\n"
     ]
    }
   ],
   "source": [
    "with open(\"students.txt\") as f:\n",
    "    data = f.read()\n",
    "    print(data)"
   ]
  },
  {
   "cell_type": "code",
   "execution_count": 76,
   "id": "d4eccca3",
   "metadata": {},
   "outputs": [
    {
     "name": "stdout",
     "output_type": "stream",
     "text": [
      "'s1\\ns2\\ns3\\ns'\n",
      "s1\n",
      "s2\n",
      "s3\n",
      "s\n"
     ]
    }
   ],
   "source": [
    "with open(\"students.txt\") as f:\n",
    "    data = f.read(10)\n",
    "    print(repr(data))\n",
    "    print(data)"
   ]
  },
  {
   "cell_type": "code",
   "execution_count": 78,
   "id": "b81ae1b7",
   "metadata": {},
   "outputs": [
    {
     "name": "stdout",
     "output_type": "stream",
     "text": [
      "1 b's1\\n' b's1'\n",
      "2 b's2\\n' b's2'\n",
      "3 b's3\\n' b's3'\n",
      "4 b's4\\n' b's4'\n",
      "5 b's5\\n' b's5'\n",
      "6 b's6\\n' b's6'\n",
      "7 b's7' b's7'\n"
     ]
    }
   ],
   "source": [
    "with open(\"students.txt\", \"rb\") as f:\n",
    "    for i, line in enumerate(f, 1):\n",
    "        print(i, repr(line), line.strip())"
   ]
  },
  {
   "cell_type": "code",
   "execution_count": 79,
   "id": "88d3be74",
   "metadata": {},
   "outputs": [
    {
     "name": "stdout",
     "output_type": "stream",
     "text": [
      "b'4\\ns5\\ns6\\ns7'\n"
     ]
    }
   ],
   "source": [
    "with open(\"students.txt\", \"rb\") as f:\n",
    "    f.seek(10)\n",
    "    print(f.read())"
   ]
  },
  {
   "cell_type": "code",
   "execution_count": 102,
   "id": "4dc41275",
   "metadata": {},
   "outputs": [],
   "source": [
    "with open(\"students.txt\", \"rb+\") as f:\n",
    "    f.seek(10)\n",
    "    f.write(b\"99\")"
   ]
  },
  {
   "cell_type": "code",
   "execution_count": 103,
   "id": "73a2d830",
   "metadata": {},
   "outputs": [
    {
     "name": "stdout",
     "output_type": "stream",
     "text": [
      "s1\r\n",
      "s2\r\n",
      "s3\r\n",
      "s99s5\r\n",
      "s6\r\n",
      "s7"
     ]
    }
   ],
   "source": [
    "!cat students.txt"
   ]
  },
  {
   "cell_type": "code",
   "execution_count": null,
   "id": "75e486de",
   "metadata": {},
   "outputs": [],
   "source": []
  },
  {
   "cell_type": "code",
   "execution_count": null,
   "id": "43cd198a",
   "metadata": {},
   "outputs": [],
   "source": []
  },
  {
   "cell_type": "code",
   "execution_count": 101,
   "id": "9e24fbc0",
   "metadata": {},
   "outputs": [
    {
     "name": "stdout",
     "output_type": "stream",
     "text": [
      "['s1\\n', 's2\\n']\n",
      "['s3\\n', 's4\\n']\n",
      "['s5\\n', 's6\\n']\n",
      "['s7']\n"
     ]
    }
   ],
   "source": [
    "def gen_file_chunks(name, batch_size):\n",
    "    with open(name) as f:\n",
    "        i = 0\n",
    "        batch = []\n",
    "\n",
    "        for line in f:\n",
    "            batch.append(line)\n",
    "\n",
    "            i += 1\n",
    "            if i == batch_size:\n",
    "                yield batch\n",
    "                batch = []\n",
    "                i = 0\n",
    "        if batch:\n",
    "            yield batch\n",
    "  \n",
    "\n",
    "for chunk in gen_file_chunks(\"students.txt\", 2):\n",
    "    print(chunk)"
   ]
  },
  {
   "cell_type": "code",
   "execution_count": null,
   "id": "cb0fcaa9",
   "metadata": {},
   "outputs": [],
   "source": []
  },
  {
   "cell_type": "code",
   "execution_count": null,
   "id": "4220e4c6",
   "metadata": {},
   "outputs": [],
   "source": []
  },
  {
   "cell_type": "code",
   "execution_count": null,
   "id": "43cdecea",
   "metadata": {},
   "outputs": [],
   "source": []
  },
  {
   "cell_type": "code",
   "execution_count": null,
   "id": "00074082",
   "metadata": {},
   "outputs": [],
   "source": []
  }
 ],
 "metadata": {
  "kernelspec": {
   "display_name": "Python 3 (ipykernel)",
   "language": "python",
   "name": "python3"
  },
  "language_info": {
   "codemirror_mode": {
    "name": "ipython",
    "version": 3
   },
   "file_extension": ".py",
   "mimetype": "text/x-python",
   "name": "python",
   "nbconvert_exporter": "python",
   "pygments_lexer": "ipython3",
   "version": "3.10.2"
  }
 },
 "nbformat": 4,
 "nbformat_minor": 5
}
