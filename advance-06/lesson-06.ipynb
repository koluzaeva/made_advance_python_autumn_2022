{
 "cells": [
  {
   "cell_type": "code",
   "execution_count": 6,
   "id": "72f81d28",
   "metadata": {},
   "outputs": [],
   "source": [
    "def grep(pattern):\n",
    "    print(\"start grep for\", pattern)\n",
    "\n",
    "    while True:\n",
    "        s = yield\n",
    "        if pattern in s:\n",
    "            print(\"found!\", s)\n",
    "        else:\n",
    "            print(\"no %s in %s\" % (pattern, s))\n",
    "            \n",
    "\n",
    "grep_gen = grep(\"python\")"
   ]
  },
  {
   "cell_type": "code",
   "execution_count": 7,
   "id": "78b49592",
   "metadata": {},
   "outputs": [
    {
     "name": "stdout",
     "output_type": "stream",
     "text": [
      "start grep for python\n",
      "None\n"
     ]
    }
   ],
   "source": [
    "print(next(grep_gen))"
   ]
  },
  {
   "cell_type": "code",
   "execution_count": 8,
   "id": "c4bde5e7",
   "metadata": {},
   "outputs": [
    {
     "name": "stdout",
     "output_type": "stream",
     "text": [
      "found! python\n",
      "no python in py\n"
     ]
    }
   ],
   "source": [
    "grep_gen.send(\"python\")\n",
    "grep_gen.send(\"py\")"
   ]
  },
  {
   "cell_type": "code",
   "execution_count": 9,
   "id": "4ef91094",
   "metadata": {},
   "outputs": [
    {
     "ename": "ValueError",
     "evalue": "WRONG",
     "output_type": "error",
     "traceback": [
      "\u001b[0;31m---------------------------------------------------------------------------\u001b[0m",
      "\u001b[0;31mValueError\u001b[0m                                Traceback (most recent call last)",
      "Cell \u001b[0;32mIn [9], line 1\u001b[0m\n\u001b[0;32m----> 1\u001b[0m \u001b[43mgrep_gen\u001b[49m\u001b[38;5;241;43m.\u001b[39;49m\u001b[43mthrow\u001b[49m\u001b[43m(\u001b[49m\u001b[38;5;167;43;01mValueError\u001b[39;49;00m\u001b[43m(\u001b[49m\u001b[38;5;124;43m\"\u001b[39;49m\u001b[38;5;124;43mWRONG\u001b[39;49m\u001b[38;5;124;43m\"\u001b[39;49m\u001b[43m)\u001b[49m\u001b[43m)\u001b[49m\n",
      "Cell \u001b[0;32mIn [6], line 5\u001b[0m, in \u001b[0;36mgrep\u001b[0;34m(pattern)\u001b[0m\n\u001b[1;32m      2\u001b[0m \u001b[38;5;28mprint\u001b[39m(\u001b[38;5;124m\"\u001b[39m\u001b[38;5;124mstart grep for\u001b[39m\u001b[38;5;124m\"\u001b[39m, pattern)\n\u001b[1;32m      4\u001b[0m \u001b[38;5;28;01mwhile\u001b[39;00m \u001b[38;5;28;01mTrue\u001b[39;00m:\n\u001b[0;32m----> 5\u001b[0m     s \u001b[38;5;241m=\u001b[39m \u001b[38;5;28;01myield\u001b[39;00m\n\u001b[1;32m      6\u001b[0m     \u001b[38;5;28;01mif\u001b[39;00m pattern \u001b[38;5;129;01min\u001b[39;00m s:\n\u001b[1;32m      7\u001b[0m         \u001b[38;5;28mprint\u001b[39m(\u001b[38;5;124m\"\u001b[39m\u001b[38;5;124mfound!\u001b[39m\u001b[38;5;124m\"\u001b[39m, s)\n",
      "\u001b[0;31mValueError\u001b[0m: WRONG"
     ]
    }
   ],
   "source": [
    "grep_gen.throw(ValueError(\"WRONG\"))"
   ]
  },
  {
   "cell_type": "code",
   "execution_count": null,
   "id": "26d80f8f",
   "metadata": {},
   "outputs": [],
   "source": []
  },
  {
   "cell_type": "code",
   "execution_count": 5,
   "id": "dec27aa1",
   "metadata": {},
   "outputs": [
    {
     "ename": "TypeError",
     "evalue": "argument of type 'NoneType' is not iterable",
     "output_type": "error",
     "traceback": [
      "\u001b[0;31m---------------------------------------------------------------------------\u001b[0m",
      "\u001b[0;31mTypeError\u001b[0m                                 Traceback (most recent call last)",
      "Cell \u001b[0;32mIn [5], line 1\u001b[0m\n\u001b[0;32m----> 1\u001b[0m \u001b[38;5;28;43mnext\u001b[39;49m\u001b[43m(\u001b[49m\u001b[43mgrep_gen\u001b[49m\u001b[43m)\u001b[49m\n",
      "Cell \u001b[0;32mIn [1], line 6\u001b[0m, in \u001b[0;36mgrep\u001b[0;34m(pattern)\u001b[0m\n\u001b[1;32m      4\u001b[0m \u001b[38;5;28;01mwhile\u001b[39;00m \u001b[38;5;28;01mTrue\u001b[39;00m:\n\u001b[1;32m      5\u001b[0m     s \u001b[38;5;241m=\u001b[39m \u001b[38;5;28;01myield\u001b[39;00m\n\u001b[0;32m----> 6\u001b[0m     \u001b[38;5;28;01mif\u001b[39;00m \u001b[43mpattern\u001b[49m\u001b[43m \u001b[49m\u001b[38;5;129;43;01min\u001b[39;49;00m\u001b[43m \u001b[49m\u001b[43ms\u001b[49m:\n\u001b[1;32m      7\u001b[0m         \u001b[38;5;28mprint\u001b[39m(\u001b[38;5;124m\"\u001b[39m\u001b[38;5;124mfound!\u001b[39m\u001b[38;5;124m\"\u001b[39m, s)\n\u001b[1;32m      8\u001b[0m     \u001b[38;5;28;01melse\u001b[39;00m:\n",
      "\u001b[0;31mTypeError\u001b[0m: argument of type 'NoneType' is not iterable"
     ]
    }
   ],
   "source": [
    "next(grep_gen)"
   ]
  },
  {
   "cell_type": "code",
   "execution_count": null,
   "id": "7138ff1f",
   "metadata": {},
   "outputs": [],
   "source": []
  },
  {
   "cell_type": "code",
   "execution_count": null,
   "id": "e101661d",
   "metadata": {},
   "outputs": [],
   "source": []
  },
  {
   "cell_type": "code",
   "execution_count": 10,
   "id": "66c6c0f3",
   "metadata": {},
   "outputs": [],
   "source": [
    "import asyncio"
   ]
  },
  {
   "cell_type": "code",
   "execution_count": 11,
   "id": "a569a75f",
   "metadata": {},
   "outputs": [
    {
     "name": "stderr",
     "output_type": "stream",
     "text": [
      "/var/folders/c1/9wdb7dps2x332c6l1y2hrqkh0000gp/T/ipykernel_61041/1487714701.py:2: DeprecationWarning: \"@coroutine\" decorator is deprecated since Python 3.8, use \"async def\" instead\n",
      "  def grep_coro(pattern):\n"
     ]
    }
   ],
   "source": [
    "@asyncio.coroutine\n",
    "def grep_coro(pattern):\n",
    "    print(\"start grep for\", pattern)\n",
    "\n",
    "    while True:\n",
    "        s = yield\n",
    "        if pattern in s:\n",
    "            print(\"found!\", s)\n",
    "        else:\n",
    "            print(\"no %s in %s\" % (pattern, s))\n",
    "            \n",
    "\n",
    "grep_gen = grep_coro(\"python\")"
   ]
  },
  {
   "cell_type": "code",
   "execution_count": null,
   "id": "e9694a8f",
   "metadata": {},
   "outputs": [],
   "source": []
  },
  {
   "cell_type": "code",
   "execution_count": 28,
   "id": "129aa5a5",
   "metadata": {},
   "outputs": [],
   "source": [
    "async def count(n):\n",
    "    k = n\n",
    "    print(\"START count\", n)\n",
    "    while n > 0:\n",
    "        n -= 1\n",
    "        await asyncio.sleep(1)  # 10 sec\n",
    "    print(\"END count\", k)\n",
    "\n",
    "\n",
    "async def block(n):\n",
    "    n = 1\n",
    "    while n > 100:\n",
    "        n -= 1\n",
    "        n *= n\n",
    "        #await asyncio.sleep(0)"
   ]
  },
  {
   "cell_type": "code",
   "execution_count": 14,
   "id": "7d04d417",
   "metadata": {},
   "outputs": [
    {
     "data": {
      "text/plain": [
       "<coroutine object count at 0x1140a8820>"
      ]
     },
     "execution_count": 14,
     "metadata": {},
     "output_type": "execute_result"
    }
   ],
   "source": [
    "await count(10)"
   ]
  },
  {
   "cell_type": "code",
   "execution_count": 15,
   "id": "fd70df45",
   "metadata": {},
   "outputs": [
    {
     "ename": "RuntimeError",
     "evalue": "asyncio.run() cannot be called from a running event loop",
     "output_type": "error",
     "traceback": [
      "\u001b[0;31m---------------------------------------------------------------------------\u001b[0m",
      "\u001b[0;31mRuntimeError\u001b[0m                              Traceback (most recent call last)",
      "Cell \u001b[0;32mIn [15], line 1\u001b[0m\n\u001b[0;32m----> 1\u001b[0m \u001b[43masyncio\u001b[49m\u001b[38;5;241;43m.\u001b[39;49m\u001b[43mrun\u001b[49m\u001b[43m(\u001b[49m\u001b[43mcount\u001b[49m\u001b[43m(\u001b[49m\u001b[38;5;241;43m10\u001b[39;49m\u001b[43m)\u001b[49m\u001b[43m)\u001b[49m\n",
      "File \u001b[0;32m/Library/Frameworks/Python.framework/Versions/3.10/lib/python3.10/asyncio/runners.py:33\u001b[0m, in \u001b[0;36mrun\u001b[0;34m(main, debug)\u001b[0m\n\u001b[1;32m      9\u001b[0m \u001b[38;5;124;03m\"\"\"Execute the coroutine and return the result.\u001b[39;00m\n\u001b[1;32m     10\u001b[0m \n\u001b[1;32m     11\u001b[0m \u001b[38;5;124;03mThis function runs the passed coroutine, taking care of\u001b[39;00m\n\u001b[0;32m   (...)\u001b[0m\n\u001b[1;32m     30\u001b[0m \u001b[38;5;124;03m    asyncio.run(main())\u001b[39;00m\n\u001b[1;32m     31\u001b[0m \u001b[38;5;124;03m\"\"\"\u001b[39;00m\n\u001b[1;32m     32\u001b[0m \u001b[38;5;28;01mif\u001b[39;00m events\u001b[38;5;241m.\u001b[39m_get_running_loop() \u001b[38;5;129;01mis\u001b[39;00m \u001b[38;5;129;01mnot\u001b[39;00m \u001b[38;5;28;01mNone\u001b[39;00m:\n\u001b[0;32m---> 33\u001b[0m     \u001b[38;5;28;01mraise\u001b[39;00m \u001b[38;5;167;01mRuntimeError\u001b[39;00m(\n\u001b[1;32m     34\u001b[0m         \u001b[38;5;124m\"\u001b[39m\u001b[38;5;124masyncio.run() cannot be called from a running event loop\u001b[39m\u001b[38;5;124m\"\u001b[39m)\n\u001b[1;32m     36\u001b[0m \u001b[38;5;28;01mif\u001b[39;00m \u001b[38;5;129;01mnot\u001b[39;00m coroutines\u001b[38;5;241m.\u001b[39miscoroutine(main):\n\u001b[1;32m     37\u001b[0m     \u001b[38;5;28;01mraise\u001b[39;00m \u001b[38;5;167;01mValueError\u001b[39;00m(\u001b[38;5;124m\"\u001b[39m\u001b[38;5;124ma coroutine was expected, got \u001b[39m\u001b[38;5;132;01m{!r}\u001b[39;00m\u001b[38;5;124m\"\u001b[39m\u001b[38;5;241m.\u001b[39mformat(main))\n",
      "\u001b[0;31mRuntimeError\u001b[0m: asyncio.run() cannot be called from a running event loop"
     ]
    }
   ],
   "source": [
    "asyncio.run(count(10))"
   ]
  },
  {
   "cell_type": "code",
   "execution_count": 19,
   "id": "2b7a0915",
   "metadata": {},
   "outputs": [
    {
     "name": "stdout",
     "output_type": "stream",
     "text": [
      "begin\n",
      "end 16.041203260421753\n"
     ]
    }
   ],
   "source": [
    "import time\n",
    "\n",
    "t1 = time.time()\n",
    "print(\"begin\")\n",
    "\n",
    "await count(10)\n",
    "await count(6)\n",
    "\n",
    "print(\"end\", time.time() - t1)"
   ]
  },
  {
   "cell_type": "code",
   "execution_count": 23,
   "id": "b38a58a8",
   "metadata": {},
   "outputs": [
    {
     "name": "stdout",
     "output_type": "stream",
     "text": [
      "START count 10\n"
     ]
    }
   ],
   "source": [
    "await count(10)"
   ]
  },
  {
   "cell_type": "code",
   "execution_count": 29,
   "id": "e4a3ac23",
   "metadata": {},
   "outputs": [
    {
     "name": "stdout",
     "output_type": "stream",
     "text": [
      "begin\n",
      "end 0.0006361007690429688\n",
      "START count 10\n",
      "START count 6\n",
      "END count 6\n",
      "END count 10\n"
     ]
    }
   ],
   "source": [
    "import time\n",
    "\n",
    "t1 = time.time()\n",
    "print(\"begin\")\n",
    "\n",
    "task1 = asyncio.create_task(count(10))\n",
    "task2 = asyncio.create_task(count(6))\n",
    "\n",
    "print(\"end\", time.time() - t1)"
   ]
  },
  {
   "cell_type": "code",
   "execution_count": 32,
   "id": "3253074b",
   "metadata": {},
   "outputs": [
    {
     "name": "stdout",
     "output_type": "stream",
     "text": [
      "begin\n",
      "START count 10\n",
      "START count 6\n",
      "END count 6\n",
      "END count 10\n",
      "end 10.008776903152466\n"
     ]
    }
   ],
   "source": [
    "import time\n",
    "\n",
    "t1 = time.time()\n",
    "print(\"begin\")\n",
    "\n",
    "task1 = asyncio.create_task(count(10))\n",
    "task2 = asyncio.create_task(count(6))\n",
    "\n",
    "await task1\n",
    "await task2\n",
    "\n",
    "print(\"end\", time.time() - t1)"
   ]
  },
  {
   "cell_type": "code",
   "execution_count": 36,
   "id": "542972ae",
   "metadata": {},
   "outputs": [
    {
     "name": "stdout",
     "output_type": "stream",
     "text": [
      "begin\n",
      "START count 10\n",
      "START count 6\n",
      "END count 6\n",
      "task2 ready\n"
     ]
    },
    {
     "ename": "CancelledError",
     "evalue": "",
     "output_type": "error",
     "traceback": [
      "\u001b[0;31m---------------------------------------------------------------------------\u001b[0m",
      "\u001b[0;31mCancelledError\u001b[0m                            Traceback (most recent call last)",
      "Cell \u001b[0;32mIn [28], line 6\u001b[0m, in \u001b[0;36mcount\u001b[0;34m(n)\u001b[0m\n\u001b[1;32m      5\u001b[0m     n \u001b[38;5;241m-\u001b[39m\u001b[38;5;241m=\u001b[39m \u001b[38;5;241m1\u001b[39m\n\u001b[0;32m----> 6\u001b[0m     \u001b[38;5;28;01mawait\u001b[39;00m asyncio\u001b[38;5;241m.\u001b[39msleep(\u001b[38;5;241m1\u001b[39m)  \u001b[38;5;66;03m# 10 sec\u001b[39;00m\n\u001b[1;32m      7\u001b[0m \u001b[38;5;28mprint\u001b[39m(\u001b[38;5;124m\"\u001b[39m\u001b[38;5;124mEND count\u001b[39m\u001b[38;5;124m\"\u001b[39m, k)\n",
      "File \u001b[0;32m/Library/Frameworks/Python.framework/Versions/3.10/lib/python3.10/asyncio/tasks.py:605\u001b[0m, in \u001b[0;36msleep\u001b[0;34m(delay, result)\u001b[0m\n\u001b[1;32m    604\u001b[0m \u001b[38;5;28;01mtry\u001b[39;00m:\n\u001b[0;32m--> 605\u001b[0m     \u001b[38;5;28;01mreturn\u001b[39;00m \u001b[38;5;28;01mawait\u001b[39;00m future\n\u001b[1;32m    606\u001b[0m \u001b[38;5;28;01mfinally\u001b[39;00m:\n",
      "\u001b[0;31mCancelledError\u001b[0m: ",
      "\nDuring handling of the above exception, another exception occurred:\n",
      "\u001b[0;31mCancelledError\u001b[0m                            Traceback (most recent call last)",
      "Cell \u001b[0;32mIn [36], line 13\u001b[0m\n\u001b[1;32m     10\u001b[0m \u001b[38;5;28mprint\u001b[39m(\u001b[38;5;124m\"\u001b[39m\u001b[38;5;124mtask2 ready\u001b[39m\u001b[38;5;124m\"\u001b[39m)\n\u001b[1;32m     12\u001b[0m task1\u001b[38;5;241m.\u001b[39mcancel()\n\u001b[0;32m---> 13\u001b[0m \u001b[38;5;28;01mawait\u001b[39;00m task1\n\u001b[1;32m     15\u001b[0m \u001b[38;5;28mprint\u001b[39m(\u001b[38;5;124m\"\u001b[39m\u001b[38;5;124mend\u001b[39m\u001b[38;5;124m\"\u001b[39m, time\u001b[38;5;241m.\u001b[39mtime() \u001b[38;5;241m-\u001b[39m t1)\n",
      "\u001b[0;31mCancelledError\u001b[0m: "
     ]
    }
   ],
   "source": [
    "import time\n",
    "\n",
    "t1 = time.time()\n",
    "print(\"begin\")\n",
    "\n",
    "task1 = asyncio.create_task(count(10))\n",
    "task2 = asyncio.create_task(count(6))\n",
    "\n",
    "await task2\n",
    "print(\"task2 ready\")\n",
    "\n",
    "task1.cancel()\n",
    "await task1\n",
    "\n",
    "print(\"end\", time.time() - t1)"
   ]
  },
  {
   "cell_type": "code",
   "execution_count": 33,
   "id": "7b8439b5",
   "metadata": {},
   "outputs": [],
   "source": []
  },
  {
   "cell_type": "code",
   "execution_count": null,
   "id": "7c8f1cec",
   "metadata": {},
   "outputs": [],
   "source": []
  },
  {
   "cell_type": "code",
   "execution_count": 35,
   "id": "0af24a07",
   "metadata": {},
   "outputs": [
    {
     "ename": "RuntimeError",
     "evalue": "cannot reuse already awaited coroutine",
     "output_type": "error",
     "traceback": [
      "\u001b[0;31m---------------------------------------------------------------------------\u001b[0m",
      "\u001b[0;31mRuntimeError\u001b[0m                              Traceback (most recent call last)",
      "Cell \u001b[0;32mIn [35], line 1\u001b[0m\n\u001b[0;32m----> 1\u001b[0m \u001b[38;5;28;01mawait\u001b[39;00m c\n",
      "\u001b[0;31mRuntimeError\u001b[0m: cannot reuse already awaited coroutine"
     ]
    }
   ],
   "source": [
    "await c"
   ]
  },
  {
   "cell_type": "code",
   "execution_count": null,
   "id": "6f85ab49",
   "metadata": {},
   "outputs": [],
   "source": []
  },
  {
   "cell_type": "code",
   "execution_count": null,
   "id": "81d0b509",
   "metadata": {},
   "outputs": [],
   "source": []
  },
  {
   "cell_type": "code",
   "execution_count": 37,
   "id": "2df73500",
   "metadata": {},
   "outputs": [
    {
     "name": "stdout",
     "output_type": "stream",
     "text": [
      "create_gath\n",
      "START count 2\n",
      "count_2: 2\n",
      "START count 4\n",
      "count_4: 4\n",
      "START count 6\n",
      "count_6: 6\n",
      "START count 8\n",
      "count_8: 8\n",
      "count_2: 1\n",
      "count_4: 3\n",
      "count_6: 5\n",
      "count_8: 7\n",
      "END count 2\n",
      "count_4: 2\n",
      "count_6: 4\n",
      "count_8: 6\n",
      "count_4: 1\n",
      "count_6: 3\n",
      "count_8: 5\n",
      "END count 4\n",
      "count_6: 2\n",
      "count_8: 4\n",
      "count_6: 1\n",
      "count_8: 3\n",
      "END count 6\n",
      "count_8: 2\n",
      "count_8: 1\n",
      "END count 8\n",
      "time 8.007362842559814\n"
     ]
    }
   ],
   "source": [
    "async def count(n):\n",
    "    k = n\n",
    "    print(\"START count\", n)\n",
    "    while n > 0:\n",
    "        print(f\"count_{k}: {n}\")\n",
    "        n -= 1\n",
    "        await asyncio.sleep(1)  # 10 sec\n",
    "    print(\"END count\", k)\n",
    "\n",
    "\n",
    "t1 = time.time()\n",
    "\n",
    "tasks = [\n",
    "    asyncio.create_task(count(i))\n",
    "    for i in range(2, 10, 2)\n",
    "]\n",
    "gath = asyncio.gather(*tasks)\n",
    "print(\"create_gath\")\n",
    "await gath\n",
    "\n",
    "print(\"time\", time.time() - t1)"
   ]
  },
  {
   "cell_type": "code",
   "execution_count": 38,
   "id": "a6daf86a",
   "metadata": {},
   "outputs": [
    {
     "name": "stdout",
     "output_type": "stream",
     "text": [
      "time task 0.00019478797912597656\n",
      "START count 7\n",
      "count_7: 7\n",
      "START count 3\n",
      "count_3: 3\n",
      "START count 9\n",
      "count_9: 9\n",
      "START count 6\n",
      "count_6: 6\n",
      "count_7: 6\n",
      "count_3: 2\n",
      "count_9: 8\n",
      "count_6: 5\n",
      "count_7: 5\n",
      "count_3: 1\n",
      "count_9: 7\n",
      "count_6: 4\n",
      "count_7: 4\n",
      "END count 3\n",
      "count_9: 6\n",
      "count_6: 3\n",
      "res None <coroutine object as_completed.<locals>._wait_for_one at 0x113f3af80>\n",
      "time task 3.003438711166382\n",
      "count_7: 3\n",
      "count_9: 5\n",
      "count_6: 2\n",
      "count_7: 2\n",
      "count_9: 4\n",
      "count_6: 1\n",
      "count_7: 1\n",
      "count_9: 3\n",
      "END count 6\n",
      "res None <coroutine object as_completed.<locals>._wait_for_one at 0x1143f5ee0>\n",
      "time task 6.007556676864624\n",
      "END count 7\n",
      "count_9: 2\n",
      "res None <coroutine object as_completed.<locals>._wait_for_one at 0x113f3af80>\n",
      "time task 7.008103847503662\n",
      "count_9: 1\n",
      "END count 9\n",
      "res None <coroutine object as_completed.<locals>._wait_for_one at 0x1143f5ee0>\n",
      "time 9.053854942321777\n"
     ]
    }
   ],
   "source": [
    "async def count(n):\n",
    "    k = n\n",
    "    print(\"START count\", n)\n",
    "    while n > 0:\n",
    "        print(f\"count_{k}: {n}\")\n",
    "        n -= 1\n",
    "        await asyncio.sleep(1)  # 10 sec\n",
    "    print(\"END count\", k)\n",
    "\n",
    "\n",
    "t1 = time.time()\n",
    "\n",
    "tasks = [\n",
    "    asyncio.create_task(count(7)),\n",
    "    asyncio.create_task(count(3)),\n",
    "    asyncio.create_task(count(9)),\n",
    "    asyncio.create_task(count(6)),\n",
    "]\n",
    "\n",
    "for task in asyncio.as_completed(tasks):\n",
    "    print(\"time task\", time.time() - t1)\n",
    "    res = await task\n",
    "    print(\"res\", res, task)\n",
    "\n",
    "\n",
    "print(\"time\", time.time() - t1)"
   ]
  },
  {
   "cell_type": "code",
   "execution_count": null,
   "id": "420a69fb",
   "metadata": {},
   "outputs": [],
   "source": []
  },
  {
   "cell_type": "code",
   "execution_count": 39,
   "id": "83eaedde",
   "metadata": {},
   "outputs": [
    {
     "data": {
      "text/plain": [
       "<_UnixSelectorEventLoop running=True closed=False debug=False>"
      ]
     },
     "execution_count": 39,
     "metadata": {},
     "output_type": "execute_result"
    }
   ],
   "source": [
    "asyncio.get_event_loop()"
   ]
  },
  {
   "cell_type": "code",
   "execution_count": null,
   "id": "2cb68ce1",
   "metadata": {},
   "outputs": [],
   "source": []
  },
  {
   "cell_type": "code",
   "execution_count": 49,
   "id": "80697866",
   "metadata": {},
   "outputs": [
    {
     "name": "stdout",
     "output_type": "stream",
     "text": [
      "200 17556\n",
      "time 0.17046880722045898\n"
     ]
    }
   ],
   "source": [
    "import aiohttp\n",
    "\n",
    "\n",
    "URL = \"https://docs.python.org/3/library/asyncio.html\"\n",
    "\n",
    "\n",
    "async def fetch_url(url):\n",
    "    async with aiohttp.ClientSession() as session:\n",
    "        async with session.get(url) as resp:\n",
    "            data = await resp.read()\n",
    "            print(resp.status, len(data))\n",
    "\n",
    "            return len(data)\n",
    "        \n",
    "\n",
    "t1 = time.time()\n",
    "\n",
    "await fetch_url(URL)\n",
    "\n",
    "print(\"time\", time.time() - t1)"
   ]
  },
  {
   "cell_type": "code",
   "execution_count": 69,
   "id": "5bf327f0",
   "metadata": {},
   "outputs": [
    {
     "name": "stdout",
     "output_type": "stream",
     "text": [
      "time 4.339529037475586\n"
     ]
    }
   ],
   "source": [
    "import aiohttp\n",
    "\n",
    "\n",
    "URL = \"https://docs.python.org/3/library/asyncio.html\"\n",
    "N = 100\n",
    "\n",
    "\n",
    "async def fetch_url(url, session, lock):\n",
    "    async with lock:\n",
    "        async with session.get(url) as resp:\n",
    "            data = await resp.read()\n",
    "            #print(resp.status, len(data))\n",
    "\n",
    "            return len(data)\n",
    "\n",
    "    \n",
    "async def fetch_batch_urls(urls):\n",
    "    lock = asyncio.Lock()\n",
    "    \n",
    "    async with aiohttp.ClientSession() as session:\n",
    "        tasks = [\n",
    "            asyncio.create_task(fetch_url(url, session, lock))\n",
    "            for url in urls\n",
    "        ]\n",
    "        await asyncio.gather(*tasks)\n",
    "\n",
    "\n",
    "t1 = time.time()\n",
    "\n",
    "urls = [URL] * N\n",
    "await fetch_batch_urls(urls)\n",
    "\n",
    "print(\"time\", time.time() - t1)"
   ]
  },
  {
   "cell_type": "code",
   "execution_count": 74,
   "id": "9529b994",
   "metadata": {},
   "outputs": [
    {
     "name": "stdout",
     "output_type": "stream",
     "text": [
      "time 0.3565223217010498\n"
     ]
    }
   ],
   "source": [
    "import aiohttp\n",
    "\n",
    "\n",
    "URL = \"https://docs.python.org/3/library/asyncio.html\"\n",
    "N = 100\n",
    "\n",
    "\n",
    "async def fetch_url(url, session, lock):\n",
    "    async with lock:\n",
    "        async with session.get(url) as resp:\n",
    "            data = await resp.read()\n",
    "            #print(resp.status, len(data))\n",
    "\n",
    "            return len(data)\n",
    "\n",
    "    \n",
    "async def fetch_batch_urls(urls):\n",
    "    lock = asyncio.Semaphore(20)\n",
    "    \n",
    "    async with aiohttp.ClientSession() as session:\n",
    "        tasks = [\n",
    "            asyncio.create_task(fetch_url(url, session, lock))\n",
    "            for url in urls\n",
    "        ]\n",
    "        await asyncio.gather(*tasks)\n",
    "\n",
    "\n",
    "t1 = time.time()\n",
    "\n",
    "urls = [URL] * N\n",
    "await fetch_batch_urls(urls)\n",
    "\n",
    "print(\"time\", time.time() - t1)"
   ]
  },
  {
   "cell_type": "code",
   "execution_count": null,
   "id": "beeb4283",
   "metadata": {},
   "outputs": [],
   "source": []
  },
  {
   "cell_type": "code",
   "execution_count": null,
   "id": "21565b97",
   "metadata": {},
   "outputs": [],
   "source": []
  },
  {
   "cell_type": "code",
   "execution_count": 86,
   "id": "d8143b3f",
   "metadata": {},
   "outputs": [
    {
     "name": "stdout",
     "output_type": "stream",
     "text": [
      "time 0.40215301513671875\n"
     ]
    }
   ],
   "source": [
    "import aiohttp\n",
    "\n",
    "\n",
    "URL = \"https://docs.python.org/3/library/asyncio.html\"\n",
    "N = 100\n",
    "WORKERS = 20\n",
    "\n",
    "\n",
    "async def fetch_url(url, session):\n",
    "    async with session.get(url) as resp:\n",
    "        data = await resp.read()\n",
    "        #print(resp.status, len(data))\n",
    "\n",
    "        return len(data)\n",
    "\n",
    "\n",
    "async def worker(queue, session, num):\n",
    "    while True:\n",
    "        url = await queue.get()\n",
    "\n",
    "        try:\n",
    "            res = await fetch_url(url, session)\n",
    "            #print(f\"worker_{num}\", res)\n",
    "        finally:\n",
    "            queue.task_done()\n",
    "\n",
    "    \n",
    "async def fetch_batch_urls(queue, workers):\n",
    "    async with aiohttp.ClientSession() as session:\n",
    "        tasks = [\n",
    "            asyncio.create_task(worker(queue, session, i))\n",
    "            for i in range(workers)\n",
    "        ]\n",
    "        await queue.join()\n",
    "        \n",
    "        for task in tasks:\n",
    "            task.cancel()\n",
    "\n",
    "\n",
    "t1 = time.time()\n",
    "\n",
    "urls_queue = asyncio.Queue()\n",
    "for _ in range(N):\n",
    "    await urls_queue.put(URL)\n",
    "\n",
    "\n",
    "await fetch_batch_urls(urls_queue, WORKERS)\n",
    "\n",
    "print(\"time\", time.time() - t1)"
   ]
  },
  {
   "cell_type": "code",
   "execution_count": null,
   "id": "1abd756e",
   "metadata": {},
   "outputs": [],
   "source": []
  }
 ],
 "metadata": {
  "kernelspec": {
   "display_name": "Python 3 (ipykernel)",
   "language": "python",
   "name": "python3"
  },
  "language_info": {
   "codemirror_mode": {
    "name": "ipython",
    "version": 3
   },
   "file_extension": ".py",
   "mimetype": "text/x-python",
   "name": "python",
   "nbconvert_exporter": "python",
   "pygments_lexer": "ipython3",
   "version": "3.10.2"
  }
 },
 "nbformat": 4,
 "nbformat_minor": 5
}
