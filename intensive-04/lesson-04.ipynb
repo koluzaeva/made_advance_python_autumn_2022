{
 "cells": [
  {
   "cell_type": "markdown",
   "id": "b1171c12",
   "metadata": {},
   "source": [
    "# Builtin-функции"
   ]
  },
  {
   "cell_type": "code",
   "execution_count": 12,
   "id": "71cc8d3d",
   "metadata": {},
   "outputs": [
    {
     "data": {
      "text/plain": [
       "[\"args=(1, 'a', True)\", \"args=(2, 'b', False)\", \"args=(3, 'c', None)\"]"
      ]
     },
     "execution_count": 12,
     "metadata": {},
     "output_type": "execute_result"
    }
   ],
   "source": [
    "def foo(x, y, z):\n",
    "    return f\"{x=}, {y=}, {z=}\"\n",
    "list(map(lambda *args: f\"{args=}\", [1,2,3,4], \"abcdefgh\", (True, False, None)))"
   ]
  },
  {
   "cell_type": "code",
   "execution_count": 20,
   "id": "16e7fdee",
   "metadata": {},
   "outputs": [
    {
     "name": "stdout",
     "output_type": "stream",
     "text": [
      "prev=100, next=1\n",
      "prev=10100, next=2\n",
      "prev=102030200, next=3\n",
      "prev=10410162018130600, next=4\n",
      "prev=108371473243729008283766728882400, next=5\n"
     ]
    },
    {
     "data": {
      "text/plain": [
       "11744376213016272340485834273743636156114376384058925186674172000"
      ]
     },
     "execution_count": 20,
     "metadata": {},
     "output_type": "execute_result"
    }
   ],
   "source": [
    "from functools import reduce\n",
    "\n",
    "def profile_sum(prev, next):\n",
    "    print(f\"{prev=}, {next=}\")\n",
    "    return prev * (next + prev)\n",
    "\n",
    "reduce(profile_sum, range(1,6), 100)"
   ]
  },
  {
   "cell_type": "code",
   "execution_count": 31,
   "id": "690010d7",
   "metadata": {},
   "outputs": [
    {
     "name": "stdout",
     "output_type": "stream",
     "text": [
      "['beauty', 'new', 'world']\n",
      "False\n",
      "False\n"
     ]
    },
    {
     "data": {
      "text/plain": [
       "['HELLO', 'BEAUTY', 'NEW', 'WORLD']"
      ]
     },
     "execution_count": 31,
     "metadata": {},
     "output_type": "execute_result"
    }
   ],
   "source": [
    "strs = ['Hello', 'beauty', 'new', 'world']\n",
    "print(list(filter(lambda x: x.islower(), ['Hello', 'beauty', 'new', 'world'])))\n",
    "print(','.islower())\n",
    "print(','.isupper())\n",
    "s = 'Hello, world!'\n",
    "list(map(lambda x: x.upper(), strs))"
   ]
  },
  {
   "cell_type": "code",
   "execution_count": 32,
   "id": "0f3da8b1",
   "metadata": {},
   "outputs": [],
   "source": [
    "import string\n",
    "import random"
   ]
  },
  {
   "cell_type": "code",
   "execution_count": 39,
   "id": "096eb53b",
   "metadata": {},
   "outputs": [
    {
     "data": {
      "text/plain": [
       "'!\"#$%&\\'()*+,-./:;<=>?@[\\\\]^_`{|}~'"
      ]
     },
     "execution_count": 39,
     "metadata": {},
     "output_type": "execute_result"
    }
   ],
   "source": [
    "dir(string)\n",
    "#string.ascii_letters\n",
    "string.punctuation"
   ]
  },
  {
   "cell_type": "code",
   "execution_count": 40,
   "id": "f3481ca7",
   "metadata": {},
   "outputs": [],
   "source": [
    "PASSWORD_LEN = 10"
   ]
  },
  {
   "cell_type": "code",
   "execution_count": 59,
   "id": "a1e1d98e",
   "metadata": {},
   "outputs": [
    {
     "data": {
      "text/plain": [
       "['4', 'v', 'S', '#', 'B', 'N', 'P', 's', 'A', 'u']"
      ]
     },
     "execution_count": 59,
     "metadata": {},
     "output_type": "execute_result"
    }
   ],
   "source": [
    "seq = [ random.choice(string.ascii_letters + string.digits + '#$%&') for _ in range(0, PASSWORD_LEN) ]\n",
    "seq"
   ]
  },
  {
   "cell_type": "code",
   "execution_count": 60,
   "id": "ca795b24",
   "metadata": {},
   "outputs": [],
   "source": [
    "password = \"\".join(seq)"
   ]
  },
  {
   "cell_type": "code",
   "execution_count": 61,
   "id": "4a4f4318",
   "metadata": {},
   "outputs": [],
   "source": [
    "random.shuffle(seq)\n",
    "password = \"\".join(seq)"
   ]
  },
  {
   "cell_type": "code",
   "execution_count": 67,
   "id": "1056c532",
   "metadata": {},
   "outputs": [
    {
     "data": {
      "text/plain": [
       "['Formatter',\n",
       " 'Template',\n",
       " '_ChainMap',\n",
       " '__all__',\n",
       " '__builtins__',\n",
       " '__cached__',\n",
       " '__doc__',\n",
       " '__file__',\n",
       " '__loader__',\n",
       " '__name__',\n",
       " '__package__',\n",
       " '__spec__',\n",
       " '_re',\n",
       " '_sentinel_dict',\n",
       " '_string',\n",
       " 'ascii_letters',\n",
       " 'ascii_lowercase',\n",
       " 'ascii_uppercase',\n",
       " 'capwords',\n",
       " 'digits',\n",
       " 'hexdigits',\n",
       " 'octdigits',\n",
       " 'printable',\n",
       " 'punctuation',\n",
       " 'whitespace']"
      ]
     },
     "execution_count": 67,
     "metadata": {},
     "output_type": "execute_result"
    }
   ],
   "source": [
    "password\n",
    "dir(string)"
   ]
  },
  {
   "cell_type": "code",
   "execution_count": 70,
   "id": "01e695e7",
   "metadata": {},
   "outputs": [
    {
     "data": {
      "text/plain": [
       "[(0, 'a', None), (1, 'b', True), (2, 'c', False)]"
      ]
     },
     "execution_count": 70,
     "metadata": {},
     "output_type": "execute_result"
    }
   ],
   "source": [
    "list(zip(range(0, 30), string.ascii_lowercase, (None, True, False)))"
   ]
  },
  {
   "cell_type": "code",
   "execution_count": 85,
   "id": "7254cf8c",
   "metadata": {},
   "outputs": [],
   "source": [
    "code = 'print(\"Hello\")'\n",
    "x = compile(code, 'test', 'eval')"
   ]
  },
  {
   "cell_type": "code",
   "execution_count": 86,
   "id": "dd2838b3",
   "metadata": {},
   "outputs": [
    {
     "name": "stdout",
     "output_type": "stream",
     "text": [
      "Hello\n"
     ]
    }
   ],
   "source": [
    "eval(x)"
   ]
  },
  {
   "cell_type": "code",
   "execution_count": 83,
   "id": "8b88f53d",
   "metadata": {},
   "outputs": [
    {
     "data": {
      "text/plain": [
       "6"
      ]
     },
     "execution_count": 83,
     "metadata": {},
     "output_type": "execute_result"
    }
   ],
   "source": [
    "xyz"
   ]
  },
  {
   "cell_type": "markdown",
   "id": "174ebcc9",
   "metadata": {},
   "source": [
    "# Классы"
   ]
  },
  {
   "cell_type": "code",
   "execution_count": 112,
   "id": "473322f8",
   "metadata": {},
   "outputs": [],
   "source": [
    "class A:\n",
    "    name = \"cls_name\"\n",
    "    __cls_private = \"cls_private\"\n",
    "    def __init__(self, val):\n",
    "        self.val = val\n",
    "        self._protected = \"protected\"\n",
    "        self.__private = \"private\"\n",
    "    \n",
    "    def foo(this, val):\n",
    "        this.val = val\n",
    "    \n",
    "    def print(self):\n",
    "        print(\n",
    "            f\"{self.val=}, {self._protected=}, {self.__private=}, \"\n",
    "            f\"{self.name=}, {self.__cls_private=}\"\n",
    "        )"
   ]
  },
  {
   "cell_type": "code",
   "execution_count": 109,
   "id": "3591351c",
   "metadata": {},
   "outputs": [],
   "source": [
    "a = A(10)"
   ]
  },
  {
   "cell_type": "code",
   "execution_count": 96,
   "id": "5d594b69",
   "metadata": {},
   "outputs": [],
   "source": [
    "a._A__cls_private = 'non private'"
   ]
  },
  {
   "cell_type": "code",
   "execution_count": 110,
   "id": "1c46953f",
   "metadata": {},
   "outputs": [
    {
     "name": "stdout",
     "output_type": "stream",
     "text": [
      "10\n",
      "20\n"
     ]
    }
   ],
   "source": [
    "print(a.val)\n",
    "a.foo(20)\n",
    "print(a.val)"
   ]
  },
  {
   "cell_type": "code",
   "execution_count": 113,
   "id": "30f6ff7b",
   "metadata": {},
   "outputs": [
    {
     "data": {
      "text/plain": [
       "'cls_name'"
      ]
     },
     "execution_count": 113,
     "metadata": {},
     "output_type": "execute_result"
    }
   ],
   "source": [
    "a.name"
   ]
  },
  {
   "cell_type": "code",
   "execution_count": 114,
   "id": "4287f22a",
   "metadata": {},
   "outputs": [],
   "source": [
    "a.name = \"foo name\""
   ]
  },
  {
   "cell_type": "code",
   "execution_count": 117,
   "id": "21d92e03",
   "metadata": {},
   "outputs": [
    {
     "data": {
      "text/plain": [
       "'cls_name'"
      ]
     },
     "execution_count": 117,
     "metadata": {},
     "output_type": "execute_result"
    }
   ],
   "source": [
    "A.name"
   ]
  },
  {
   "cell_type": "code",
   "execution_count": 132,
   "id": "655528e4",
   "metadata": {},
   "outputs": [],
   "source": [
    "class Author:\n",
    "    def __init__(self, name):\n",
    "        self.__name = name\n",
    "        \n",
    "    @property\n",
    "    def name(self):\n",
    "        return self.__name\n",
    "    \n",
    "    @name.setter\n",
    "    def name(self, val):\n",
    "        if val.islower():\n",
    "            raise Exception('name must be not in lower')\n",
    "        self.__name = val"
   ]
  },
  {
   "cell_type": "code",
   "execution_count": 133,
   "id": "68e346cf",
   "metadata": {},
   "outputs": [],
   "source": [
    "author = Author('Pelevin')"
   ]
  },
  {
   "cell_type": "code",
   "execution_count": 136,
   "id": "3f6b6e75",
   "metadata": {},
   "outputs": [],
   "source": [
    "dir(author)\n",
    "author.name\n",
    "author.name = 'Gogol'"
   ]
  },
  {
   "cell_type": "code",
   "execution_count": 137,
   "id": "130f4051",
   "metadata": {},
   "outputs": [
    {
     "data": {
      "text/plain": [
       "'Gogol'"
      ]
     },
     "execution_count": 137,
     "metadata": {},
     "output_type": "execute_result"
    }
   ],
   "source": [
    "author.name"
   ]
  },
  {
   "cell_type": "markdown",
   "id": "ff30334c",
   "metadata": {},
   "source": [
    "# Getter/setter"
   ]
  },
  {
   "cell_type": "code",
   "execution_count": 161,
   "id": "70338e56",
   "metadata": {},
   "outputs": [],
   "source": [
    "class Author:\n",
    "    def __init__(self, name, password):\n",
    "        self.__name = name\n",
    "        self.password_hash = None\n",
    "        self.password = password\n",
    "        \n",
    "    @property\n",
    "    def name(self):\n",
    "        \"\"\"name is read-only\"\"\"\n",
    "        return self.__name\n",
    "    \n",
    "    @property\n",
    "    def password(self):\n",
    "        return self.password_hash\n",
    "        \n",
    "    @password.setter\n",
    "    def password(self, plaintext):\n",
    "        print(f'{plaintext=}')\n",
    "        if len(plaintext) < 5:\n",
    "            raise AttributeError('Len of password must be more than 4 letters.')\n",
    "        self.password_hash = hash(plaintext)"
   ]
  },
  {
   "cell_type": "code",
   "execution_count": 162,
   "id": "f1f457e3",
   "metadata": {},
   "outputs": [
    {
     "name": "stdout",
     "output_type": "stream",
     "text": [
      "plaintext='s3cr3t'\n"
     ]
    }
   ],
   "source": [
    "author = Author('Pelevin', 's3cr3t')"
   ]
  },
  {
   "cell_type": "code",
   "execution_count": 150,
   "id": "e1bac56f",
   "metadata": {},
   "outputs": [
    {
     "ename": "AttributeError",
     "evalue": "can't set attribute",
     "output_type": "error",
     "traceback": [
      "\u001b[0;31m---------------------------------------------------------------------------\u001b[0m",
      "\u001b[0;31mAttributeError\u001b[0m                            Traceback (most recent call last)",
      "Input \u001b[0;32mIn [150]\u001b[0m, in \u001b[0;36m<cell line: 1>\u001b[0;34m()\u001b[0m\n\u001b[0;32m----> 1\u001b[0m author\u001b[38;5;241m.\u001b[39mname \u001b[38;5;241m=\u001b[39m \u001b[38;5;124m'\u001b[39m\u001b[38;5;124mPushkin\u001b[39m\u001b[38;5;124m'\u001b[39m\n",
      "\u001b[0;31mAttributeError\u001b[0m: can't set attribute"
     ]
    }
   ],
   "source": [
    "author.name = 'Pushkin'"
   ]
  },
  {
   "cell_type": "code",
   "execution_count": 163,
   "id": "2fcd901f",
   "metadata": {},
   "outputs": [
    {
     "name": "stdout",
     "output_type": "stream",
     "text": [
      "plaintext='1234567'\n"
     ]
    }
   ],
   "source": [
    "author.password = '1234567'"
   ]
  },
  {
   "cell_type": "code",
   "execution_count": 164,
   "id": "3abcca08",
   "metadata": {},
   "outputs": [
    {
     "data": {
      "text/plain": [
       "-6588706603962742233"
      ]
     },
     "execution_count": 164,
     "metadata": {},
     "output_type": "execute_result"
    }
   ],
   "source": [
    "author.password"
   ]
  },
  {
   "cell_type": "code",
   "execution_count": 191,
   "id": "93e194a3",
   "metadata": {},
   "outputs": [],
   "source": [
    "class Author:\n",
    "    name = 'Gus'\n",
    "    @staticmethod\n",
    "    def print_static():\n",
    "        print(\"static\", A.name)\n",
    "        \n",
    "    @classmethod\n",
    "    def print_cls(cls):\n",
    "        print(f\"class_method for {cls.__name__}, {cls.name}\")\n",
    "    \n",
    "    def print(self):\n",
    "        print(f\"{self.name=}\")\n",
    "    \n",
    "    @classmethod\n",
    "    def init_pelevin(cls):\n",
    "        res = cls('Pelevin')\n",
    "        res.init_bibliography(res.val)\n",
    "        return res\n",
    "    \n",
    "    def __init__(self, val):\n",
    "        self.val = val\n",
    "        \n",
    "    def print_offset(self, offset=10):\n",
    "        print(self.val + offset)\n",
    "        \n",
    "    def __str__(self):\n",
    "        return f\"{self.__class__.__name__}:val={self.val}\"\n",
    "    \n",
    "def print_static():\n",
    "    print(\"static\", A.name)"
   ]
  },
  {
   "cell_type": "code",
   "execution_count": 192,
   "id": "a1a3cb2f",
   "metadata": {},
   "outputs": [
    {
     "name": "stdout",
     "output_type": "stream",
     "text": [
      "class_method for Author, Gus\n",
      "static Gus\n"
     ]
    }
   ],
   "source": [
    "Author.print_cls()\n",
    "Author.name\n",
    "print_static()"
   ]
  },
  {
   "cell_type": "code",
   "execution_count": 193,
   "id": "77fc3835",
   "metadata": {},
   "outputs": [],
   "source": [
    "pelevin = Author('Pelevin')"
   ]
  },
  {
   "cell_type": "code",
   "execution_count": 195,
   "id": "fc958e42",
   "metadata": {},
   "outputs": [
    {
     "data": {
      "text/plain": [
       "<__main__.Author at 0x10472bd00>"
      ]
     },
     "execution_count": 195,
     "metadata": {},
     "output_type": "execute_result"
    }
   ],
   "source": [
    "pelevin.print.__self__ "
   ]
  },
  {
   "cell_type": "code",
   "execution_count": 209,
   "id": "e8702748",
   "metadata": {},
   "outputs": [],
   "source": [
    "class Point:\n",
    "    __slots__ = ('x', 'y', 'boo')\n",
    "    def __init__(self, x, y):\n",
    "        self.x = x\n",
    "        self.y = y\n",
    "        \n",
    "    def foo(self):\n",
    "        self.boo = 10"
   ]
  },
  {
   "cell_type": "code",
   "execution_count": 210,
   "id": "db4234f7",
   "metadata": {},
   "outputs": [],
   "source": [
    "p1 = Point(0, 1)"
   ]
  },
  {
   "cell_type": "code",
   "execution_count": 211,
   "id": "54383b69",
   "metadata": {},
   "outputs": [
    {
     "data": {
      "text/plain": [
       "('x', 'y', 'boo')"
      ]
     },
     "execution_count": 211,
     "metadata": {},
     "output_type": "execute_result"
    }
   ],
   "source": [
    "p1.__slots__"
   ]
  },
  {
   "cell_type": "code",
   "execution_count": 212,
   "id": "b071f980",
   "metadata": {},
   "outputs": [],
   "source": [
    "p1.foo()"
   ]
  },
  {
   "cell_type": "code",
   "execution_count": null,
   "id": "6cb4b86a",
   "metadata": {},
   "outputs": [],
   "source": []
  }
 ],
 "metadata": {
  "kernelspec": {
   "display_name": "Python 3 (ipykernel)",
   "language": "python",
   "name": "python3"
  },
  "language_info": {
   "codemirror_mode": {
    "name": "ipython",
    "version": 3
   },
   "file_extension": ".py",
   "mimetype": "text/x-python",
   "name": "python",
   "nbconvert_exporter": "python",
   "pygments_lexer": "ipython3",
   "version": "3.9.13"
  }
 },
 "nbformat": 4,
 "nbformat_minor": 5
}
