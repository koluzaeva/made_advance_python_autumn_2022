{
 "cells": [
  {
   "cell_type": "code",
   "execution_count": 5,
   "id": "9102a7d5",
   "metadata": {},
   "outputs": [],
   "source": [
    "import socket\n",
    "import threading"
   ]
  },
  {
   "cell_type": "code",
   "execution_count": 3,
   "id": "b290ccb0",
   "metadata": {},
   "outputs": [
    {
     "name": "stdout",
     "output_type": "stream",
     "text": [
      "<socket.socket fd=73, family=AddressFamily.AF_INET, type=SocketKind.SOCK_STREAM, proto=0, laddr=('0.0.0.0', 0)>\n"
     ]
    }
   ],
   "source": [
    "sock = socket.socket()\n",
    "print(sock)"
   ]
  },
  {
   "cell_type": "code",
   "execution_count": null,
   "id": "25ec91bb",
   "metadata": {},
   "outputs": [],
   "source": []
  },
  {
   "cell_type": "code",
   "execution_count": 11,
   "id": "4fc70ddf",
   "metadata": {},
   "outputs": [
    {
     "name": "stdout",
     "output_type": "stream",
     "text": [
      "CLIENT Hello, Python\n",
      "CLIENT stop\n",
      "conn from ('127.0.0.1', 57748)\n",
      "server recv data b'Hello, Python'\n",
      "CLIENT recv b'HELLO, PYTHON'\n",
      "conn from ('127.0.0.1', 57749)\n",
      "server recv data b'stop'\n",
      "CLIENT recv b'STOP'\n",
      "STOP SERVER\n"
     ]
    }
   ],
   "source": [
    "SOCK_ADDR = (\"localhost\", 5000)\n",
    "\n",
    "\n",
    "def server():\n",
    "    serv = socket.socket()\n",
    "    serv.bind(SOCK_ADDR)\n",
    "    serv.listen(5)\n",
    "    is_final = False\n",
    "\n",
    "    while not is_final:\n",
    "        conn, addr = serv.accept()\n",
    "        print(\"conn from\", addr)\n",
    "\n",
    "        while True:\n",
    "            data = conn.recv(1024)\n",
    "            if not data:\n",
    "                break\n",
    "\n",
    "            print(\"server recv data\", data)\n",
    "\n",
    "            if data == b\"stop\":\n",
    "                is_final = True\n",
    "            \n",
    "            data_up = data.upper()\n",
    "            conn.sendall(data_up)\n",
    "    \n",
    "        conn.close()\n",
    "        \n",
    "    print(\"STOP SERVER\")\n",
    " \n",
    "\n",
    "def client(data):\n",
    "    print(\"CLIENT\", data)\n",
    "    cl = socket.socket()\n",
    "    cl.connect(SOCK_ADDR)\n",
    "\n",
    "    cl.sendall(data.encode())\n",
    "    up_data = cl.recv(1024)\n",
    "    print(\"CLIENT recv\", up_data)\n",
    "    cl.close()\n",
    "    \n",
    "\n",
    "serv_th = threading.Thread(target=server)\n",
    "client1_th = threading.Thread(target=client, args=(\"Hello, Python\",))\n",
    "client2_th = threading.Thread(target=client, args=(\"stop\",))\n",
    "\n",
    "serv_th.start()\n",
    "client1_th.start()\n",
    "client2_th.start()\n",
    "\n",
    "serv_th.join()\n",
    "client1_th.join()\n",
    "client2_th.join()"
   ]
  },
  {
   "cell_type": "code",
   "execution_count": 12,
   "id": "58659d82",
   "metadata": {},
   "outputs": [],
   "source": [
    "import subprocess"
   ]
  },
  {
   "cell_type": "code",
   "execution_count": 13,
   "id": "66032825",
   "metadata": {},
   "outputs": [
    {
     "name": "stdout",
     "output_type": "stream",
     "text": [
      "total 304\r\n",
      "drwxr-xr-x  24 g.kandaurov  staff    768 Oct 24 19:51 \u001b[1m\u001b[34m.\u001b[m\u001b[m\r\n",
      "drwxr-xr-x  32 g.kandaurov  staff   1024 Sep 12 18:37 \u001b[1m\u001b[34m..\u001b[m\u001b[m\r\n",
      "drwxr-xr-x  15 g.kandaurov  staff    480 Oct 24 17:51 \u001b[1m\u001b[34m.git\u001b[m\u001b[m\r\n",
      "-rw-r--r--   1 g.kandaurov  staff   1799 Sep 12 18:37 .gitignore\r\n",
      "drwxr-xr-x  11 g.kandaurov  staff    352 Oct 24 19:27 \u001b[1m\u001b[34m.ipynb_checkpoints\u001b[m\u001b[m\r\n",
      "drwxr-xr-x   7 g.kandaurov  staff    224 Sep 12 19:51 \u001b[1m\u001b[34m.venv\u001b[m\u001b[m\r\n",
      "-rw-r--r--   1 g.kandaurov  staff    963 Oct 24 13:09 README.md\r\n",
      "-rw-r--r--   1 g.kandaurov  staff  10138 Oct 24 18:42 Untitled.ipynb\r\n",
      "drwxr-xr-x   6 g.kandaurov  staff    192 Sep 26 22:11 \u001b[1m\u001b[34m__pycache__\u001b[m\u001b[m\r\n",
      "drwxr-xr-x   5 g.kandaurov  staff    160 Oct 17 22:34 \u001b[1m\u001b[34madvance-01\u001b[m\u001b[m\r\n",
      "drwxr-xr-x   6 g.kandaurov  staff    192 Oct 17 22:34 \u001b[1m\u001b[34madvance-02\u001b[m\u001b[m\r\n",
      "drwxr-xr-x   4 g.kandaurov  staff    128 Oct 24 17:49 \u001b[1m\u001b[34madvance-03\u001b[m\u001b[m\r\n",
      "-rw-r--r--   1 g.kandaurov  staff   9358 Oct 24 19:51 class_advance_03.ipynb\r\n",
      "drwxr-xr-x   5 g.kandaurov  staff    160 Sep 12 22:49 \u001b[1m\u001b[34mintensive-01\u001b[m\u001b[m\r\n",
      "drwxr-xr-x   5 g.kandaurov  staff    160 Sep 16 22:22 \u001b[1m\u001b[34mintensive-02\u001b[m\u001b[m\r\n",
      "drwxr-xr-x   6 g.kandaurov  staff    192 Sep 26 14:03 \u001b[1m\u001b[34mintensive-03\u001b[m\u001b[m\r\n",
      "drwxr-xr-x   5 g.kandaurov  staff    160 Oct  3 16:43 \u001b[1m\u001b[34mintensive-04\u001b[m\u001b[m\r\n",
      "drwxr-xr-x   7 g.kandaurov  staff    224 Oct  3 16:43 \u001b[1m\u001b[34mintensive-05\u001b[m\u001b[m\r\n",
      "drwxr-xr-x   5 g.kandaurov  staff    160 Oct 10 12:47 \u001b[1m\u001b[34mintensive-06\u001b[m\u001b[m\r\n",
      "drwxr-xr-x   5 g.kandaurov  staff    160 Oct  7 16:58 \u001b[1m\u001b[34mintensive-07\u001b[m\u001b[m\r\n",
      "drwxr-xr-x   5 g.kandaurov  staff    160 Oct 17 12:20 \u001b[1m\u001b[34mintensive-08\u001b[m\u001b[m\r\n",
      "-rw-r--r--   1 g.kandaurov  staff  46194 Oct 24 17:28 lesson-04.ipynb\r\n",
      "-rw-r--r--   1 g.kandaurov  staff  21566 Oct 24 18:04 lesson-04_spring.ipynb\r\n",
      "-rw-r--r--   1 g.kandaurov  staff  45746 Oct 24 18:30 lesson-05.ipynb\r\n"
     ]
    }
   ],
   "source": [
    "!ls -al"
   ]
  },
  {
   "cell_type": "code",
   "execution_count": 16,
   "id": "aeda38d3",
   "metadata": {},
   "outputs": [],
   "source": [
    "!false"
   ]
  },
  {
   "cell_type": "code",
   "execution_count": 19,
   "id": "90c40050",
   "metadata": {},
   "outputs": [
    {
     "data": {
      "text/plain": [
       "CompletedProcess(args=['false'], returncode=1)"
      ]
     },
     "execution_count": 19,
     "metadata": {},
     "output_type": "execute_result"
    }
   ],
   "source": [
    "subprocess.run([\"false\"])"
   ]
  },
  {
   "cell_type": "code",
   "execution_count": 23,
   "id": "9f8bbc40",
   "metadata": {},
   "outputs": [
    {
     "name": "stdout",
     "output_type": "stream",
     "text": [
      "1.5974025974025974\n"
     ]
    },
    {
     "data": {
      "text/plain": [
       "CompletedProcess(args=['python', '-c', 'print(123/77)'], returncode=0)"
      ]
     },
     "execution_count": 23,
     "metadata": {},
     "output_type": "execute_result"
    }
   ],
   "source": [
    "subprocess.run([\"python\", \"-c\", \"print(123/77)\"])"
   ]
  },
  {
   "cell_type": "code",
   "execution_count": null,
   "id": "6352c162",
   "metadata": {},
   "outputs": [],
   "source": []
  },
  {
   "cell_type": "code",
   "execution_count": null,
   "id": "9dc20208",
   "metadata": {},
   "outputs": [],
   "source": []
  },
  {
   "cell_type": "code",
   "execution_count": null,
   "id": "cd1bf4eb",
   "metadata": {},
   "outputs": [],
   "source": []
  },
  {
   "cell_type": "code",
   "execution_count": null,
   "id": "122b2e05",
   "metadata": {},
   "outputs": [],
   "source": []
  },
  {
   "cell_type": "code",
   "execution_count": null,
   "id": "f292ecde",
   "metadata": {},
   "outputs": [],
   "source": []
  },
  {
   "cell_type": "markdown",
   "id": "71494085",
   "metadata": {},
   "source": [
    "## Descriptors"
   ]
  },
  {
   "cell_type": "code",
   "execution_count": 35,
   "id": "712f000e",
   "metadata": {},
   "outputs": [],
   "source": [
    "class PrintDescriptor:\n",
    "    def __init__(self, val):\n",
    "        self._val = val\n",
    "    \n",
    "    def __get__(self, obj, owner):\n",
    "        print(f\"GET {obj=}, {owner=}\")\n",
    "\n",
    "        return self._val\n",
    "\n",
    "    def __set__(self, obj, val):\n",
    "        print(f\"SET {obj=}, {val=}\")\n",
    "\n",
    "        self._val = val\n",
    "    \n",
    "    def __delete__(self, obj):\n",
    "        print(f\"DELETE {obj=}\")\n",
    "        \n",
    "\n",
    "class PrintData:\n",
    "    name = PrintDescriptor(\"Chair\")\n",
    "\n",
    "\n",
    "data = PrintData()"
   ]
  },
  {
   "cell_type": "code",
   "execution_count": 29,
   "id": "487c5302",
   "metadata": {},
   "outputs": [
    {
     "name": "stdout",
     "output_type": "stream",
     "text": [
      "GET obj=<__main__.PrintData object at 0x109ccbc10>, owner=<class '__main__.PrintData'>\n"
     ]
    },
    {
     "data": {
      "text/plain": [
       "'Chair'"
      ]
     },
     "execution_count": 29,
     "metadata": {},
     "output_type": "execute_result"
    }
   ],
   "source": [
    "data.name"
   ]
  },
  {
   "cell_type": "code",
   "execution_count": 36,
   "id": "ab0c983a",
   "metadata": {},
   "outputs": [
    {
     "name": "stdout",
     "output_type": "stream",
     "text": [
      "SET obj=<__main__.PrintData object at 0x109ccad40>, val='Table'\n",
      "GET obj=<__main__.PrintData object at 0x109ccad40>, owner=<class '__main__.PrintData'>\n"
     ]
    },
    {
     "data": {
      "text/plain": [
       "'Table'"
      ]
     },
     "execution_count": 36,
     "metadata": {},
     "output_type": "execute_result"
    }
   ],
   "source": [
    "data.name = \"Table\"\n",
    "data.name"
   ]
  },
  {
   "cell_type": "code",
   "execution_count": 32,
   "id": "f37b8207",
   "metadata": {},
   "outputs": [
    {
     "name": "stdout",
     "output_type": "stream",
     "text": [
      "GET obj=None, owner=<class '__main__.PrintData'>\n"
     ]
    },
    {
     "data": {
      "text/plain": [
       "'Chair'"
      ]
     },
     "execution_count": 32,
     "metadata": {},
     "output_type": "execute_result"
    }
   ],
   "source": [
    "PrintData.name"
   ]
  },
  {
   "cell_type": "code",
   "execution_count": 33,
   "id": "05dfb41b",
   "metadata": {},
   "outputs": [
    {
     "name": "stdout",
     "output_type": "stream",
     "text": [
      "DELETE obj=<__main__.PrintData object at 0x109ccbc10>\n"
     ]
    }
   ],
   "source": [
    "del data.name"
   ]
  },
  {
   "cell_type": "code",
   "execution_count": 34,
   "id": "c48c6c51",
   "metadata": {},
   "outputs": [
    {
     "name": "stdout",
     "output_type": "stream",
     "text": [
      "GET obj=<__main__.PrintData object at 0x109ccbc10>, owner=<class '__main__.PrintData'>\n"
     ]
    },
    {
     "data": {
      "text/plain": [
       "'Chair'"
      ]
     },
     "execution_count": 34,
     "metadata": {},
     "output_type": "execute_result"
    }
   ],
   "source": [
    "data.name"
   ]
  },
  {
   "cell_type": "code",
   "execution_count": null,
   "id": "a2e30d58",
   "metadata": {},
   "outputs": [],
   "source": []
  },
  {
   "cell_type": "code",
   "execution_count": null,
   "id": "95c81350",
   "metadata": {},
   "outputs": [],
   "source": []
  },
  {
   "cell_type": "code",
   "execution_count": null,
   "id": "d951b39c",
   "metadata": {},
   "outputs": [],
   "source": []
  },
  {
   "cell_type": "code",
   "execution_count": null,
   "id": "6b763e7b",
   "metadata": {},
   "outputs": [],
   "source": []
  },
  {
   "cell_type": "code",
   "execution_count": 46,
   "id": "b39343b5",
   "metadata": {},
   "outputs": [
    {
     "name": "stdout",
     "output_type": "stream",
     "text": [
      "SET obj=<__main__.PrintData object at 0x10a3b6380>, val='Chair'\n",
      "SET obj=<__main__.PrintData object at 0x10a3b52a0>, val='Table'\n",
      "GET obj=<__main__.PrintData object at 0x10a3b6380>, owner=<class '__main__.PrintData'>\n",
      "GET obj=<__main__.PrintData object at 0x10a3b52a0>, owner=<class '__main__.PrintData'>\n",
      "\n",
      "start: data1.name='Table', data2.name='Table'\n",
      "\n",
      "GET obj=<__main__.PrintData object at 0x10a3b6380>, owner=<class '__main__.PrintData'>\n",
      "GET obj=<__main__.PrintData object at 0x10a3b52a0>, owner=<class '__main__.PrintData'>\n",
      "\n",
      "end: data1.name='Table', data2.name='Table'\n",
      "\n"
     ]
    }
   ],
   "source": [
    "class PrintDescriptor:\n",
    "    def __init__(self, val):\n",
    "        self._val = val\n",
    "    \n",
    "    def __get__(self, obj, owner):\n",
    "        print(f\"GET {obj=}, {owner=}\")\n",
    "\n",
    "        return self._val\n",
    "\n",
    "    def __set__(self, obj, val):\n",
    "        print(f\"SET {obj=}, {val=}\")\n",
    "\n",
    "        self._val = val\n",
    "    \n",
    "    def __delete__(self, obj):\n",
    "        print(f\"DELETE {obj=}\")\n",
    "        \n",
    "\n",
    "class PrintData:\n",
    "    name = PrintDescriptor(\"Chair\")\n",
    "    \n",
    "    def __init__(self, name):\n",
    "        self.name = name\n",
    "\n",
    "\n",
    "data1 = PrintData(\"Chair\")\n",
    "data2 = PrintData(\"Table\")\n",
    "\n",
    "print(f\"\\nstart: {data1.name=}, {data2.name=}\\n\")\n",
    "\n",
    "# data2.name = \"Table\"\n",
    "\n",
    "print(f\"\\nend: {data1.name=}, {data2.name=}\\n\")"
   ]
  },
  {
   "cell_type": "code",
   "execution_count": 47,
   "id": "0b719863",
   "metadata": {},
   "outputs": [
    {
     "data": {
      "text/plain": [
       "{}"
      ]
     },
     "execution_count": 47,
     "metadata": {},
     "output_type": "execute_result"
    }
   ],
   "source": [
    "data1.__dict__"
   ]
  },
  {
   "cell_type": "code",
   "execution_count": null,
   "id": "38160684",
   "metadata": {},
   "outputs": [],
   "source": []
  },
  {
   "cell_type": "code",
   "execution_count": 49,
   "id": "5c9f3ef6",
   "metadata": {},
   "outputs": [
    {
     "name": "stdout",
     "output_type": "stream",
     "text": [
      "SET obj=<__main__.PrintData object at 0x109da7af0>, val='Chair'\n",
      "SET obj=<__main__.PrintData object at 0x109da7c70>, val='Table'\n",
      "GET obj=<__main__.PrintData object at 0x109da7af0>, owner=<class '__main__.PrintData'>\n",
      "GET obj=<__main__.PrintData object at 0x109da7c70>, owner=<class '__main__.PrintData'>\n",
      "\n",
      "start: data1.name='Chair', data2.name='Table'\n",
      "\n",
      "SET obj=<__main__.PrintData object at 0x109da7c70>, val='Shelf'\n",
      "GET obj=<__main__.PrintData object at 0x109da7af0>, owner=<class '__main__.PrintData'>\n",
      "GET obj=<__main__.PrintData object at 0x109da7c70>, owner=<class '__main__.PrintData'>\n",
      "\n",
      "end: data1.name='Chair', data2.name='Shelf'\n",
      "\n"
     ]
    }
   ],
   "source": [
    "class PrintDescriptor:\n",
    "    \n",
    "    def __init__(self, attr_name):\n",
    "        self.attr_name = attr_name\n",
    "    \n",
    "    def __get__(self, obj, owner):\n",
    "        print(f\"GET {obj=}, {owner=}\")\n",
    "\n",
    "        if obj is not None:\n",
    "            return obj.attr_name\n",
    "\n",
    "    def __set__(self, obj, val):\n",
    "        print(f\"SET {obj=}, {val=}\")\n",
    "        \n",
    "        if obj is not None:\n",
    "            obj.attr_name = val\n",
    "\n",
    "    def __delete__(self, obj):\n",
    "        print(f\"DELETE {obj=}\")\n",
    "    \n",
    "        del obj.attr_name\n",
    "        \n",
    "\n",
    "class PrintData:\n",
    "    name = PrintDescriptor(\"default\")\n",
    "    \n",
    "    def __init__(self, name):\n",
    "        self.name = name\n",
    "\n",
    "\n",
    "data1 = PrintData(\"Chair\")\n",
    "data2 = PrintData(\"Table\")\n",
    "\n",
    "print(f\"\\nstart: {data1.name=}, {data2.name=}\\n\")\n",
    "\n",
    "data2.name = \"Shelf\"\n",
    "\n",
    "print(f\"\\nend: {data1.name=}, {data2.name=}\\n\")"
   ]
  },
  {
   "cell_type": "code",
   "execution_count": 50,
   "id": "a8739f90",
   "metadata": {},
   "outputs": [
    {
     "data": {
      "text/plain": [
       "({'attr_name': 'Chair'}, {'attr_name': 'Shelf'})"
      ]
     },
     "execution_count": 50,
     "metadata": {},
     "output_type": "execute_result"
    }
   ],
   "source": [
    "data1.__dict__, data2.__dict__"
   ]
  },
  {
   "cell_type": "code",
   "execution_count": 51,
   "id": "a10aa528",
   "metadata": {},
   "outputs": [
    {
     "name": "stdout",
     "output_type": "stream",
     "text": [
      "DELETE obj=<__main__.PrintData object at 0x109da7af0>\n"
     ]
    }
   ],
   "source": [
    "del data1.name"
   ]
  },
  {
   "cell_type": "code",
   "execution_count": 52,
   "id": "c67ab567",
   "metadata": {},
   "outputs": [
    {
     "data": {
      "text/plain": [
       "{}"
      ]
     },
     "execution_count": 52,
     "metadata": {},
     "output_type": "execute_result"
    }
   ],
   "source": [
    "data1.__dict__"
   ]
  },
  {
   "cell_type": "code",
   "execution_count": 53,
   "id": "b4fb450f",
   "metadata": {},
   "outputs": [
    {
     "name": "stdout",
     "output_type": "stream",
     "text": [
      "GET obj=<__main__.PrintData object at 0x109da7af0>, owner=<class '__main__.PrintData'>\n"
     ]
    },
    {
     "ename": "AttributeError",
     "evalue": "'PrintData' object has no attribute 'attr_name'",
     "output_type": "error",
     "traceback": [
      "\u001b[0;31m---------------------------------------------------------------------------\u001b[0m",
      "\u001b[0;31mAttributeError\u001b[0m                            Traceback (most recent call last)",
      "Cell \u001b[0;32mIn [53], line 1\u001b[0m\n\u001b[0;32m----> 1\u001b[0m \u001b[43mdata1\u001b[49m\u001b[38;5;241;43m.\u001b[39;49m\u001b[43mname\u001b[49m\n",
      "Cell \u001b[0;32mIn [49], line 10\u001b[0m, in \u001b[0;36mPrintDescriptor.__get__\u001b[0;34m(self, obj, owner)\u001b[0m\n\u001b[1;32m      7\u001b[0m \u001b[38;5;28mprint\u001b[39m(\u001b[38;5;124mf\u001b[39m\u001b[38;5;124m\"\u001b[39m\u001b[38;5;124mGET \u001b[39m\u001b[38;5;132;01m{\u001b[39;00mobj\u001b[38;5;132;01m=}\u001b[39;00m\u001b[38;5;124m, \u001b[39m\u001b[38;5;132;01m{\u001b[39;00mowner\u001b[38;5;132;01m=}\u001b[39;00m\u001b[38;5;124m\"\u001b[39m)\n\u001b[1;32m      9\u001b[0m \u001b[38;5;28;01mif\u001b[39;00m obj \u001b[38;5;129;01mis\u001b[39;00m \u001b[38;5;129;01mnot\u001b[39;00m \u001b[38;5;28;01mNone\u001b[39;00m:\n\u001b[0;32m---> 10\u001b[0m     \u001b[38;5;28;01mreturn\u001b[39;00m \u001b[43mobj\u001b[49m\u001b[38;5;241;43m.\u001b[39;49m\u001b[43mattr_name\u001b[49m\n",
      "\u001b[0;31mAttributeError\u001b[0m: 'PrintData' object has no attribute 'attr_name'"
     ]
    }
   ],
   "source": [
    "data1.name"
   ]
  },
  {
   "cell_type": "code",
   "execution_count": 54,
   "id": "985d423e",
   "metadata": {},
   "outputs": [
    {
     "data": {
      "text/plain": [
       "'Shelf'"
      ]
     },
     "execution_count": 54,
     "metadata": {},
     "output_type": "execute_result"
    }
   ],
   "source": [
    "data2.attr_name"
   ]
  },
  {
   "cell_type": "code",
   "execution_count": 55,
   "id": "6a435e2d",
   "metadata": {},
   "outputs": [],
   "source": [
    "data2.attr_name = \"Sofa\""
   ]
  },
  {
   "cell_type": "code",
   "execution_count": 57,
   "id": "272fd5fa",
   "metadata": {},
   "outputs": [
    {
     "name": "stdout",
     "output_type": "stream",
     "text": [
      "GET obj=<__main__.PrintData object at 0x109da7c70>, owner=<class '__main__.PrintData'>\n"
     ]
    },
    {
     "data": {
      "text/plain": [
       "('Sofa', 'Sofa')"
      ]
     },
     "execution_count": 57,
     "metadata": {},
     "output_type": "execute_result"
    }
   ],
   "source": [
    "data2.attr_name, data2.name"
   ]
  },
  {
   "cell_type": "code",
   "execution_count": null,
   "id": "d6653cf4",
   "metadata": {},
   "outputs": [],
   "source": []
  },
  {
   "cell_type": "code",
   "execution_count": null,
   "id": "e734eaed",
   "metadata": {},
   "outputs": [],
   "source": []
  },
  {
   "cell_type": "code",
   "execution_count": null,
   "id": "3fd8646a",
   "metadata": {},
   "outputs": [],
   "source": []
  },
  {
   "cell_type": "code",
   "execution_count": 69,
   "id": "0311bd52",
   "metadata": {},
   "outputs": [
    {
     "name": "stdout",
     "output_type": "stream",
     "text": [
      "SET obj=<__main__.PrintData object at 0x109cd0100>, val='Chair'\n",
      "SET obj=<__main__.PrintData object at 0x109cd0100>, val='111'\n",
      "SET obj=<__main__.PrintData object at 0x109cd3280>, val='Table'\n",
      "SET obj=<__main__.PrintData object at 0x109cd3280>, val='222'\n",
      "GET obj=<__main__.PrintData object at 0x109cd0100>, owner=<class '__main__.PrintData'>\n",
      "GET obj=<__main__.PrintData object at 0x109cd3280>, owner=<class '__main__.PrintData'>\n",
      "\n",
      "start: data1.name='Chair', data2.name='Table'\n",
      "\n",
      "GET obj=<__main__.PrintData object at 0x109cd0100>, owner=<class '__main__.PrintData'>\n",
      "GET obj=<__main__.PrintData object at 0x109cd3280>, owner=<class '__main__.PrintData'>\n",
      "\n",
      "start: data1.surname='111', data2.surname='222'\n",
      "\n",
      "SET obj=<__main__.PrintData object at 0x109cd3280>, val='Shelf'\n",
      "GET obj=<__main__.PrintData object at 0x109cd0100>, owner=<class '__main__.PrintData'>\n",
      "GET obj=<__main__.PrintData object at 0x109cd3280>, owner=<class '__main__.PrintData'>\n",
      "\n",
      "end: data1.name='Chair', data2.name='Shelf'\n",
      "\n",
      "GET obj=<__main__.PrintData object at 0x109cd0100>, owner=<class '__main__.PrintData'>\n",
      "GET obj=<__main__.PrintData object at 0x109cd3280>, owner=<class '__main__.PrintData'>\n",
      "\n",
      "end: data1.surname='111', data2.surname='222'\n",
      "\n"
     ]
    }
   ],
   "source": [
    "class PrintDescriptor:\n",
    "    \n",
    "    def __init__(self, attr_name):\n",
    "        self.attr_name = attr_name\n",
    "    \n",
    "    def __get__(self, obj, owner):\n",
    "        print(f\"GET {obj=}, {owner=}\")\n",
    "\n",
    "        if obj is not None:\n",
    "            return getattr(obj, self.attr_name)\n",
    "\n",
    "    def __set__(self, obj, val):\n",
    "        print(f\"SET {obj=}, {val=}\")\n",
    "        \n",
    "        if obj is not None:\n",
    "            setattr(obj, self.attr_name, val)\n",
    "\n",
    "    def __delete__(self, obj):\n",
    "        print(f\"DELETE {obj=}\")\n",
    "        \n",
    "        delattr(obj, self.attr_name)\n",
    "\n",
    "        \n",
    "\n",
    "class PrintData:\n",
    "    name = PrintDescriptor(\"_local_name\")\n",
    "    surname = PrintDescriptor(\"_local_surname\")\n",
    "    \n",
    "    def __init__(self, name, surname):\n",
    "        self.name = name\n",
    "        self.surname = surname\n",
    "\n",
    "\n",
    "data1 = PrintData(\"Chair\", \"111\")\n",
    "data2 = PrintData(\"Table\", \"222\")\n",
    "\n",
    "print(f\"\\nstart: {data1.name=}, {data2.name=}\\n\")\n",
    "print(f\"\\nstart: {data1.surname=}, {data2.surname=}\\n\")\n",
    "\n",
    "data2.name = \"Shelf\"\n",
    "\n",
    "print(f\"\\nend: {data1.name=}, {data2.name=}\\n\")\n",
    "print(f\"\\nend: {data1.surname=}, {data2.surname=}\\n\")"
   ]
  },
  {
   "cell_type": "code",
   "execution_count": 59,
   "id": "5db25076",
   "metadata": {},
   "outputs": [
    {
     "data": {
      "text/plain": [
       "{'attr_name': 'Chair'}"
      ]
     },
     "execution_count": 59,
     "metadata": {},
     "output_type": "execute_result"
    }
   ],
   "source": [
    "data1.__dict__"
   ]
  },
  {
   "cell_type": "code",
   "execution_count": 65,
   "id": "7328d2d9",
   "metadata": {},
   "outputs": [
    {
     "name": "stdout",
     "output_type": "stream",
     "text": [
      "GET obj=<__main__.PrintData object at 0x10a3c6e90>, owner=<class '__main__.PrintData'>\n"
     ]
    },
    {
     "data": {
      "text/plain": [
       "'Chair'"
      ]
     },
     "execution_count": 65,
     "metadata": {},
     "output_type": "execute_result"
    }
   ],
   "source": [
    "data1.N"
   ]
  },
  {
   "cell_type": "code",
   "execution_count": 66,
   "id": "53398416",
   "metadata": {},
   "outputs": [
    {
     "name": "stdout",
     "output_type": "stream",
     "text": [
      "GET obj=<__main__.PrintData object at 0x10a3c6e90>, owner=<class '__main__.PrintData'>\n"
     ]
    },
    {
     "data": {
      "text/plain": [
       "'Chair'"
      ]
     },
     "execution_count": 66,
     "metadata": {},
     "output_type": "execute_result"
    }
   ],
   "source": [
    "data1.name"
   ]
  },
  {
   "cell_type": "code",
   "execution_count": null,
   "id": "4849dd4f",
   "metadata": {},
   "outputs": [],
   "source": []
  },
  {
   "cell_type": "code",
   "execution_count": 71,
   "id": "e7b23120",
   "metadata": {},
   "outputs": [
    {
     "name": "stdout",
     "output_type": "stream",
     "text": [
      "SET_NAME owner=<class '__main__.PrintData'>, name_attr='name'\n",
      "SET_NAME owner=<class '__main__.PrintData'>, name_attr='surname'\n",
      "\n",
      "CLASS CREATED\n",
      "\n",
      "\n",
      "SET obj=<__main__.PrintData object at 0x10a3b7010>, val='Chair'\n",
      "SET obj=<__main__.PrintData object at 0x10a3b7010>, val='111'\n",
      "SET obj=<__main__.PrintData object at 0x10a3b73a0>, val='Table'\n",
      "SET obj=<__main__.PrintData object at 0x10a3b73a0>, val='222'\n",
      "GET obj=<__main__.PrintData object at 0x10a3b7010>, owner=<class '__main__.PrintData'>\n",
      "GET obj=<__main__.PrintData object at 0x10a3b73a0>, owner=<class '__main__.PrintData'>\n",
      "\n",
      "start: data1.name='Chair', data2.name='Table'\n",
      "\n",
      "GET obj=<__main__.PrintData object at 0x10a3b7010>, owner=<class '__main__.PrintData'>\n",
      "GET obj=<__main__.PrintData object at 0x10a3b73a0>, owner=<class '__main__.PrintData'>\n",
      "\n",
      "start: data1.surname='111', data2.surname='222'\n",
      "\n",
      "SET obj=<__main__.PrintData object at 0x10a3b73a0>, val='Shelf'\n",
      "GET obj=<__main__.PrintData object at 0x10a3b7010>, owner=<class '__main__.PrintData'>\n",
      "GET obj=<__main__.PrintData object at 0x10a3b73a0>, owner=<class '__main__.PrintData'>\n",
      "\n",
      "end: data1.name='Chair', data2.name='Shelf'\n",
      "\n",
      "GET obj=<__main__.PrintData object at 0x10a3b7010>, owner=<class '__main__.PrintData'>\n",
      "GET obj=<__main__.PrintData object at 0x10a3b73a0>, owner=<class '__main__.PrintData'>\n",
      "\n",
      "end: data1.surname='111', data2.surname='222'\n",
      "\n"
     ]
    }
   ],
   "source": [
    "class PrintDescriptor:\n",
    "    \n",
    "    def __set_name__(self, owner, name_attr):\n",
    "        print(f\"SET_NAME {owner=}, {name_attr=}\")\n",
    "        self.attr_name = f\"_local_{name_attr}\"\n",
    "    \n",
    "    def __get__(self, obj, owner):\n",
    "        print(f\"GET {obj=}, {owner=}\")\n",
    "\n",
    "        if obj is not None:\n",
    "            return getattr(obj, self.attr_name)\n",
    "\n",
    "    def __set__(self, obj, val):\n",
    "        print(f\"SET {obj=}, {val=}\")\n",
    "        \n",
    "        if obj is not None:\n",
    "            setattr(obj, self.attr_name, val)\n",
    "\n",
    "    def __delete__(self, obj):\n",
    "        print(f\"DELETE {obj=}\")\n",
    "        \n",
    "        delattr(obj, self.attr_name)\n",
    "\n",
    "        \n",
    "\n",
    "class PrintData:\n",
    "    name = PrintDescriptor()\n",
    "    surname = PrintDescriptor()\n",
    "    \n",
    "    def __init__(self, name, surname):\n",
    "        self.name = name  # Table\n",
    "        self.surname = surname\n",
    "\n",
    "print(\"\\nCLASS CREATED\\n\\n\")\n",
    "\n",
    "\n",
    "data1 = PrintData(\"Chair\", \"111\")\n",
    "data2 = PrintData(\"Table\", \"222\")\n",
    "\n",
    "print(f\"\\nstart: {data1.name=}, {data2.name=}\\n\")\n",
    "print(f\"\\nstart: {data1.surname=}, {data2.surname=}\\n\")\n",
    "\n",
    "data2.name = \"Shelf\"\n",
    "\n",
    "print(f\"\\nend: {data1.name=}, {data2.name=}\\n\")\n",
    "print(f\"\\nend: {data1.surname=}, {data2.surname=}\\n\")"
   ]
  },
  {
   "cell_type": "code",
   "execution_count": 72,
   "id": "4822bfd1",
   "metadata": {},
   "outputs": [
    {
     "data": {
      "text/plain": [
       "{'_local_name': 'Chair', '_local_surname': '111'}"
      ]
     },
     "execution_count": 72,
     "metadata": {},
     "output_type": "execute_result"
    }
   ],
   "source": [
    "data1.__dict__"
   ]
  },
  {
   "cell_type": "code",
   "execution_count": 73,
   "id": "0503e55f",
   "metadata": {},
   "outputs": [
    {
     "data": {
      "text/plain": [
       "mappingproxy({'__module__': '__main__',\n",
       "              'name': <__main__.PrintDescriptor at 0x10a3b68f0>,\n",
       "              'surname': <__main__.PrintDescriptor at 0x10a3b5d50>,\n",
       "              '__init__': <function __main__.PrintData.__init__(self, name, surname)>,\n",
       "              '__dict__': <attribute '__dict__' of 'PrintData' objects>,\n",
       "              '__weakref__': <attribute '__weakref__' of 'PrintData' objects>,\n",
       "              '__doc__': None})"
      ]
     },
     "execution_count": 73,
     "metadata": {},
     "output_type": "execute_result"
    }
   ],
   "source": [
    "PrintData.__dict__"
   ]
  },
  {
   "cell_type": "code",
   "execution_count": null,
   "id": "16f90398",
   "metadata": {},
   "outputs": [],
   "source": []
  },
  {
   "cell_type": "code",
   "execution_count": null,
   "id": "22be08a7",
   "metadata": {},
   "outputs": [],
   "source": []
  },
  {
   "cell_type": "code",
   "execution_count": 90,
   "id": "a877a3c6",
   "metadata": {},
   "outputs": [
    {
     "name": "stdout",
     "output_type": "stream",
     "text": [
      "val 9\n",
      "81\n"
     ]
    }
   ],
   "source": [
    "class AreaDescriptor:\n",
    "    \n",
    "    def __set_name__(self, owner, name_attr):\n",
    "        self.attr_name = f\"_local_{name_attr}\"\n",
    "    \n",
    "    def __get__(self, obj, owner):\n",
    "        if obj is not None:\n",
    "            val = getattr(obj, self.attr_name)\n",
    "            return val * val\n",
    "\n",
    "    def __set__(self, obj, val):\n",
    "        if not isinstance(val, (float, int, bool)):\n",
    "            raise Exception(\"not a num\")\n",
    "        \n",
    "        if obj is not None:\n",
    "            print(\"val\", val)\n",
    "            setattr(obj, self.attr_name, val)\n",
    "\n",
    "\n",
    "class Square:\n",
    "    side = AreaDescriptor()\n",
    "    \n",
    "    def __init__(self, side):\n",
    "        self.side = side\n",
    "        \n",
    "    def calc_dist(self):\n",
    "        print(\"calc_dist\")\n",
    "        return 42\n",
    "\n",
    "\n",
    "s1 = Square(9)\n",
    "print(f\"{s1.side}\")"
   ]
  },
  {
   "cell_type": "code",
   "execution_count": 78,
   "id": "57f83906",
   "metadata": {},
   "outputs": [
    {
     "data": {
      "text/plain": [
       "{'_local_side': 9}"
      ]
     },
     "execution_count": 78,
     "metadata": {},
     "output_type": "execute_result"
    }
   ],
   "source": [
    "s1.__dict__"
   ]
  },
  {
   "cell_type": "code",
   "execution_count": 81,
   "id": "e22384a9",
   "metadata": {},
   "outputs": [
    {
     "name": "stdout",
     "output_type": "stream",
     "text": [
      "val 6\n"
     ]
    },
    {
     "data": {
      "text/plain": [
       "36"
      ]
     },
     "execution_count": 81,
     "metadata": {},
     "output_type": "execute_result"
    }
   ],
   "source": [
    "s1.side = 6\n",
    "s1.side"
   ]
  },
  {
   "cell_type": "code",
   "execution_count": 82,
   "id": "7e4de1e8",
   "metadata": {},
   "outputs": [
    {
     "ename": "Exception",
     "evalue": "not a num",
     "output_type": "error",
     "traceback": [
      "\u001b[0;31m---------------------------------------------------------------------------\u001b[0m",
      "\u001b[0;31mException\u001b[0m                                 Traceback (most recent call last)",
      "Cell \u001b[0;32mIn [82], line 1\u001b[0m\n\u001b[0;32m----> 1\u001b[0m \u001b[43ms1\u001b[49m\u001b[38;5;241;43m.\u001b[39;49m\u001b[43mside\u001b[49m \u001b[38;5;241m=\u001b[39m \u001b[38;5;124m\"\u001b[39m\u001b[38;5;124m123\u001b[39m\u001b[38;5;124m\"\u001b[39m\n",
      "Cell \u001b[0;32mIn [77], line 13\u001b[0m, in \u001b[0;36mAreaDescriptor.__set__\u001b[0;34m(self, obj, val)\u001b[0m\n\u001b[1;32m     11\u001b[0m \u001b[38;5;28;01mdef\u001b[39;00m \u001b[38;5;21m__set__\u001b[39m(\u001b[38;5;28mself\u001b[39m, obj, val):\n\u001b[1;32m     12\u001b[0m     \u001b[38;5;28;01mif\u001b[39;00m \u001b[38;5;129;01mnot\u001b[39;00m \u001b[38;5;28misinstance\u001b[39m(val, (\u001b[38;5;28mfloat\u001b[39m, \u001b[38;5;28mint\u001b[39m, \u001b[38;5;28mbool\u001b[39m)):\n\u001b[0;32m---> 13\u001b[0m         \u001b[38;5;28;01mraise\u001b[39;00m \u001b[38;5;167;01mException\u001b[39;00m(\u001b[38;5;124m\"\u001b[39m\u001b[38;5;124mnot a num\u001b[39m\u001b[38;5;124m\"\u001b[39m)\n\u001b[1;32m     15\u001b[0m     \u001b[38;5;28;01mif\u001b[39;00m obj \u001b[38;5;129;01mis\u001b[39;00m \u001b[38;5;129;01mnot\u001b[39;00m \u001b[38;5;28;01mNone\u001b[39;00m:\n\u001b[1;32m     16\u001b[0m         \u001b[38;5;28mprint\u001b[39m(\u001b[38;5;124m\"\u001b[39m\u001b[38;5;124mval\u001b[39m\u001b[38;5;124m\"\u001b[39m, val)\n",
      "\u001b[0;31mException\u001b[0m: not a num"
     ]
    }
   ],
   "source": [
    "s1.side = \"123\""
   ]
  },
  {
   "cell_type": "code",
   "execution_count": null,
   "id": "2bfb7900",
   "metadata": {},
   "outputs": [],
   "source": []
  },
  {
   "cell_type": "code",
   "execution_count": 84,
   "id": "c9bb3f1d",
   "metadata": {},
   "outputs": [
    {
     "name": "stdout",
     "output_type": "stream",
     "text": [
      "val 4\n"
     ]
    }
   ],
   "source": [
    "s1.side = 4"
   ]
  },
  {
   "cell_type": "code",
   "execution_count": 85,
   "id": "bdcd4bec",
   "metadata": {},
   "outputs": [
    {
     "data": {
      "text/plain": [
       "{'_local_side': 4}"
      ]
     },
     "execution_count": 85,
     "metadata": {},
     "output_type": "execute_result"
    }
   ],
   "source": [
    "s1.__dict__"
   ]
  },
  {
   "cell_type": "code",
   "execution_count": 86,
   "id": "e52c78eb",
   "metadata": {},
   "outputs": [],
   "source": [
    "s1.__dict__[\"side\"] = \"123\""
   ]
  },
  {
   "cell_type": "code",
   "execution_count": 88,
   "id": "cf6e6345",
   "metadata": {},
   "outputs": [
    {
     "data": {
      "text/plain": [
       "({'_local_side': 4, 'side': '123'},\n",
       " mappingproxy({'__module__': '__main__',\n",
       "               'side': <__main__.AreaDescriptor at 0x10a3bed70>,\n",
       "               '__init__': <function __main__.Square.__init__(self, side)>,\n",
       "               '__dict__': <attribute '__dict__' of 'Square' objects>,\n",
       "               '__weakref__': <attribute '__weakref__' of 'Square' objects>,\n",
       "               '__doc__': None}))"
      ]
     },
     "execution_count": 88,
     "metadata": {},
     "output_type": "execute_result"
    }
   ],
   "source": [
    "s1.__dict__, Square.__dict__"
   ]
  },
  {
   "cell_type": "code",
   "execution_count": 89,
   "id": "0b6b8b5a",
   "metadata": {},
   "outputs": [
    {
     "name": "stdout",
     "output_type": "stream",
     "text": [
      "val 99\n"
     ]
    }
   ],
   "source": [
    "s1.side = 99"
   ]
  },
  {
   "cell_type": "code",
   "execution_count": null,
   "id": "2f507433",
   "metadata": {},
   "outputs": [],
   "source": []
  },
  {
   "cell_type": "code",
   "execution_count": 91,
   "id": "95932f14",
   "metadata": {},
   "outputs": [
    {
     "name": "stdout",
     "output_type": "stream",
     "text": [
      "calc_dist\n"
     ]
    },
    {
     "data": {
      "text/plain": [
       "42"
      ]
     },
     "execution_count": 91,
     "metadata": {},
     "output_type": "execute_result"
    }
   ],
   "source": [
    "s1.calc_dist()"
   ]
  },
  {
   "cell_type": "code",
   "execution_count": 92,
   "id": "cf78701a",
   "metadata": {},
   "outputs": [],
   "source": [
    "s1.calc_dist = 99"
   ]
  },
  {
   "cell_type": "code",
   "execution_count": 93,
   "id": "2bab3ec1",
   "metadata": {},
   "outputs": [
    {
     "data": {
      "text/plain": [
       "99"
      ]
     },
     "execution_count": 93,
     "metadata": {},
     "output_type": "execute_result"
    }
   ],
   "source": [
    "s1.calc_dist"
   ]
  },
  {
   "cell_type": "code",
   "execution_count": 94,
   "id": "9fb3dd24",
   "metadata": {},
   "outputs": [
    {
     "data": {
      "text/plain": [
       "{'_local_side': 9, 'calc_dist': 99}"
      ]
     },
     "execution_count": 94,
     "metadata": {},
     "output_type": "execute_result"
    }
   ],
   "source": [
    "s1.__dict__"
   ]
  },
  {
   "cell_type": "code",
   "execution_count": 95,
   "id": "a6b016f3",
   "metadata": {},
   "outputs": [
    {
     "data": {
      "text/plain": [
       "mappingproxy({'__module__': '__main__',\n",
       "              'side': <__main__.AreaDescriptor at 0x10a494400>,\n",
       "              '__init__': <function __main__.Square.__init__(self, side)>,\n",
       "              'calc_dist': <function __main__.Square.calc_dist(self)>,\n",
       "              '__dict__': <attribute '__dict__' of 'Square' objects>,\n",
       "              '__weakref__': <attribute '__weakref__' of 'Square' objects>,\n",
       "              '__doc__': None})"
      ]
     },
     "execution_count": 95,
     "metadata": {},
     "output_type": "execute_result"
    }
   ],
   "source": [
    "Square.__dict__"
   ]
  },
  {
   "cell_type": "code",
   "execution_count": 96,
   "id": "901e4e18",
   "metadata": {},
   "outputs": [],
   "source": [
    "del s1.calc_dist"
   ]
  },
  {
   "cell_type": "code",
   "execution_count": 99,
   "id": "5dfffb2d",
   "metadata": {},
   "outputs": [
    {
     "name": "stdout",
     "output_type": "stream",
     "text": [
      "calc_dist\n"
     ]
    },
    {
     "data": {
      "text/plain": [
       "42"
      ]
     },
     "execution_count": 99,
     "metadata": {},
     "output_type": "execute_result"
    }
   ],
   "source": [
    "s1.calc_dist()"
   ]
  },
  {
   "cell_type": "code",
   "execution_count": 100,
   "id": "4110573f",
   "metadata": {},
   "outputs": [
    {
     "data": {
      "text/plain": [
       "{'_local_side': 9}"
      ]
     },
     "execution_count": 100,
     "metadata": {},
     "output_type": "execute_result"
    }
   ],
   "source": [
    "s1.__dict__"
   ]
  },
  {
   "cell_type": "code",
   "execution_count": 101,
   "id": "99305557",
   "metadata": {},
   "outputs": [
    {
     "data": {
      "text/plain": [
       "mappingproxy({'__module__': '__main__',\n",
       "              'side': <__main__.AreaDescriptor at 0x10a494400>,\n",
       "              '__init__': <function __main__.Square.__init__(self, side)>,\n",
       "              'calc_dist': <function __main__.Square.calc_dist(self)>,\n",
       "              '__dict__': <attribute '__dict__' of 'Square' objects>,\n",
       "              '__weakref__': <attribute '__weakref__' of 'Square' objects>,\n",
       "              '__doc__': None})"
      ]
     },
     "execution_count": 101,
     "metadata": {},
     "output_type": "execute_result"
    }
   ],
   "source": [
    "Square.__dict__"
   ]
  },
  {
   "cell_type": "code",
   "execution_count": 104,
   "id": "63ebe87f",
   "metadata": {},
   "outputs": [
    {
     "data": {
      "text/plain": [
       "<method-wrapper '__get__' of function object at 0x10a4e51b0>"
      ]
     },
     "execution_count": 104,
     "metadata": {},
     "output_type": "execute_result"
    }
   ],
   "source": [
    "Square.calc_dist.__get__"
   ]
  },
  {
   "cell_type": "code",
   "execution_count": null,
   "id": "7fb737f2",
   "metadata": {},
   "outputs": [],
   "source": []
  },
  {
   "cell_type": "code",
   "execution_count": null,
   "id": "614353a0",
   "metadata": {},
   "outputs": [],
   "source": []
  },
  {
   "cell_type": "markdown",
   "id": "64cc8b2c",
   "metadata": {},
   "source": [
    "## Metaclass"
   ]
  },
  {
   "cell_type": "code",
   "execution_count": 105,
   "id": "cc3d1180",
   "metadata": {},
   "outputs": [],
   "source": [
    "MyClass = type(\"MyClass\", (), {\"name\": \"class_name\"})"
   ]
  },
  {
   "cell_type": "code",
   "execution_count": 106,
   "id": "e4d18751",
   "metadata": {},
   "outputs": [
    {
     "data": {
      "text/plain": [
       "mappingproxy({'name': 'class_name',\n",
       "              '__module__': '__main__',\n",
       "              '__dict__': <attribute '__dict__' of 'MyClass' objects>,\n",
       "              '__weakref__': <attribute '__weakref__' of 'MyClass' objects>,\n",
       "              '__doc__': None})"
      ]
     },
     "execution_count": 106,
     "metadata": {},
     "output_type": "execute_result"
    }
   ],
   "source": [
    "MyClass.__dict__"
   ]
  },
  {
   "cell_type": "code",
   "execution_count": 111,
   "id": "c6c853de",
   "metadata": {},
   "outputs": [],
   "source": [
    "class_name = \"MyClass2\"\n",
    "attr_name = \"name\"\n",
    "attr_val = \"class_name\"\n",
    "\n",
    "class_str = (\n",
    "    f\"class {class_name}:\\n\"\n",
    "    f\"    {attr_name} = {attr_val}\\n\"\n",
    ")"
   ]
  },
  {
   "cell_type": "code",
   "execution_count": 112,
   "id": "2bce4797",
   "metadata": {},
   "outputs": [
    {
     "data": {
      "text/plain": [
       "'class MyClass2:\\n    name = class_name\\n'"
      ]
     },
     "execution_count": 112,
     "metadata": {},
     "output_type": "execute_result"
    }
   ],
   "source": [
    "class_str"
   ]
  },
  {
   "cell_type": "code",
   "execution_count": 114,
   "id": "c055b425",
   "metadata": {},
   "outputs": [],
   "source": [
    "exec(class_str)"
   ]
  },
  {
   "cell_type": "code",
   "execution_count": 116,
   "id": "8b1f29a9",
   "metadata": {},
   "outputs": [
    {
     "data": {
      "text/plain": [
       "mappingproxy({'__module__': '__main__',\n",
       "              'name': 'MyClass2',\n",
       "              '__dict__': <attribute '__dict__' of 'MyClass2' objects>,\n",
       "              '__weakref__': <attribute '__weakref__' of 'MyClass2' objects>,\n",
       "              '__doc__': None})"
      ]
     },
     "execution_count": 116,
     "metadata": {},
     "output_type": "execute_result"
    }
   ],
   "source": [
    "MyClass2.__dict__"
   ]
  },
  {
   "cell_type": "code",
   "execution_count": null,
   "id": "8d91a427",
   "metadata": {},
   "outputs": [],
   "source": []
  },
  {
   "cell_type": "code",
   "execution_count": null,
   "id": "325cc17c",
   "metadata": {},
   "outputs": [],
   "source": []
  },
  {
   "cell_type": "code",
   "execution_count": 117,
   "id": "fac19bd0",
   "metadata": {},
   "outputs": [
    {
     "data": {
      "text/plain": [
       "type"
      ]
     },
     "execution_count": 117,
     "metadata": {},
     "output_type": "execute_result"
    }
   ],
   "source": [
    "type(type)"
   ]
  },
  {
   "cell_type": "code",
   "execution_count": 118,
   "id": "49f6dd26",
   "metadata": {},
   "outputs": [
    {
     "data": {
      "text/plain": [
       "type"
      ]
     },
     "execution_count": 118,
     "metadata": {},
     "output_type": "execute_result"
    }
   ],
   "source": [
    "type(object)"
   ]
  },
  {
   "cell_type": "code",
   "execution_count": 119,
   "id": "b4283f42",
   "metadata": {},
   "outputs": [
    {
     "data": {
      "text/plain": [
       "type"
      ]
     },
     "execution_count": 119,
     "metadata": {},
     "output_type": "execute_result"
    }
   ],
   "source": [
    "type(Square)"
   ]
  },
  {
   "cell_type": "code",
   "execution_count": 120,
   "id": "1f477201",
   "metadata": {},
   "outputs": [
    {
     "data": {
      "text/plain": [
       "__main__.Square"
      ]
     },
     "execution_count": 120,
     "metadata": {},
     "output_type": "execute_result"
    }
   ],
   "source": [
    "type(s1)"
   ]
  },
  {
   "cell_type": "code",
   "execution_count": 123,
   "id": "b05a1916",
   "metadata": {},
   "outputs": [
    {
     "data": {
      "text/plain": [
       "(True, True, True)"
      ]
     },
     "execution_count": 123,
     "metadata": {},
     "output_type": "execute_result"
    }
   ],
   "source": [
    "isinstance(type, type), isinstance(object, type), isinstance(type, object)"
   ]
  },
  {
   "cell_type": "code",
   "execution_count": null,
   "id": "513569ca",
   "metadata": {},
   "outputs": [],
   "source": []
  },
  {
   "cell_type": "code",
   "execution_count": null,
   "id": "012afbcb",
   "metadata": {},
   "outputs": [],
   "source": []
  },
  {
   "cell_type": "code",
   "execution_count": 126,
   "id": "1ee48d3f",
   "metadata": {},
   "outputs": [],
   "source": [
    "class AMeta(type):\n",
    "    def __new__(mcs, name, bases, classdict, **kwargs):\n",
    "        print(\"Meta __new__\"),\n",
    "        cls = super().__new__(mcs, name, bases, classdict)\n",
    "        print(\"Meta __new__\", cls)\n",
    "        return cls\n",
    "    \n",
    "    def __init__(cls, name, bases, classdict, **kwargs):\n",
    "        print(\"Meta __init__\", cls),\n",
    "        super().__init__(name, bases, classdict, **kwargs)\n",
    "        \n",
    "    def __call__(cls, *args, **kwargs):\n",
    "        print(\"Meta __call__\", args)\n",
    "        return super().__call__(*args, **kwargs)\n",
    "    \n",
    "    @classmethod\n",
    "    def __prepare__(mcs, name, bases, **kwargs):\n",
    "        print(\"Meta __prepare__\", **kwargs)\n",
    "        return {\"b\": 2, \"a\": 99}\n",
    "    "
   ]
  },
  {
   "cell_type": "code",
   "execution_count": 131,
   "id": "9a4703cf",
   "metadata": {},
   "outputs": [
    {
     "name": "stdout",
     "output_type": "stream",
     "text": [
      "Meta __prepare__\n",
      "Meta __new__\n",
      "Meta __new__ <class '__main__.Student'>\n",
      "Meta __init__ <class '__main__.Student'>\n"
     ]
    }
   ],
   "source": [
    "class Student(metaclass=AMeta):\n",
    "    name = \"student_name\"\n",
    "    \n",
    "    def __new__(cls, *args, **kwargs):\n",
    "        print(\"Student.__new__\")\n",
    "        return super().__new__(cls, *args, **kwargs)\n",
    "    \n",
    "    def __init__(self):\n",
    "        print(\"Student.__init__\")"
   ]
  },
  {
   "cell_type": "code",
   "execution_count": 128,
   "id": "fefd3e8f",
   "metadata": {},
   "outputs": [
    {
     "data": {
      "text/plain": [
       "mappingproxy({'b': 2,\n",
       "              'a': 99,\n",
       "              '__module__': '__main__',\n",
       "              'name': 'student_name',\n",
       "              '__dict__': <attribute '__dict__' of 'Student' objects>,\n",
       "              '__weakref__': <attribute '__weakref__' of 'Student' objects>,\n",
       "              '__doc__': None})"
      ]
     },
     "execution_count": 128,
     "metadata": {},
     "output_type": "execute_result"
    }
   ],
   "source": [
    "Student.__dict__"
   ]
  },
  {
   "cell_type": "code",
   "execution_count": 129,
   "id": "7eab3a98",
   "metadata": {},
   "outputs": [
    {
     "data": {
      "text/plain": [
       "99"
      ]
     },
     "execution_count": 129,
     "metadata": {},
     "output_type": "execute_result"
    }
   ],
   "source": [
    "Student.a"
   ]
  },
  {
   "cell_type": "code",
   "execution_count": 130,
   "id": "9f477e69",
   "metadata": {},
   "outputs": [
    {
     "name": "stdout",
     "output_type": "stream",
     "text": [
      "Meta __call__ ()\n"
     ]
    }
   ],
   "source": [
    "user = Student()"
   ]
  },
  {
   "cell_type": "code",
   "execution_count": 132,
   "id": "c38f7866",
   "metadata": {},
   "outputs": [
    {
     "name": "stdout",
     "output_type": "stream",
     "text": [
      "Meta __call__ ()\n",
      "Student.__new__\n",
      "Student.__init__\n"
     ]
    }
   ],
   "source": [
    "user = Student()"
   ]
  },
  {
   "cell_type": "code",
   "execution_count": null,
   "id": "9c764b46",
   "metadata": {},
   "outputs": [],
   "source": []
  },
  {
   "cell_type": "code",
   "execution_count": null,
   "id": "5f18b8c0",
   "metadata": {},
   "outputs": [],
   "source": []
  },
  {
   "cell_type": "code",
   "execution_count": null,
   "id": "09eeea99",
   "metadata": {},
   "outputs": [],
   "source": [
    "class Singleton:\n",
    "    _instance = None\n",
    "\n",
    "    def __new__(cls, *args, **kwargs):\n",
    "        if cls._instance is None:\n",
    "            cls._instance = super().__new__(cls, *args, **kwargs)\n",
    "        return cls._instance"
   ]
  },
  {
   "cell_type": "code",
   "execution_count": null,
   "id": "c489def1",
   "metadata": {},
   "outputs": [],
   "source": []
  },
  {
   "cell_type": "code",
   "execution_count": null,
   "id": "58414e09",
   "metadata": {},
   "outputs": [],
   "source": []
  },
  {
   "cell_type": "code",
   "execution_count": 140,
   "id": "2eeb0dec",
   "metadata": {},
   "outputs": [
    {
     "name": "stdout",
     "output_type": "stream",
     "text": [
      "NoSingleBingle.__new__\n",
      "NoSingleBingle.__init__ 10\n",
      "----\n",
      "NoSingleBingle.__new__\n",
      "NoSingleBingle.__init__ 20\n",
      "----\n",
      "s1 is s2=False\n",
      "\n",
      "======\n",
      "\n",
      "Meta __call__ (10,)\n",
      "SingleBingle.__new__\n",
      "SingleBingle.__init__ 10\n",
      "----\n",
      "Meta __call__ (20,)\n",
      "----\n",
      "s1 is s2=True\n"
     ]
    }
   ],
   "source": [
    "class SingletonMeta(type):\n",
    "    _instances = {}\n",
    "\n",
    "    def __call__(cls, *args, **kwargs):\n",
    "        print(\"Meta __call__\", args)\n",
    "        \n",
    "        if cls not in cls._instances:\n",
    "            cls._instances[cls] = super().__call__(*args, **kwargs)\n",
    "        \n",
    "        return cls._instances[cls]\n",
    "    \n",
    "\n",
    "class NoSingleBingle:\n",
    "\n",
    "    def __new__(cls, *args, **kwargs):\n",
    "        print(\"NoSingleBingle.__new__\")\n",
    "        return super().__new__(cls)\n",
    "    \n",
    "    def __init__(self, val):\n",
    "        print(\"NoSingleBingle.__init__\", val)\n",
    "\n",
    "\n",
    "s1 = NoSingleBingle(10)\n",
    "print(\"----\")\n",
    "s2 = NoSingleBingle(20)\n",
    "print(\"----\")\n",
    "\n",
    "print(f\"{s1 is s2=}\")\n",
    "\n",
    "print(\"\\n======\\n\")\n",
    "\n",
    "        \n",
    "class SingleBingle(metaclass=SingletonMeta):\n",
    "\n",
    "    def __new__(cls, *args, **kwargs):\n",
    "        print(\"SingleBingle.__new__\")\n",
    "        return super().__new__(cls)\n",
    "    \n",
    "    def __init__(self, val):\n",
    "        print(\"SingleBingle.__init__\", val)\n",
    "\n",
    "\n",
    "s1 = SingleBingle(10)\n",
    "print(\"----\")\n",
    "s2 = SingleBingle(20)\n",
    "print(\"----\")\n",
    "\n",
    "print(f\"{s1 is s2=}\")"
   ]
  },
  {
   "cell_type": "code",
   "execution_count": null,
   "id": "f46bdfad",
   "metadata": {},
   "outputs": [],
   "source": []
  }
 ],
 "metadata": {
  "kernelspec": {
   "display_name": "Python 3 (ipykernel)",
   "language": "python",
   "name": "python3"
  },
  "language_info": {
   "codemirror_mode": {
    "name": "ipython",
    "version": 3
   },
   "file_extension": ".py",
   "mimetype": "text/x-python",
   "name": "python",
   "nbconvert_exporter": "python",
   "pygments_lexer": "ipython3",
   "version": "3.10.2"
  }
 },
 "nbformat": 4,
 "nbformat_minor": 5
}
