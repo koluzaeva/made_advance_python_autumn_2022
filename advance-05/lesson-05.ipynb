{
 "cells": [
  {
   "cell_type": "code",
   "execution_count": 2,
   "id": "401bcef3",
   "metadata": {},
   "outputs": [
    {
     "data": {
      "text/plain": [
       "[1, 2, 3, [...]]"
      ]
     },
     "execution_count": 2,
     "metadata": {},
     "output_type": "execute_result"
    }
   ],
   "source": [
    "lst = [1, 2, 3]\n",
    "lst.append(lst)\n",
    "lst"
   ]
  },
  {
   "cell_type": "code",
   "execution_count": 3,
   "id": "43a5b82f",
   "metadata": {},
   "outputs": [],
   "source": [
    "del lst"
   ]
  },
  {
   "cell_type": "code",
   "execution_count": null,
   "id": "527f9d7a",
   "metadata": {},
   "outputs": [],
   "source": []
  },
  {
   "cell_type": "code",
   "execution_count": 4,
   "id": "fa038d2f",
   "metadata": {},
   "outputs": [],
   "source": [
    "import sys"
   ]
  },
  {
   "cell_type": "code",
   "execution_count": 5,
   "id": "eafffc49",
   "metadata": {},
   "outputs": [
    {
     "data": {
      "text/plain": [
       "2"
      ]
     },
     "execution_count": 5,
     "metadata": {},
     "output_type": "execute_result"
    }
   ],
   "source": [
    "lst = [1, 2, 3]\n",
    "\n",
    "sys.getrefcount(lst)"
   ]
  },
  {
   "cell_type": "code",
   "execution_count": 14,
   "id": "8ae1a493",
   "metadata": {},
   "outputs": [
    {
     "data": {
      "text/plain": [
       "5556"
      ]
     },
     "execution_count": 14,
     "metadata": {},
     "output_type": "execute_result"
    }
   ],
   "source": [
    "x = 200\n",
    "x -= 200\n",
    "\n",
    "sys.getrefcount(x)"
   ]
  },
  {
   "cell_type": "code",
   "execution_count": 15,
   "id": "a3a6f7c9",
   "metadata": {},
   "outputs": [
    {
     "data": {
      "text/plain": [
       "2"
      ]
     },
     "execution_count": 15,
     "metadata": {},
     "output_type": "execute_result"
    }
   ],
   "source": [
    "x = 200\n",
    "x += 57\n",
    "\n",
    "sys.getrefcount(x)"
   ]
  },
  {
   "cell_type": "code",
   "execution_count": 16,
   "id": "c7d0b7e0",
   "metadata": {},
   "outputs": [
    {
     "data": {
      "text/plain": [
       "54"
      ]
     },
     "execution_count": 16,
     "metadata": {},
     "output_type": "execute_result"
    }
   ],
   "source": [
    "s1 = \"abc\"\n",
    "\n",
    "sys.getrefcount(s1)"
   ]
  },
  {
   "cell_type": "code",
   "execution_count": 17,
   "id": "fe25d320",
   "metadata": {},
   "outputs": [],
   "source": [
    "s2 = \"abc\""
   ]
  },
  {
   "cell_type": "code",
   "execution_count": 18,
   "id": "56e6f887",
   "metadata": {},
   "outputs": [
    {
     "data": {
      "text/plain": [
       "True"
      ]
     },
     "execution_count": 18,
     "metadata": {},
     "output_type": "execute_result"
    }
   ],
   "source": [
    "s1 is s2"
   ]
  },
  {
   "cell_type": "code",
   "execution_count": 19,
   "id": "2bebbd4c",
   "metadata": {},
   "outputs": [],
   "source": [
    "s3 = \"!abc\""
   ]
  },
  {
   "cell_type": "code",
   "execution_count": 20,
   "id": "d6bb9ed0",
   "metadata": {},
   "outputs": [],
   "source": [
    "s4 = \"!abc\""
   ]
  },
  {
   "cell_type": "code",
   "execution_count": 21,
   "id": "a46586ef",
   "metadata": {},
   "outputs": [
    {
     "data": {
      "text/plain": [
       "False"
      ]
     },
     "execution_count": 21,
     "metadata": {},
     "output_type": "execute_result"
    }
   ],
   "source": [
    "s3 is s4"
   ]
  },
  {
   "cell_type": "code",
   "execution_count": null,
   "id": "1efd7191",
   "metadata": {},
   "outputs": [],
   "source": []
  },
  {
   "cell_type": "code",
   "execution_count": 28,
   "id": "18a882db",
   "metadata": {},
   "outputs": [
    {
     "name": "stdout",
     "output_type": "stream",
     "text": [
      "init 2\n",
      "tuple 3\n",
      "lists 5\n",
      "del tp 4\n",
      "del lists 2\n",
      "count_refs 4\n",
      "after count_refs 2\n",
      "cycle 3\n"
     ]
    }
   ],
   "source": [
    "lst = [1, 2, 3]\n",
    "print(\"init\", sys.getrefcount(lst))\n",
    "\n",
    "tp = (5, lst)\n",
    "print(\"tuple\", sys.getrefcount(lst))\n",
    "\n",
    "lst1 = lst2 = lst\n",
    "print(\"lists\", sys.getrefcount(lst))\n",
    "\n",
    "del tp\n",
    "print(\"del tp\", sys.getrefcount(lst))\n",
    "\n",
    "del lst1, lst2\n",
    "print(\"del lists\", sys.getrefcount(lst))\n",
    "\n",
    "\n",
    "def count_refs(obj):\n",
    "    print(\"count_refs\", sys.getrefcount(obj))\n",
    "\n",
    "    \n",
    "count_refs(lst)\n",
    "print(\"after count_refs\", sys.getrefcount(lst))\n",
    "\n",
    "\n",
    "lst.append(lst)\n",
    "print(\"cycle\", sys.getrefcount(lst))"
   ]
  },
  {
   "cell_type": "code",
   "execution_count": 32,
   "id": "6a178c4a",
   "metadata": {},
   "outputs": [
    {
     "data": {
      "text/plain": [
       "[1, 2, 3, [...]]"
      ]
     },
     "execution_count": 32,
     "metadata": {},
     "output_type": "execute_result"
    }
   ],
   "source": [
    "lst"
   ]
  },
  {
   "cell_type": "code",
   "execution_count": 33,
   "id": "5aad5ae2",
   "metadata": {},
   "outputs": [
    {
     "data": {
      "text/plain": [
       "(120, 56, 64, 64)"
      ]
     },
     "execution_count": 33,
     "metadata": {},
     "output_type": "execute_result"
    }
   ],
   "source": [
    "sys.getsizeof(lst), sys.getsizeof([]), sys.getsizeof([1]), sys.getsizeof([2 ** 100])"
   ]
  },
  {
   "cell_type": "code",
   "execution_count": 34,
   "id": "f2871574",
   "metadata": {},
   "outputs": [
    {
     "data": {
      "text/plain": [
       "40"
      ]
     },
     "execution_count": 34,
     "metadata": {},
     "output_type": "execute_result"
    }
   ],
   "source": [
    "sys.getsizeof(2 ** 100)"
   ]
  },
  {
   "cell_type": "code",
   "execution_count": 39,
   "id": "b0e06e77",
   "metadata": {},
   "outputs": [
    {
     "data": {
      "text/plain": [
       "(64, 232)"
      ]
     },
     "execution_count": 39,
     "metadata": {},
     "output_type": "execute_result"
    }
   ],
   "source": [
    "d = {}\n",
    "\n",
    "sys.getsizeof(d), sys.getsizeof({1: 11})"
   ]
  },
  {
   "cell_type": "code",
   "execution_count": 43,
   "id": "bc0e13e9",
   "metadata": {},
   "outputs": [
    {
     "data": {
      "text/plain": [
       "(49, 50, 51, 76)"
      ]
     },
     "execution_count": 43,
     "metadata": {},
     "output_type": "execute_result"
    }
   ],
   "source": [
    "sys.getsizeof(\"\"), sys.getsizeof(\"a\"), sys.getsizeof(\"av\"), sys.getsizeof(\"Щ\")"
   ]
  },
  {
   "cell_type": "code",
   "execution_count": null,
   "id": "9510aaba",
   "metadata": {},
   "outputs": [],
   "source": []
  },
  {
   "cell_type": "code",
   "execution_count": 51,
   "id": "31f27dce",
   "metadata": {},
   "outputs": [],
   "source": [
    "import ctypes\n",
    "import gc"
   ]
  },
  {
   "cell_type": "code",
   "execution_count": 53,
   "id": "d1b21581",
   "metadata": {},
   "outputs": [
    {
     "name": "stdout",
     "output_type": "stream",
     "text": [
      "[1, 2, 3, [...]]\n",
      "lst ref count: 0\n"
     ]
    }
   ],
   "source": [
    "class PyObject(ctypes.Structure):\n",
    "    _fields_ = [(\"refcnt\", ctypes.c_long)]\n",
    "\n",
    "\n",
    "gc.disable()\n",
    "    \n",
    "lst = [1, 2, 3]\n",
    "lst.append(lst)\n",
    "lst_id = id(lst)\n",
    "\n",
    "print(lst)\n",
    "\n",
    "del lst\n",
    "\n",
    "gc.collect()\n",
    "\n",
    "\n",
    "print(\"lst ref count:\", PyObject.from_address(lst_id).refcnt)\n",
    "\n",
    "gc.enable()"
   ]
  },
  {
   "cell_type": "code",
   "execution_count": 54,
   "id": "3ab24a04",
   "metadata": {},
   "outputs": [
    {
     "data": {
      "text/plain": [
       "332630"
      ]
     },
     "execution_count": 54,
     "metadata": {},
     "output_type": "execute_result"
    }
   ],
   "source": [
    "len(gc.get_objects())"
   ]
  },
  {
   "cell_type": "code",
   "execution_count": null,
   "id": "2b317d55",
   "metadata": {},
   "outputs": [],
   "source": []
  },
  {
   "cell_type": "code",
   "execution_count": 55,
   "id": "119e94b2",
   "metadata": {},
   "outputs": [],
   "source": [
    "import weakref"
   ]
  },
  {
   "cell_type": "code",
   "execution_count": 56,
   "id": "444c137c",
   "metadata": {},
   "outputs": [],
   "source": [
    "class A:\n",
    "    def __init__(self, x):\n",
    "        self.x = x"
   ]
  },
  {
   "cell_type": "code",
   "execution_count": 68,
   "id": "0dff043d",
   "metadata": {},
   "outputs": [
    {
     "name": "stdout",
     "output_type": "stream",
     "text": [
      "init 2\n",
      "weak 2\n",
      "obj2 3\n",
      "True\n",
      "del obj 2\n",
      "obj3 210328 None\n"
     ]
    }
   ],
   "source": [
    "obj = A(10)\n",
    "print(\"init\", sys.getrefcount(obj))\n",
    "\n",
    "weak = weakref.ref(obj)\n",
    "print(\"weak\", sys.getrefcount(obj))\n",
    "\n",
    "obj2 = weak()\n",
    "print(\"obj2\", sys.getrefcount(obj))\n",
    "\n",
    "print(obj is obj2)\n",
    "\n",
    "del obj\n",
    "print(\"del obj\", sys.getrefcount(obj2))\n",
    "\n",
    "del obj2\n",
    "\n",
    "obj3 = weak()\n",
    "print(\"obj3\", sys.getrefcount(obj3), obj3)"
   ]
  },
  {
   "cell_type": "code",
   "execution_count": 72,
   "id": "8c8966c4",
   "metadata": {},
   "outputs": [
    {
     "name": "stdout",
     "output_type": "stream",
     "text": [
      "FINALE (123,) {}\n"
     ]
    }
   ],
   "source": [
    "def print_finale(*args, **kwargs):\n",
    "    print(\"FINALE\", args, kwargs)\n",
    "\n",
    "\n",
    "obj = A(10)\n",
    "weakref.finalize(obj, print_finale, 123)\n",
    "\n",
    "del obj\n"
   ]
  },
  {
   "cell_type": "code",
   "execution_count": null,
   "id": "eb94d6c8",
   "metadata": {},
   "outputs": [],
   "source": []
  },
  {
   "cell_type": "code",
   "execution_count": null,
   "id": "6fc563eb",
   "metadata": {},
   "outputs": [],
   "source": []
  },
  {
   "cell_type": "code",
   "execution_count": 80,
   "id": "4feab69f",
   "metadata": {},
   "outputs": [],
   "source": [
    "class Engine:\n",
    "    def __init__(self, car):\n",
    "        self.car = weakref.ref(car)\n",
    "\n",
    "\n",
    "class Car:\n",
    "    def __init__(self):\n",
    "        self.engine = Engine(self)\n",
    "        \n",
    "\n",
    "my_car = Car()\n",
    "del my_car"
   ]
  },
  {
   "cell_type": "code",
   "execution_count": null,
   "id": "8a91ca8e",
   "metadata": {},
   "outputs": [],
   "source": []
  },
  {
   "cell_type": "code",
   "execution_count": null,
   "id": "34bc7be7",
   "metadata": {},
   "outputs": [],
   "source": []
  },
  {
   "cell_type": "code",
   "execution_count": 78,
   "id": "e823cb99",
   "metadata": {},
   "outputs": [],
   "source": [
    "import cProfile, pstats, io\n",
    "import time"
   ]
  },
  {
   "cell_type": "code",
   "execution_count": 82,
   "id": "364ab673",
   "metadata": {},
   "outputs": [
    {
     "name": "stdout",
     "output_type": "stream",
     "text": [
      "         99 function calls in 4.532 seconds\n",
      "\n",
      "   Ordered by: cumulative time\n",
      "\n",
      "   ncalls  tottime  percall  cumtime  percall filename:lineno(function)\n",
      "        3    0.000    0.000    4.532    1.511 /Users/g.kandaurov/projects/made_advance_python_autumn_2022/.venv/lib/python3.10/site-packages/IPython/core/interactiveshell.py:3342(run_code)\n",
      "        3    0.000    0.000    4.532    1.511 {built-in method builtins.exec}\n",
      "        1    0.000    0.000    4.532    4.532 /var/folders/c1/9wdb7dps2x332c6l1y2hrqkh0000gp/T/ipykernel_63384/637529862.py:1(<module>)\n",
      "        1    0.000    0.000    4.532    4.532 /var/folders/c1/9wdb7dps2x332c6l1y2hrqkh0000gp/T/ipykernel_63384/637529862.py:5(run)\n",
      "       10    4.531    0.453    4.531    0.453 {built-in method time.sleep}\n",
      "        3    0.000    0.000    0.000    0.000 /Library/Frameworks/Python.framework/Versions/3.10/lib/python3.10/codeop.py:149(__call__)\n",
      "        3    0.000    0.000    0.000    0.000 {built-in method builtins.compile}\n",
      "        1    0.000    0.000    0.000    0.000 /var/folders/c1/9wdb7dps2x332c6l1y2hrqkh0000gp/T/ipykernel_63384/637529862.py:10(<dictcomp>)\n",
      "       10    0.000    0.000    0.000    0.000 /var/folders/c1/9wdb7dps2x332c6l1y2hrqkh0000gp/T/ipykernel_63384/3937631907.py:7(__init__)\n",
      "        3    0.000    0.000    0.000    0.000 /Library/Frameworks/Python.framework/Versions/3.10/lib/python3.10/contextlib.py:279(helper)\n",
      "        1    0.000    0.000    0.000    0.000 /var/folders/c1/9wdb7dps2x332c6l1y2hrqkh0000gp/T/ipykernel_63384/637529862.py:9(<listcomp>)\n",
      "        6    0.000    0.000    0.000    0.000 {built-in method builtins.next}\n",
      "        3    0.000    0.000    0.000    0.000 /Library/Frameworks/Python.framework/Versions/3.10/lib/python3.10/contextlib.py:102(__init__)\n",
      "        3    0.000    0.000    0.000    0.000 /Library/Frameworks/Python.framework/Versions/3.10/lib/python3.10/contextlib.py:130(__enter__)\n",
      "        3    0.000    0.000    0.000    0.000 /Library/Frameworks/Python.framework/Versions/3.10/lib/python3.10/contextlib.py:139(__exit__)\n",
      "       10    0.000    0.000    0.000    0.000 /var/folders/c1/9wdb7dps2x332c6l1y2hrqkh0000gp/T/ipykernel_63384/3937631907.py:2(__init__)\n",
      "        3    0.000    0.000    0.000    0.000 /Users/g.kandaurov/projects/made_advance_python_autumn_2022/.venv/lib/python3.10/site-packages/traitlets/traitlets.py:675(__get__)\n",
      "        6    0.000    0.000    0.000    0.000 /Users/g.kandaurov/projects/made_advance_python_autumn_2022/.venv/lib/python3.10/site-packages/IPython/core/compilerop.py:174(extra_flags)\n",
      "       10    0.000    0.000    0.000    0.000 /var/folders/c1/9wdb7dps2x332c6l1y2hrqkh0000gp/T/ipykernel_63384/2632017427.py:2(__init__)\n",
      "        3    0.000    0.000    0.000    0.000 /Users/g.kandaurov/projects/made_advance_python_autumn_2022/.venv/lib/python3.10/site-packages/IPython/core/interactiveshell.py:3294(compare)\n",
      "        3    0.000    0.000    0.000    0.000 /Users/g.kandaurov/projects/made_advance_python_autumn_2022/.venv/lib/python3.10/site-packages/traitlets/traitlets.py:643(get)\n",
      "        6    0.000    0.000    0.000    0.000 {built-in method builtins.getattr}\n",
      "        3    0.000    0.000    0.000    0.000 /Users/g.kandaurov/projects/made_advance_python_autumn_2022/.venv/lib/python3.10/site-packages/IPython/core/interactiveshell.py:1196(user_global_ns)\n",
      "        1    0.000    0.000    0.000    0.000 {method 'disable' of '_lsprof.Profiler' objects}\n",
      "\n",
      "\n",
      "\n"
     ]
    }
   ],
   "source": [
    "pr = cProfile.Profile()\n",
    "pr.enable()\n",
    "\n",
    "\n",
    "def run(n):\n",
    "    for i in range(n):\n",
    "        time.sleep(0.1 * i)\n",
    "    \n",
    "    lst = [A(i) for i in range(n)]\n",
    "    cars = {i: Car() for i in range(n)}\n",
    "    \n",
    "\n",
    "run(10)\n",
    "    \n",
    "\n",
    "pr.disable()\n",
    "\n",
    "\n",
    "s = io.StringIO()\n",
    "sortby = \"cumulative\"\n",
    "ps = pstats.Stats(pr, stream=s).sort_stats(sortby)\n",
    "ps.print_stats()\n",
    "\n",
    "print(s.getvalue())"
   ]
  },
  {
   "cell_type": "code",
   "execution_count": 84,
   "id": "acb0375b",
   "metadata": {},
   "outputs": [
    {
     "name": "stdout",
     "output_type": "stream",
     "text": [
      "Collecting memory_profiler\n",
      "  Using cached memory_profiler-0.60.0.tar.gz (38 kB)\n",
      "Requirement already satisfied: psutil in /Users/g.kandaurov/projects/made_advance_python_autumn_2022/.venv/lib/python3.10/site-packages (from memory_profiler) (5.9.2)\n",
      "Using legacy 'setup.py install' for memory-profiler, since package 'wheel' is not installed.\n",
      "Installing collected packages: memory-profiler\n",
      "    Running setup.py install for memory-profiler ... \u001b[?25ldone\n",
      "\u001b[?25hSuccessfully installed memory-profiler-0.60.0\n",
      "\u001b[33mWARNING: You are using pip version 21.2.4; however, version 22.3.1 is available.\n",
      "You should consider upgrading via the '/Users/g.kandaurov/projects/made_advance_python_autumn_2022/.venv/bin/python3 -m pip install --upgrade pip' command.\u001b[0m\n"
     ]
    }
   ],
   "source": [
    "!pip install memory_profiler"
   ]
  },
  {
   "cell_type": "code",
   "execution_count": 85,
   "id": "4d805174",
   "metadata": {},
   "outputs": [
    {
     "name": "stdout",
     "output_type": "stream",
     "text": [
      "ERROR: Could not find file /var/folders/c1/9wdb7dps2x332c6l1y2hrqkh0000gp/T/ipykernel_63384/1946970862.py\n"
     ]
    }
   ],
   "source": [
    "from memory_profiler import profile\n",
    "\n",
    "\n",
    "@profile\n",
    "def run(n):\n",
    "    for i in range(n):\n",
    "        time.sleep(0.1 * i)\n",
    "    \n",
    "    lst = [A(i) for i in range(n)]\n",
    "    cars = {i: Car() for i in range(n)}\n",
    "    \n",
    "\n",
    "run(10)"
   ]
  },
  {
   "cell_type": "code",
   "execution_count": null,
   "id": "c8669a16",
   "metadata": {},
   "outputs": [],
   "source": []
  },
  {
   "cell_type": "code",
   "execution_count": 102,
   "id": "70f97e87",
   "metadata": {},
   "outputs": [],
   "source": [
    "N = 10_000_000\n",
    "\n",
    "class A:\n",
    "    def __init__(self, x): \n",
    "        self.x = x \n",
    "\n",
    "\n",
    "class Slots:\n",
    "    __slots__ = (\"x\",)\n",
    "\n",
    "    def __init__(self, x): \n",
    "        self.x = x"
   ]
  },
  {
   "cell_type": "code",
   "execution_count": 103,
   "id": "5ea7f292",
   "metadata": {},
   "outputs": [
    {
     "name": "stdout",
     "output_type": "stream",
     "text": [
      "CPU times: user 7.24 s, sys: 651 ms, total: 7.9 s\n",
      "Wall time: 9.18 s\n"
     ]
    }
   ],
   "source": [
    "%%time\n",
    "\n",
    "lst_a = [A(i) for i in range(N)]"
   ]
  },
  {
   "cell_type": "code",
   "execution_count": 104,
   "id": "0025b9b3",
   "metadata": {},
   "outputs": [
    {
     "name": "stdout",
     "output_type": "stream",
     "text": [
      "CPU times: user 7.14 s, sys: 293 ms, total: 7.43 s\n",
      "Wall time: 8.09 s\n"
     ]
    }
   ],
   "source": [
    "%%time\n",
    "\n",
    "lst_slot = [Slots(i) for i in range(N)]"
   ]
  },
  {
   "cell_type": "code",
   "execution_count": 105,
   "id": "67b801cc",
   "metadata": {},
   "outputs": [
    {
     "name": "stdout",
     "output_type": "stream",
     "text": [
      "CPU times: user 2.11 s, sys: 210 ms, total: 2.32 s\n",
      "Wall time: 2.85 s\n"
     ]
    }
   ],
   "source": [
    "%%time\n",
    "\n",
    "for obj in lst_a:\n",
    "    y = obj.x\n",
    "    obj.x += 10\n",
    "    obj.x = 99"
   ]
  },
  {
   "cell_type": "code",
   "execution_count": 106,
   "id": "eb492705",
   "metadata": {},
   "outputs": [
    {
     "name": "stdout",
     "output_type": "stream",
     "text": [
      "CPU times: user 1.89 s, sys: 22.8 ms, total: 1.92 s\n",
      "Wall time: 2.12 s\n"
     ]
    }
   ],
   "source": [
    "%%time\n",
    "\n",
    "for obj in lst_slot:\n",
    "    y = obj.x\n",
    "    obj.x += 10\n",
    "    obj.x = 99"
   ]
  },
  {
   "cell_type": "code",
   "execution_count": null,
   "id": "996d91f0",
   "metadata": {},
   "outputs": [],
   "source": [
    "@deco_profile\n",
    "def calc():\n",
    "    pass\n",
    "\n",
    "\n",
    "calc()\n",
    "calc()\n",
    "calc()\n",
    "calc()\n",
    "\n",
    "\n",
    "calc.print_stat()"
   ]
  }
 ],
 "metadata": {
  "kernelspec": {
   "display_name": "Python 3 (ipykernel)",
   "language": "python",
   "name": "python3"
  },
  "language_info": {
   "codemirror_mode": {
    "name": "ipython",
    "version": 3
   },
   "file_extension": ".py",
   "mimetype": "text/x-python",
   "name": "python",
   "nbconvert_exporter": "python",
   "pygments_lexer": "ipython3",
   "version": "3.10.2"
  }
 },
 "nbformat": 4,
 "nbformat_minor": 5
}
