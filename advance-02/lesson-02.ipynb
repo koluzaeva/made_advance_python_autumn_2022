{
 "cells": [
  {
   "cell_type": "code",
   "execution_count": 1,
   "id": "5cc898e0",
   "metadata": {},
   "outputs": [],
   "source": [
    "import threading"
   ]
  },
  {
   "cell_type": "code",
   "execution_count": 2,
   "id": "d6ce31f3",
   "metadata": {},
   "outputs": [
    {
     "data": {
      "text/plain": [
       "8"
      ]
     },
     "execution_count": 2,
     "metadata": {},
     "output_type": "execute_result"
    }
   ],
   "source": [
    "threading.active_count()"
   ]
  },
  {
   "cell_type": "code",
   "execution_count": 4,
   "id": "77acaeab",
   "metadata": {},
   "outputs": [
    {
     "data": {
      "text/plain": [
       "<_MainThread(MainThread, started 4436334080)>"
      ]
     },
     "execution_count": 4,
     "metadata": {},
     "output_type": "execute_result"
    }
   ],
   "source": [
    "threading.current_thread()"
   ]
  },
  {
   "cell_type": "code",
   "execution_count": 5,
   "id": "67bdfd7c",
   "metadata": {},
   "outputs": [
    {
     "data": {
      "text/plain": [
       "[<_MainThread(MainThread, started 4436334080)>,\n",
       " <Thread(IOPub, started daemon 123145560215552)>,\n",
       " <Heartbeat(Heartbeat, started daemon 123145577005056)>,\n",
       " <Thread(Thread-3 (_watch_pipe_fd), started daemon 123145594867712)>,\n",
       " <Thread(Thread-4 (_watch_pipe_fd), started daemon 123145611657216)>,\n",
       " <ControlThread(Control, started daemon 123145628446720)>,\n",
       " <HistorySavingThread(IPythonHistorySavingThread, started 123145645236224)>,\n",
       " <ParentPollerUnix(Thread-2, started daemon 123145662562304)>]"
      ]
     },
     "execution_count": 5,
     "metadata": {},
     "output_type": "execute_result"
    }
   ],
   "source": [
    "threading.enumerate()"
   ]
  },
  {
   "cell_type": "code",
   "execution_count": 6,
   "id": "3d9ec0c9",
   "metadata": {},
   "outputs": [],
   "source": [
    "main_th = threading.current_thread()"
   ]
  },
  {
   "cell_type": "code",
   "execution_count": 10,
   "id": "4de93381",
   "metadata": {},
   "outputs": [
    {
     "data": {
      "text/plain": [
       "(True, False, 'MainThread', 4436334080, 14190344)"
      ]
     },
     "execution_count": 10,
     "metadata": {},
     "output_type": "execute_result"
    }
   ],
   "source": [
    "main_th.is_alive(), main_th.daemon, main_th.name, main_th.ident, main_th.native_id"
   ]
  },
  {
   "cell_type": "code",
   "execution_count": null,
   "id": "403577fd",
   "metadata": {},
   "outputs": [],
   "source": []
  },
  {
   "cell_type": "code",
   "execution_count": null,
   "id": "dfaa9b3b",
   "metadata": {},
   "outputs": [],
   "source": []
  },
  {
   "cell_type": "code",
   "execution_count": 18,
   "id": "87fef243",
   "metadata": {},
   "outputs": [
    {
     "name": "stdout",
     "output_type": "stream",
     "text": [
      "END\n"
     ]
    }
   ],
   "source": [
    "def print_thread_data(*args, **kwargs):\n",
    "    import time\n",
    "    time.sleep(4)\n",
    "\n",
    "    th = threading.current_thread()\n",
    "    print(f\"{th.name=}, {th.is_alive()=}, {th.native_id=}, {args=}, {kwargs=}\")\n",
    "    import time\n",
    "    time.sleep(4)\n",
    "\n",
    "\n",
    "th = threading.Thread(\n",
    "    name=\"th_print\",\n",
    "    target=print_thread_data,\n",
    "    args=(42,),\n",
    "    kwargs={\"a\": 11, \"b\": 22},\n",
    ")\n",
    "th.start()\n",
    "th.join()\n",
    "\n",
    "print(\"END\")"
   ]
  },
  {
   "cell_type": "code",
   "execution_count": null,
   "id": "8e44094e",
   "metadata": {},
   "outputs": [],
   "source": []
  },
  {
   "cell_type": "code",
   "execution_count": null,
   "id": "86e0f51a",
   "metadata": {},
   "outputs": [],
   "source": []
  },
  {
   "cell_type": "code",
   "execution_count": 35,
   "id": "a768ed2b",
   "metadata": {},
   "outputs": [],
   "source": [
    "LIMIT = 100_000\n",
    "AMOUNT = 1000\n",
    "\n",
    "def countdown(n):\n",
    "    global jobs_finished\n",
    "    jobs_finished += 1\n",
    "\n",
    "    while n > 0:\n",
    "        n -= 1\n",
    "        \n",
    "\n",
    "def do_work(amount, n=LIMIT):\n",
    "    for i in range(amount):\n",
    "        countdown(n)"
   ]
  },
  {
   "cell_type": "code",
   "execution_count": 36,
   "id": "275c32f6",
   "metadata": {},
   "outputs": [
    {
     "name": "stdout",
     "output_type": "stream",
     "text": [
      "jobs_finished=1000\n",
      "CPU times: user 4.62 s, sys: 61.7 ms, total: 4.68 s\n",
      "Wall time: 5.19 s\n"
     ]
    }
   ],
   "source": [
    "%%time\n",
    "\n",
    "jobs_finished = 0\n",
    "\n",
    "do_work(AMOUNT)\n",
    "\n",
    "print(f\"{jobs_finished=}\")"
   ]
  },
  {
   "cell_type": "code",
   "execution_count": 37,
   "id": "7d266e65",
   "metadata": {},
   "outputs": [
    {
     "name": "stdout",
     "output_type": "stream",
     "text": [
      "jobs_finished=1000\n",
      "CPU times: user 5.35 s, sys: 97.3 ms, total: 5.44 s\n",
      "Wall time: 6.9 s\n"
     ]
    }
   ],
   "source": [
    "%%time\n",
    "\n",
    "jobs_finished = 0\n",
    "\n",
    "th = threading.Thread(\n",
    "    target=do_work,\n",
    "    args=(AMOUNT,),\n",
    ")\n",
    "th.start()\n",
    "th.join()\n",
    "\n",
    "print(f\"{jobs_finished=}\")"
   ]
  },
  {
   "cell_type": "code",
   "execution_count": 39,
   "id": "024241b8",
   "metadata": {},
   "outputs": [
    {
     "name": "stdout",
     "output_type": "stream",
     "text": [
      "jobs_finished=1000\n",
      "CPU times: user 4.46 s, sys: 107 ms, total: 4.57 s\n",
      "Wall time: 4.93 s\n"
     ]
    }
   ],
   "source": [
    "%%time\n",
    "\n",
    "N_THREADS = 1000\n",
    "\n",
    "jobs_finished = 0\n",
    "\n",
    "threads = [\n",
    "    threading.Thread(\n",
    "        target=do_work,\n",
    "        args=(AMOUNT // N_THREADS,),\n",
    "    )\n",
    "    for _ in range(N_THREADS)\n",
    "]\n",
    "\n",
    "for th in threads:\n",
    "    th.start()\n",
    "\n",
    "for th in threads:\n",
    "    th.join()\n",
    "    \n",
    "print(f\"{jobs_finished=}\")"
   ]
  },
  {
   "cell_type": "code",
   "execution_count": null,
   "id": "d21d7451",
   "metadata": {},
   "outputs": [],
   "source": []
  },
  {
   "cell_type": "code",
   "execution_count": null,
   "id": "75d13291",
   "metadata": {},
   "outputs": [],
   "source": []
  },
  {
   "cell_type": "code",
   "execution_count": null,
   "id": "53150c54",
   "metadata": {},
   "outputs": [],
   "source": []
  },
  {
   "cell_type": "code",
   "execution_count": null,
   "id": "277dc51e",
   "metadata": {},
   "outputs": [],
   "source": []
  },
  {
   "cell_type": "code",
   "execution_count": 50,
   "id": "fd7c207e",
   "metadata": {},
   "outputs": [],
   "source": [
    "from urllib.request import urlopen\n",
    "\n",
    "URL = \"https://ru.wikipedia.org/wiki/Python\"\n",
    "AMOUNT = 30\n",
    "\n",
    "\n",
    "def fetch_url(url):\n",
    "    resp = urlopen(url)\n",
    "    return resp\n",
    "\n",
    "\n",
    "def fetch_batch_urls(amount, url=URL):\n",
    "    for _ in range(amount):\n",
    "        resp = fetch_url(url)"
   ]
  },
  {
   "cell_type": "code",
   "execution_count": 51,
   "id": "612d5dd7",
   "metadata": {},
   "outputs": [
    {
     "name": "stdout",
     "output_type": "stream",
     "text": [
      "CPU times: user 291 ms, sys: 33.4 ms, total: 325 ms\n",
      "Wall time: 4.86 s\n"
     ]
    }
   ],
   "source": [
    "%%time\n",
    "\n",
    "fetch_batch_urls(AMOUNT)"
   ]
  },
  {
   "cell_type": "code",
   "execution_count": 52,
   "id": "4cf1b3b6",
   "metadata": {},
   "outputs": [
    {
     "name": "stdout",
     "output_type": "stream",
     "text": [
      "CPU times: user 298 ms, sys: 34.7 ms, total: 333 ms\n",
      "Wall time: 5.79 s\n"
     ]
    }
   ],
   "source": [
    "%%time\n",
    "\n",
    "\n",
    "th = threading.Thread(\n",
    "    target=fetch_batch_urls,\n",
    "    args=(AMOUNT,),\n",
    ")\n",
    "th.start()\n",
    "th.join()"
   ]
  },
  {
   "cell_type": "code",
   "execution_count": 57,
   "id": "175c400d",
   "metadata": {},
   "outputs": [
    {
     "name": "stdout",
     "output_type": "stream",
     "text": [
      "CPU times: user 299 ms, sys: 36.8 ms, total: 336 ms\n",
      "Wall time: 1.1 s\n"
     ]
    }
   ],
   "source": [
    "%%time\n",
    "\n",
    "N_THREADS = 5\n",
    "\n",
    "threads = [\n",
    "    threading.Thread(\n",
    "        target=fetch_batch_urls,\n",
    "        args=(AMOUNT // N_THREADS,),\n",
    "    )\n",
    "    for _ in range(N_THREADS)\n",
    "]\n",
    "\n",
    "for th in threads:\n",
    "    th.start()\n",
    "\n",
    "for th in threads:\n",
    "    th.join()"
   ]
  },
  {
   "cell_type": "code",
   "execution_count": null,
   "id": "9ab12aa3",
   "metadata": {},
   "outputs": [],
   "source": []
  },
  {
   "cell_type": "code",
   "execution_count": null,
   "id": "ca9b6608",
   "metadata": {},
   "outputs": [],
   "source": []
  },
  {
   "cell_type": "code",
   "execution_count": 70,
   "id": "2643a045",
   "metadata": {},
   "outputs": [
    {
     "name": "stdout",
     "output_type": "stream",
     "text": [
      "jobs_finished=10006, expected=100000\n",
      "CPU times: user 328 ms, sys: 866 ms, total: 1.19 s\n",
      "Wall time: 841 ms\n"
     ]
    }
   ],
   "source": [
    "%%time\n",
    "\n",
    "import time\n",
    "\n",
    "\n",
    "AMOUNT = 100000\n",
    "N_THREADS = 10\n",
    "\n",
    "\n",
    "def danger_update():\n",
    "    global jobs_finished\n",
    "\n",
    "    temp = jobs_finished  # 3\n",
    "    temp += 1\n",
    "\n",
    "    time.sleep(0.00000001)\n",
    "\n",
    "    jobs_finished = temp  # 5\n",
    "\n",
    "\n",
    "def update_batch(n):\n",
    "    for _ in range(n):\n",
    "        danger_update()\n",
    "\n",
    "\n",
    "jobs_finished = 0\n",
    "\n",
    "\n",
    "threads = [\n",
    "    threading.Thread(\n",
    "        target=update_batch,\n",
    "        args=(AMOUNT // N_THREADS,),\n",
    "    )\n",
    "    for _ in range(N_THREADS)\n",
    "]\n",
    "\n",
    "for th in threads:\n",
    "    th.start()\n",
    "\n",
    "for th in threads:\n",
    "    th.join()\n",
    "\n",
    "    \n",
    "expected = AMOUNT\n",
    "\n",
    "print(f\"{jobs_finished=}, {expected=}\")"
   ]
  },
  {
   "cell_type": "code",
   "execution_count": null,
   "id": "cff2f295",
   "metadata": {},
   "outputs": [],
   "source": []
  },
  {
   "cell_type": "code",
   "execution_count": null,
   "id": "3c501614",
   "metadata": {},
   "outputs": [],
   "source": []
  },
  {
   "cell_type": "code",
   "execution_count": 73,
   "id": "b51dfad0",
   "metadata": {},
   "outputs": [
    {
     "name": "stdout",
     "output_type": "stream",
     "text": [
      "jobs_finished=100000, expected=100000\n",
      "CPU times: user 328 ms, sys: 499 ms, total: 827 ms\n",
      "Wall time: 1.04 s\n"
     ]
    }
   ],
   "source": [
    "%%time\n",
    "\n",
    "import time\n",
    "\n",
    "\n",
    "AMOUNT = 100000\n",
    "N_THREADS = 10\n",
    "\n",
    "\n",
    "lock = threading.Lock()\n",
    "\n",
    "\n",
    "def danger_update(lock):\n",
    "    global jobs_finished\n",
    "    \n",
    "    lock.acquire()\n",
    "\n",
    "    temp = jobs_finished\n",
    "    temp += 1\n",
    "\n",
    "    time.sleep(0.00000001)\n",
    "    jobs_finished = temp\n",
    "    \n",
    "    lock.release()\n",
    "\n",
    "\n",
    "def update_batch(n, lock):\n",
    "    for _ in range(n):\n",
    "        danger_update(lock)\n",
    "\n",
    "\n",
    "jobs_finished = 0\n",
    "\n",
    "\n",
    "threads = [\n",
    "    threading.Thread(\n",
    "        target=update_batch,\n",
    "        args=(AMOUNT // N_THREADS, lock),\n",
    "    )\n",
    "    for _ in range(N_THREADS)\n",
    "]\n",
    "\n",
    "for th in threads:\n",
    "    th.start()\n",
    "\n",
    "for th in threads:\n",
    "    th.join()\n",
    "\n",
    "\n",
    "expected = AMOUNT\n",
    "\n",
    "print(f\"{jobs_finished=}, {expected=}\")"
   ]
  },
  {
   "cell_type": "code",
   "execution_count": null,
   "id": "d3b5700a",
   "metadata": {},
   "outputs": [],
   "source": []
  },
  {
   "cell_type": "code",
   "execution_count": null,
   "id": "a0b0cbbd",
   "metadata": {},
   "outputs": [],
   "source": []
  },
  {
   "cell_type": "code",
   "execution_count": 77,
   "id": "5fdca554",
   "metadata": {},
   "outputs": [
    {
     "name": "stdout",
     "output_type": "stream",
     "text": [
      "CPU times: user 292 ms, sys: 34.3 ms, total: 326 ms\n",
      "Wall time: 1.76 s\n"
     ]
    }
   ],
   "source": [
    "%%time\n",
    "\n",
    "from urllib.request import urlopen\n",
    "\n",
    "URL = \"https://ru.wikipedia.org/wiki/Python\"\n",
    "AMOUNT = 30\n",
    "N_THREADS = 5\n",
    "\n",
    "sem = threading.Semaphore(3)\n",
    "\n",
    "\n",
    "def fetch_url(url, sem):\n",
    "    with sem:\n",
    "        resp = urlopen(url)\n",
    "    return resp\n",
    "\n",
    "\n",
    "def fetch_batch_urls(amount, sem, url=URL):\n",
    "    for _ in range(amount):\n",
    "        resp = fetch_url(url, sem)\n",
    "        \n",
    "        \n",
    "threads = [\n",
    "    threading.Thread(\n",
    "        target=fetch_batch_urls,\n",
    "        args=(AMOUNT // N_THREADS, sem),\n",
    "    )\n",
    "    for _ in range(N_THREADS)\n",
    "]\n",
    "\n",
    "for th in threads:\n",
    "    th.start()\n",
    "\n",
    "for th in threads:\n",
    "    th.join()"
   ]
  },
  {
   "cell_type": "code",
   "execution_count": null,
   "id": "928999c3",
   "metadata": {},
   "outputs": [],
   "source": []
  },
  {
   "cell_type": "code",
   "execution_count": 89,
   "id": "062ac73a",
   "metadata": {},
   "outputs": [
    {
     "name": "stdout",
     "output_type": "stream",
     "text": [
      "THREAD ENDS\n",
      "THREAD ENDS\n",
      "THREAD ENDS\n",
      "THREAD ENDS\n",
      "THREAD ENDS\n",
      "1\n",
      "CPU times: user 287 ms, sys: 34 ms, total: 321 ms\n",
      "Wall time: 1.72 s\n"
     ]
    }
   ],
   "source": [
    "%%time\n",
    "\n",
    "from urllib.request import urlopen\n",
    "import queue\n",
    "\n",
    "URL = \"https://ru.wikipedia.org/wiki/Python\"\n",
    "AMOUNT = 30\n",
    "N_THREADS = 5\n",
    "\n",
    "sem = threading.Semaphore(3)\n",
    "que = queue.Queue(maxsize=10)\n",
    "\n",
    "\n",
    "def fetch_url(sem, que):\n",
    "    while True:\n",
    "        try:\n",
    "            # url = que.get(timeout=1)\n",
    "            url = que.get()\n",
    "        except queue.Empty:\n",
    "            continue\n",
    "\n",
    "        if url is None:\n",
    "            print(\"THREAD ENDS\")\n",
    "            que.put(None)\n",
    "            break\n",
    "\n",
    "        with sem:\n",
    "            resp = urlopen(url)\n",
    "        \n",
    "        \n",
    "threads = [\n",
    "    threading.Thread(\n",
    "        target=fetch_url,\n",
    "        args=(sem, que),\n",
    "    )\n",
    "    for _ in range(N_THREADS)\n",
    "]\n",
    "\n",
    "for th in threads:\n",
    "    th.start()\n",
    "\n",
    "\n",
    "for _ in range(AMOUNT):\n",
    "    que.put(URL)  # 10\n",
    "\n",
    "que.put(None)\n",
    "\n",
    "\n",
    "for th in threads:\n",
    "    th.join()\n",
    "    \n",
    "    \n",
    "print(que.qsize())"
   ]
  },
  {
   "cell_type": "code",
   "execution_count": null,
   "id": "c9e58124",
   "metadata": {},
   "outputs": [],
   "source": []
  },
  {
   "cell_type": "code",
   "execution_count": null,
   "id": "c5ca0f27",
   "metadata": {},
   "outputs": [],
   "source": []
  },
  {
   "cell_type": "code",
   "execution_count": 92,
   "id": "5e33d97c",
   "metadata": {},
   "outputs": [
    {
     "name": "stdout",
     "output_type": "stream",
     "text": [
      "data={}\n"
     ]
    },
    {
     "name": "stderr",
     "output_type": "stream",
     "text": [
      "Traceback (most recent call last):\n",
      "  File \"<string>\", line 1, in <module>\n",
      "  File \"/Library/Frameworks/Python.framework/Versions/3.10/lib/python3.10/multiprocessing/spawn.py\", line 116, in spawn_main\n",
      "    exitcode = _main(fd, parent_sentinel)\n",
      "  File \"/Library/Frameworks/Python.framework/Versions/3.10/lib/python3.10/multiprocessing/spawn.py\", line 126, in _main\n",
      "    self = reduction.pickle.load(from_parent)\n",
      "AttributeError: Can't get attribute 'update_data' on <module '__main__' (built-in)>\n"
     ]
    }
   ],
   "source": [
    "import multiprocessing\n",
    "\n",
    "\n",
    "class A:\n",
    "    def __init__(self, a):\n",
    "        self.a = a\n",
    "\n",
    "\n",
    "def update_data(data):\n",
    "    pass\n",
    "#     data[\"qwerty\"] = 2 ** 100\n",
    "#     data[\"a\"] = A(10)\n",
    "\n",
    "\n",
    "data = {}\n",
    "\n",
    "proc = multiprocessing.Process(target=update_data, args=(data,))\n",
    "\n",
    "proc.start()\n",
    "proc.join()\n",
    "\n",
    "print(f\"{data=}\")"
   ]
  },
  {
   "cell_type": "code",
   "execution_count": null,
   "id": "2aac2f58",
   "metadata": {},
   "outputs": [],
   "source": []
  },
  {
   "cell_type": "code",
   "execution_count": 93,
   "id": "39d689a6",
   "metadata": {},
   "outputs": [],
   "source": [
    "import socket"
   ]
  },
  {
   "cell_type": "code",
   "execution_count": null,
   "id": "b15bbe7b",
   "metadata": {},
   "outputs": [],
   "source": [
    "# server.py\n",
    "sock = socket.socket()\n",
    "sock.bind((\"localhost\", 5000))\n",
    "sock.listen(5)\n",
    "while True:\n",
    "    addr, client_sock = sock.accept()\n",
    "\n",
    "\n",
    "# client.py\n",
    "sock = socket.socket()\n",
    "sock.connect((\"localhost\", 5000))\n",
    "sock.send(URL)\n",
    "data = sock.recv()"
   ]
  }
 ],
 "metadata": {
  "kernelspec": {
   "display_name": "Python 3 (ipykernel)",
   "language": "python",
   "name": "python3"
  },
  "language_info": {
   "codemirror_mode": {
    "name": "ipython",
    "version": 3
   },
   "file_extension": ".py",
   "mimetype": "text/x-python",
   "name": "python",
   "nbconvert_exporter": "python",
   "pygments_lexer": "ipython3",
   "version": "3.10.2"
  }
 },
 "nbformat": 4,
 "nbformat_minor": 5
}
