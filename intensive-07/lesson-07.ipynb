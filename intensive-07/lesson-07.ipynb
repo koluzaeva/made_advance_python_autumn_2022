{
 "cells": [
  {
   "cell_type": "code",
   "execution_count": 23,
   "id": "6369edae",
   "metadata": {},
   "outputs": [],
   "source": [
    "class Example:\n",
    "    name = \"XXX\"\n",
    "\n",
    "    @staticmethod\n",
    "    def print_static():\n",
    "        print(\"static\")\n",
    "\n",
    "    @classmethod\n",
    "    def print_cls(cls):\n",
    "        print(f\"class_method for {cls.__name__}\")\n",
    "\n",
    "    def __init__(self, val):\n",
    "        self.val = val\n",
    "        self._protected_val = val + 100\n",
    "        self.__private_val = val + 1000\n",
    "        \n",
    "    def print_offset(self, offset=10):\n",
    "        print(self.val + offset, self.__private_val)\n",
    "\n",
    "    def __str__(self):\n",
    "        return f\"{self.__class__.__name__}:val={self.val}\"\n",
    "    \n",
    "    \n",
    "exp = Example(9)"
   ]
  },
  {
   "cell_type": "code",
   "execution_count": 3,
   "id": "16ed1e3e",
   "metadata": {},
   "outputs": [
    {
     "name": "stdout",
     "output_type": "stream",
     "text": [
      "static\n",
      "static\n"
     ]
    }
   ],
   "source": [
    "exp.print_static()\n",
    "Example.print_static()"
   ]
  },
  {
   "cell_type": "code",
   "execution_count": 4,
   "id": "0ad320b5",
   "metadata": {},
   "outputs": [
    {
     "name": "stdout",
     "output_type": "stream",
     "text": [
      "class_method for Example\n"
     ]
    }
   ],
   "source": [
    "Example.print_cls()"
   ]
  },
  {
   "cell_type": "code",
   "execution_count": 5,
   "id": "cf4a4b41",
   "metadata": {},
   "outputs": [
    {
     "name": "stdout",
     "output_type": "stream",
     "text": [
      "class_method for Example\n"
     ]
    }
   ],
   "source": [
    "exp.print_cls()"
   ]
  },
  {
   "cell_type": "code",
   "execution_count": 11,
   "id": "af073e8a",
   "metadata": {},
   "outputs": [
    {
     "data": {
      "text/plain": [
       "<bound method Example.print_offset of <__main__.Example object at 0x105805150>>"
      ]
     },
     "execution_count": 11,
     "metadata": {},
     "output_type": "execute_result"
    }
   ],
   "source": [
    "exp.print_offset"
   ]
  },
  {
   "cell_type": "code",
   "execution_count": 18,
   "id": "bda14ebc",
   "metadata": {},
   "outputs": [
    {
     "name": "stdout",
     "output_type": "stream",
     "text": [
      "19 1009\n"
     ]
    }
   ],
   "source": [
    "exp.print_offset()"
   ]
  },
  {
   "cell_type": "code",
   "execution_count": 10,
   "id": "312d8d71",
   "metadata": {},
   "outputs": [
    {
     "data": {
      "text/plain": [
       "<function __main__.Example.print_offset(self, offset=10)>"
      ]
     },
     "execution_count": 10,
     "metadata": {},
     "output_type": "execute_result"
    }
   ],
   "source": [
    "Example.print_offset"
   ]
  },
  {
   "cell_type": "code",
   "execution_count": 12,
   "id": "ff46d723",
   "metadata": {},
   "outputs": [
    {
     "name": "stdout",
     "output_type": "stream",
     "text": [
      "19\n"
     ]
    }
   ],
   "source": [
    "Example.print_offset(exp)"
   ]
  },
  {
   "cell_type": "code",
   "execution_count": 14,
   "id": "1b425881",
   "metadata": {},
   "outputs": [
    {
     "data": {
      "text/plain": [
       "(9, 109)"
      ]
     },
     "execution_count": 14,
     "metadata": {},
     "output_type": "execute_result"
    }
   ],
   "source": [
    "exp.val, exp._protected_val"
   ]
  },
  {
   "cell_type": "code",
   "execution_count": 15,
   "id": "04ed82a4",
   "metadata": {},
   "outputs": [
    {
     "ename": "AttributeError",
     "evalue": "'Example' object has no attribute '__private_val'",
     "output_type": "error",
     "traceback": [
      "\u001b[0;31m---------------------------------------------------------------------------\u001b[0m",
      "\u001b[0;31mAttributeError\u001b[0m                            Traceback (most recent call last)",
      "Cell \u001b[0;32mIn [15], line 1\u001b[0m\n\u001b[0;32m----> 1\u001b[0m \u001b[43mexp\u001b[49m\u001b[38;5;241;43m.\u001b[39;49m\u001b[43m__private_val\u001b[49m\n",
      "\u001b[0;31mAttributeError\u001b[0m: 'Example' object has no attribute '__private_val'"
     ]
    }
   ],
   "source": [
    "exp.__private_val"
   ]
  },
  {
   "cell_type": "code",
   "execution_count": 16,
   "id": "ffe3cc9c",
   "metadata": {},
   "outputs": [
    {
     "data": {
      "text/plain": [
       "{'val': 9, '_protected_val': 109, '_Example__private_val': 1009}"
      ]
     },
     "execution_count": 16,
     "metadata": {},
     "output_type": "execute_result"
    }
   ],
   "source": [
    "exp.__dict__"
   ]
  },
  {
   "cell_type": "code",
   "execution_count": 20,
   "id": "0ae90f26",
   "metadata": {},
   "outputs": [],
   "source": [
    "exp._Example__private_val = 999999"
   ]
  },
  {
   "cell_type": "code",
   "execution_count": 21,
   "id": "a7d5ff9c",
   "metadata": {},
   "outputs": [
    {
     "name": "stdout",
     "output_type": "stream",
     "text": [
      "19 999999\n"
     ]
    }
   ],
   "source": [
    "exp.print_offset()"
   ]
  },
  {
   "cell_type": "code",
   "execution_count": 26,
   "id": "f01d9a3c",
   "metadata": {},
   "outputs": [
    {
     "data": {
      "text/plain": [
       "('XXX', 'XXX', True)"
      ]
     },
     "execution_count": 26,
     "metadata": {},
     "output_type": "execute_result"
    }
   ],
   "source": [
    "exp.name, Example.name, exp.name is Example.name"
   ]
  },
  {
   "cell_type": "code",
   "execution_count": 27,
   "id": "90459816",
   "metadata": {},
   "outputs": [
    {
     "data": {
      "text/plain": [
       "{'val': 9, '_protected_val': 109, '_Example__private_val': 1009}"
      ]
     },
     "execution_count": 27,
     "metadata": {},
     "output_type": "execute_result"
    }
   ],
   "source": [
    "exp.__dict__"
   ]
  },
  {
   "cell_type": "code",
   "execution_count": 32,
   "id": "3bd51e59",
   "metadata": {},
   "outputs": [
    {
     "data": {
      "text/plain": [
       "mappingproxy({'__module__': '__main__',\n",
       "              'name': 'XXX',\n",
       "              'print_static': <staticmethod(<function Example.print_static at 0x1077cba30>)>,\n",
       "              'print_cls': <classmethod(<function Example.print_cls at 0x1077cbb50>)>,\n",
       "              '__init__': <function __main__.Example.__init__(self, val)>,\n",
       "              'print_offset': <function __main__.Example.print_offset(self, offset=10)>,\n",
       "              '__str__': <function __main__.Example.__str__(self)>,\n",
       "              '__dict__': <attribute '__dict__' of 'Example' objects>,\n",
       "              '__weakref__': <attribute '__weakref__' of 'Example' objects>,\n",
       "              '__doc__': None})"
      ]
     },
     "execution_count": 32,
     "metadata": {},
     "output_type": "execute_result"
    }
   ],
   "source": [
    "Example.__dict__"
   ]
  },
  {
   "cell_type": "code",
   "execution_count": 29,
   "id": "d688674b",
   "metadata": {},
   "outputs": [],
   "source": [
    "exp.name = \"QWERTY\""
   ]
  },
  {
   "cell_type": "code",
   "execution_count": 30,
   "id": "9421c6ec",
   "metadata": {},
   "outputs": [
    {
     "data": {
      "text/plain": [
       "('QWERTY', 'XXX')"
      ]
     },
     "execution_count": 30,
     "metadata": {},
     "output_type": "execute_result"
    }
   ],
   "source": [
    "exp.name, Example.name"
   ]
  },
  {
   "cell_type": "code",
   "execution_count": 34,
   "id": "dc889526",
   "metadata": {},
   "outputs": [
    {
     "data": {
      "text/plain": [
       "{'val': 9,\n",
       " '_protected_val': 109,\n",
       " '_Example__private_val': 1009,\n",
       " 'name': '3333'}"
      ]
     },
     "execution_count": 34,
     "metadata": {},
     "output_type": "execute_result"
    }
   ],
   "source": [
    "exp.__dict__"
   ]
  },
  {
   "cell_type": "code",
   "execution_count": 33,
   "id": "f1e39c9c",
   "metadata": {},
   "outputs": [],
   "source": [
    "exp.name = \"3333\""
   ]
  },
  {
   "cell_type": "code",
   "execution_count": 35,
   "id": "2afc6cfa",
   "metadata": {},
   "outputs": [],
   "source": [
    "del exp.name"
   ]
  },
  {
   "cell_type": "code",
   "execution_count": 36,
   "id": "a6001578",
   "metadata": {},
   "outputs": [
    {
     "data": {
      "text/plain": [
       "('XXX', 'XXX')"
      ]
     },
     "execution_count": 36,
     "metadata": {},
     "output_type": "execute_result"
    }
   ],
   "source": [
    "exp.name, Example.name"
   ]
  },
  {
   "cell_type": "code",
   "execution_count": 37,
   "id": "8f14ae97",
   "metadata": {},
   "outputs": [
    {
     "data": {
      "text/plain": [
       "{'val': 9, '_protected_val': 109, '_Example__private_val': 1009}"
      ]
     },
     "execution_count": 37,
     "metadata": {},
     "output_type": "execute_result"
    }
   ],
   "source": [
    "exp.__dict__"
   ]
  },
  {
   "cell_type": "code",
   "execution_count": null,
   "id": "86712a94",
   "metadata": {},
   "outputs": [],
   "source": []
  },
  {
   "cell_type": "code",
   "execution_count": null,
   "id": "57568ab3",
   "metadata": {},
   "outputs": [],
   "source": []
  },
  {
   "cell_type": "code",
   "execution_count": null,
   "id": "9445bc54",
   "metadata": {},
   "outputs": [],
   "source": []
  },
  {
   "cell_type": "code",
   "execution_count": 60,
   "id": "a0beb143",
   "metadata": {},
   "outputs": [
    {
     "name": "stdout",
     "output_type": "stream",
     "text": [
      "__new__ <class '__main__.SingleConnection'> ('pg',) {}\n",
      "no_instance\n",
      "__init__\n",
      "domain1 pg 4432624176\n",
      "<__main__.SingleConnection object at 0x108347a30> None\n",
      "DELETE\n",
      "------\n",
      "__new__ <class '__main__.SingleConnection'> ('mysql',) {}\n",
      "no_instance\n",
      "__init__\n",
      "domain2 mysql 4421771008\n"
     ]
    }
   ],
   "source": [
    "class Singleton:\n",
    "    _instance = None\n",
    "\n",
    "    def __new__(cls, *args, **kwargs):\n",
    "        print(\"__new__\", cls, args, kwargs)\n",
    "        if cls._instance is None:\n",
    "            print(\"no_instance\")\n",
    "            cls._instance = super().__new__(cls)\n",
    "        return cls._instance\n",
    "    \n",
    "\n",
    "class SingleConnection(Singleton):\n",
    "    \n",
    "    def __init__(self, domain):\n",
    "        print(\"__init__\")\n",
    "        self.domain = domain\n",
    "    \n",
    "    def __del__(self):\n",
    "        print(\"DELETE\")\n",
    "\n",
    "\n",
    "inst1 = SingleConnection(\"pg\")\n",
    "print(\"domain1\", inst1.domain, id(inst1))\n",
    "del inst1\n",
    "\n",
    "print(SingleConnection._instance, Singleton._instance)\n",
    "SingleConnection._instance = None\n",
    "print(\"------\")\n",
    "\n",
    "\n",
    "\n",
    "inst2 = SingleConnection(\"mysql\")\n",
    "\n",
    "b = object()\n",
    "for i in range(1000):\n",
    "    d = [1, 2, 3]\n",
    "    d = object()\n",
    "\n",
    "print(\"domain2\", inst2.domain, id(inst2))\n",
    "# inst1 is inst2"
   ]
  },
  {
   "cell_type": "code",
   "execution_count": 63,
   "id": "238ef6c4",
   "metadata": {},
   "outputs": [
    {
     "name": "stdout",
     "output_type": "stream",
     "text": [
      "4421870592\n",
      "4421946880\n",
      "4421277632\n",
      "4422717376\n",
      "4422448720\n",
      "4422416512\n",
      "4422448720\n",
      "4422416512\n"
     ]
    }
   ],
   "source": [
    "print(id([1, 2, 3, 4]))\n",
    "print(id([1, 2, 3, 4]))\n",
    "print(id([1, 2, 3, 4]))\n",
    "print(id([1, 2, 3, 4]))\n",
    "\n",
    "print(id((1, 2, 3, 4)))\n",
    "print(id((1, 2, 3, 4)))\n",
    "print(id((1, 2, 3, 4)))\n",
    "print(id((1, 2, 3, 4)))\n"
   ]
  },
  {
   "cell_type": "code",
   "execution_count": null,
   "id": "6700da2b",
   "metadata": {},
   "outputs": [],
   "source": []
  },
  {
   "cell_type": "code",
   "execution_count": null,
   "id": "c5b69fed",
   "metadata": {},
   "outputs": [],
   "source": []
  },
  {
   "cell_type": "code",
   "execution_count": 69,
   "id": "e2431269",
   "metadata": {},
   "outputs": [
    {
     "name": "stdout",
     "output_type": "stream",
     "text": [
      "{'self': <__main__.Attr object at 0x108347d60>, 'owner': <class '__main__.A'>, 'name': 'x'}=\n"
     ]
    }
   ],
   "source": [
    "class Attr:\n",
    "    def __set_name__(self, owner, name):\n",
    "        print(f\"{locals()}=\")\n",
    "        self.name = name\n",
    "    \n",
    "    def __init__(self, val=10):\n",
    "        self.val = val\n",
    "\n",
    "\n",
    "class A:\n",
    "    x = Attr()  # Automatically calls: x.__set_name__(A, \"x\")\n",
    "    #y = Attr(\"yy\")\n",
    "\n",
    "\n",
    "# a = A()"
   ]
  },
  {
   "cell_type": "code",
   "execution_count": null,
   "id": "0dc89081",
   "metadata": {},
   "outputs": [],
   "source": []
  },
  {
   "cell_type": "code",
   "execution_count": null,
   "id": "267cab1f",
   "metadata": {},
   "outputs": [],
   "source": []
  },
  {
   "cell_type": "code",
   "execution_count": 70,
   "id": "13baa066",
   "metadata": {},
   "outputs": [
    {
     "name": "stdout",
     "output_type": "stream",
     "text": [
      "12\n",
      "5\n",
      "0\n"
     ]
    }
   ],
   "source": [
    "class Adder:\n",
    "    def __init__(self, val):\n",
    "        self._val = val\n",
    "\n",
    "    def __call__(self, number):\n",
    "        return self._val + number\n",
    "    \n",
    "\n",
    "add5 = Adder(5)\n",
    "print(add5(7))\n",
    "print(add5(0))\n",
    "print(add5(-5))\n",
    "        "
   ]
  },
  {
   "cell_type": "code",
   "execution_count": 71,
   "id": "d3c14dac",
   "metadata": {},
   "outputs": [],
   "source": [
    "def add(n1, n2):\n",
    "    return n1 + n2"
   ]
  },
  {
   "cell_type": "code",
   "execution_count": 75,
   "id": "de50a327",
   "metadata": {},
   "outputs": [
    {
     "data": {
      "text/plain": [
       "12"
      ]
     },
     "execution_count": 75,
     "metadata": {},
     "output_type": "execute_result"
    }
   ],
   "source": [
    "add.__call__(5, 7)"
   ]
  },
  {
   "cell_type": "code",
   "execution_count": null,
   "id": "5ecefc38",
   "metadata": {},
   "outputs": [],
   "source": []
  },
  {
   "cell_type": "code",
   "execution_count": null,
   "id": "cfb76705",
   "metadata": {},
   "outputs": [],
   "source": []
  },
  {
   "cell_type": "code",
   "execution_count": 86,
   "id": "3f325d9b",
   "metadata": {},
   "outputs": [
    {
     "name": "stdout",
     "output_type": "stream",
     "text": [
      "__setattr__ val 42\n"
     ]
    }
   ],
   "source": [
    "class Attrs:\n",
    "    def __init__(self, val):\n",
    "        self.val = val\n",
    "    \n",
    "    def __getattribute__(self, name):\n",
    "        print(\"__getattribute__\", name)\n",
    "        return super().__getattribute__(name)\n",
    "\n",
    "    def __getattr__(self, name):\n",
    "        print(\"__getattr__\", name)\n",
    "        if name == \"name\":\n",
    "            return 42\n",
    "        return super().__getattribute__(name)\n",
    "\n",
    "    def __setattr__(self, name, val):\n",
    "        print(\"__setattr__\", name, val)\n",
    "        return super().__setattr__(name, val)\n",
    "    \n",
    "    def __delattr__(self, name):\n",
    "        print(\"__delattr__\", name)\n",
    "        return super().__delattr__(name)\n",
    "    \n",
    "\n",
    "attr = Attrs(42)"
   ]
  },
  {
   "cell_type": "code",
   "execution_count": 88,
   "id": "caa6066d",
   "metadata": {},
   "outputs": [
    {
     "name": "stdout",
     "output_type": "stream",
     "text": [
      "__getattribute__ name\n",
      "__getattr__ name\n"
     ]
    },
    {
     "data": {
      "text/plain": [
       "42"
      ]
     },
     "execution_count": 88,
     "metadata": {},
     "output_type": "execute_result"
    }
   ],
   "source": [
    "attr.name"
   ]
  },
  {
   "cell_type": "code",
   "execution_count": 87,
   "id": "35b790e8",
   "metadata": {},
   "outputs": [
    {
     "name": "stdout",
     "output_type": "stream",
     "text": [
      "__getattribute__ not_exist\n",
      "__getattr__ not_exist\n"
     ]
    },
    {
     "ename": "AttributeError",
     "evalue": "'Attrs' object has no attribute 'not_exist'",
     "output_type": "error",
     "traceback": [
      "\u001b[0;31m---------------------------------------------------------------------------\u001b[0m",
      "\u001b[0;31mAttributeError\u001b[0m                            Traceback (most recent call last)",
      "Cell \u001b[0;32mIn [87], line 1\u001b[0m\n\u001b[0;32m----> 1\u001b[0m \u001b[43mattr\u001b[49m\u001b[38;5;241;43m.\u001b[39;49m\u001b[43mnot_exist\u001b[49m\n",
      "Cell \u001b[0;32mIn [86], line 13\u001b[0m, in \u001b[0;36mAttrs.__getattr__\u001b[0;34m(self, name)\u001b[0m\n\u001b[1;32m     11\u001b[0m \u001b[38;5;28;01mif\u001b[39;00m name \u001b[38;5;241m==\u001b[39m \u001b[38;5;124m\"\u001b[39m\u001b[38;5;124mname\u001b[39m\u001b[38;5;124m\"\u001b[39m:\n\u001b[1;32m     12\u001b[0m     \u001b[38;5;28;01mreturn\u001b[39;00m \u001b[38;5;241m42\u001b[39m\n\u001b[0;32m---> 13\u001b[0m \u001b[38;5;28;01mreturn\u001b[39;00m \u001b[38;5;28;43msuper\u001b[39;49m\u001b[43m(\u001b[49m\u001b[43m)\u001b[49m\u001b[38;5;241;43m.\u001b[39;49m\u001b[38;5;21;43m__getattribute__\u001b[39;49m\u001b[43m(\u001b[49m\u001b[43mname\u001b[49m\u001b[43m)\u001b[49m\n",
      "\u001b[0;31mAttributeError\u001b[0m: 'Attrs' object has no attribute 'not_exist'"
     ]
    }
   ],
   "source": [
    "attr.not_exist"
   ]
  },
  {
   "cell_type": "code",
   "execution_count": null,
   "id": "b45034d2",
   "metadata": {},
   "outputs": [],
   "source": []
  },
  {
   "cell_type": "code",
   "execution_count": 77,
   "id": "e1b856b4",
   "metadata": {},
   "outputs": [
    {
     "name": "stdout",
     "output_type": "stream",
     "text": [
      "__getattribute__ val\n"
     ]
    },
    {
     "data": {
      "text/plain": [
       "42"
      ]
     },
     "execution_count": 77,
     "metadata": {},
     "output_type": "execute_result"
    }
   ],
   "source": [
    "attr.val"
   ]
  },
  {
   "cell_type": "code",
   "execution_count": 78,
   "id": "4894fc5c",
   "metadata": {},
   "outputs": [
    {
     "name": "stdout",
     "output_type": "stream",
     "text": [
      "__setattr__ name attribs\n"
     ]
    }
   ],
   "source": [
    "attr.name = \"attribs\""
   ]
  },
  {
   "cell_type": "code",
   "execution_count": 79,
   "id": "33dcf7d3",
   "metadata": {},
   "outputs": [
    {
     "name": "stdout",
     "output_type": "stream",
     "text": [
      "__getattribute__ name\n"
     ]
    },
    {
     "data": {
      "text/plain": [
       "'attribs'"
      ]
     },
     "execution_count": 79,
     "metadata": {},
     "output_type": "execute_result"
    }
   ],
   "source": [
    "attr.name"
   ]
  },
  {
   "cell_type": "code",
   "execution_count": 80,
   "id": "f5ea9548",
   "metadata": {},
   "outputs": [
    {
     "name": "stdout",
     "output_type": "stream",
     "text": [
      "__delattr__ name\n"
     ]
    }
   ],
   "source": [
    "del attr.name"
   ]
  },
  {
   "cell_type": "code",
   "execution_count": null,
   "id": "b89d4770",
   "metadata": {},
   "outputs": [],
   "source": []
  },
  {
   "cell_type": "code",
   "execution_count": null,
   "id": "3e47d158",
   "metadata": {},
   "outputs": [],
   "source": []
  },
  {
   "cell_type": "code",
   "execution_count": null,
   "id": "f01ec05e",
   "metadata": {},
   "outputs": [],
   "source": []
  },
  {
   "cell_type": "code",
   "execution_count": null,
   "id": "d6093554",
   "metadata": {},
   "outputs": [],
   "source": []
  },
  {
   "cell_type": "code",
   "execution_count": 90,
   "id": "feb40ca8",
   "metadata": {},
   "outputs": [
    {
     "name": "stdout",
     "output_type": "stream",
     "text": [
      "INIT subclass <class '__main__.MinuteTiming'> {}\n",
      "INIT subclass <class '__main__.HourTiming'> {}\n"
     ]
    }
   ],
   "source": [
    "class Timing:\n",
    "    def __init__(self, start, end):\n",
    "        self.start = start\n",
    "        self.end = end\n",
    "\n",
    "    @classmethod\n",
    "    def __init_subclass__(cls, **kwargs):\n",
    "        print(\"INIT subclass\", cls, kwargs)\n",
    "        super().__init_subclass__(**kwargs)\n",
    "\n",
    "\n",
    "class MinuteTiming(Timing):\n",
    "    pass\n",
    "\n",
    "\n",
    "class HourTiming(MinuteTiming):\n",
    "    pass"
   ]
  },
  {
   "cell_type": "code",
   "execution_count": null,
   "id": "d6a8443d",
   "metadata": {},
   "outputs": [],
   "source": []
  },
  {
   "cell_type": "code",
   "execution_count": null,
   "id": "ad95106c",
   "metadata": {},
   "outputs": [],
   "source": []
  },
  {
   "cell_type": "code",
   "execution_count": null,
   "id": "ff2348b7",
   "metadata": {},
   "outputs": [],
   "source": []
  },
  {
   "cell_type": "code",
   "execution_count": 104,
   "id": "e028e713",
   "metadata": {},
   "outputs": [
    {
     "data": {
      "text/plain": [
       "(__main__.BoldColoredCursor,\n",
       " __main__.BoldCursor,\n",
       " __main__.ColoredCursor,\n",
       " __main__.Cursor,\n",
       " object)"
      ]
     },
     "execution_count": 104,
     "metadata": {},
     "output_type": "execute_result"
    }
   ],
   "source": [
    "class Cursor:\n",
    "    def __init__(self, name):\n",
    "        print(\"Cursor.__init__\", name)\n",
    "        self.name = name\n",
    "    \n",
    "    def draw(self):\n",
    "        print(\"Cursor.draw\", self.name)\n",
    "\n",
    "\n",
    "class ColoredCursor(Cursor):\n",
    "    def __init__(self, color, *args, **kwargs):\n",
    "        super().__init__(*args, **kwargs)\n",
    "\n",
    "        print(\"ColoredCursor.__init__\", color)\n",
    "        self.color = color\n",
    "    \n",
    "    def draw(self):\n",
    "        print(\"ColoredCursor.draw\", self.color)\n",
    "        #canvas.set_color(self.color)\n",
    "        super().draw()\n",
    "\n",
    "        \n",
    "class BoldCursor(Cursor):\n",
    "    def __init__(self, width, *args, **kwargs):\n",
    "        super().__init__(*args, **kwargs)\n",
    "\n",
    "        print(\"BoldCursor.__init__\", width)\n",
    "        self.width = width\n",
    "    \n",
    "    def draw(self):\n",
    "        print(\"BoldCursor.draw\", self.width)\n",
    "        #canvas.setwidth(self.width)\n",
    "        super().draw()\n",
    "        \n",
    "\n",
    "class BoldColoredCursor(BoldCursor, ColoredCursor):\n",
    "    pass\n",
    "\n",
    "BoldColoredCursor.__mro__"
   ]
  },
  {
   "cell_type": "code",
   "execution_count": 108,
   "id": "e6179d0d",
   "metadata": {},
   "outputs": [
    {
     "data": {
      "text/plain": [
       "((__main__.BoldCursor, __main__.ColoredCursor), __main__.BoldCursor)"
      ]
     },
     "execution_count": 108,
     "metadata": {},
     "output_type": "execute_result"
    }
   ],
   "source": [
    "BoldColoredCursor.__bases__, BoldColoredCursor.__base__"
   ]
  },
  {
   "cell_type": "code",
   "execution_count": 106,
   "id": "e77287b2",
   "metadata": {},
   "outputs": [
    {
     "name": "stdout",
     "output_type": "stream",
     "text": [
      "Cursor.__init__ text\n",
      "ColoredCursor.__init__ yellow\n",
      "BoldCursor.__init__ 18\n",
      "---\n",
      "BoldCursor.draw 18\n",
      "ColoredCursor.draw yellow\n",
      "Cursor.draw text\n"
     ]
    }
   ],
   "source": [
    "bold_col = BoldColoredCursor(18, \"yellow\", \"text\")\n",
    "print('---')\n",
    "bold_col.draw()"
   ]
  },
  {
   "cell_type": "code",
   "execution_count": null,
   "id": "2ec6814e",
   "metadata": {},
   "outputs": [],
   "source": []
  },
  {
   "cell_type": "code",
   "execution_count": null,
   "id": "7d8603a2",
   "metadata": {},
   "outputs": [],
   "source": []
  },
  {
   "cell_type": "code",
   "execution_count": null,
   "id": "90f4f796",
   "metadata": {},
   "outputs": [],
   "source": []
  },
  {
   "cell_type": "code",
   "execution_count": null,
   "id": "c71f781c",
   "metadata": {},
   "outputs": [],
   "source": []
  },
  {
   "cell_type": "code",
   "execution_count": 97,
   "id": "8e263a8e",
   "metadata": {},
   "outputs": [
    {
     "name": "stdout",
     "output_type": "stream",
     "text": [
      "Cursor.__init__ line\n",
      "ColoredCursor.__init__ green\n"
     ]
    }
   ],
   "source": [
    "cur = ColoredCursor(\"green\", \"line\")"
   ]
  },
  {
   "cell_type": "code",
   "execution_count": 98,
   "id": "95cd9567",
   "metadata": {},
   "outputs": [
    {
     "name": "stdout",
     "output_type": "stream",
     "text": [
      "ColoredCursor.draw green\n",
      "Cursor.draw line\n"
     ]
    }
   ],
   "source": [
    "cur.draw()"
   ]
  },
  {
   "cell_type": "code",
   "execution_count": 101,
   "id": "da793e19",
   "metadata": {},
   "outputs": [
    {
     "name": "stdout",
     "output_type": "stream",
     "text": [
      "Cursor.__init__ text\n",
      "BoldCursor.__init__ 18\n",
      "---\n",
      "BoldCursor.draw 18\n",
      "Cursor.draw text\n"
     ]
    }
   ],
   "source": [
    "bold = BoldCursor(18, \"text\")\n",
    "print('---')\n",
    "bold.draw()"
   ]
  },
  {
   "cell_type": "code",
   "execution_count": 113,
   "id": "b27ad80b",
   "metadata": {},
   "outputs": [
    {
     "data": {
      "text/plain": [
       "(__main__.D, __main__.C, __main__.A, object)"
      ]
     },
     "execution_count": 113,
     "metadata": {},
     "output_type": "execute_result"
    }
   ],
   "source": [
    "class A:\n",
    "    pass\n",
    "\n",
    "class B(A):\n",
    "    pass\n",
    "\n",
    "class C(A):\n",
    "    pass\n",
    "\n",
    "D.__mro__"
   ]
  },
  {
   "cell_type": "code",
   "execution_count": 114,
   "id": "0e49c77a",
   "metadata": {},
   "outputs": [
    {
     "ename": "TypeError",
     "evalue": "Cannot create a consistent method resolution\norder (MRO) for bases A, C",
     "output_type": "error",
     "traceback": [
      "\u001b[0;31m---------------------------------------------------------------------------\u001b[0m",
      "\u001b[0;31mTypeError\u001b[0m                                 Traceback (most recent call last)",
      "Cell \u001b[0;32mIn [114], line 1\u001b[0m\n\u001b[0;32m----> 1\u001b[0m \u001b[38;5;28;01mclass\u001b[39;00m \u001b[38;5;21;01mD\u001b[39;00m(A, C):\n\u001b[1;32m      2\u001b[0m     \u001b[38;5;28;01mpass\u001b[39;00m\n",
      "\u001b[0;31mTypeError\u001b[0m: Cannot create a consistent method resolution\norder (MRO) for bases A, C"
     ]
    }
   ],
   "source": [
    "class D(A, C):  # A, C, A\n",
    "    pass"
   ]
  },
  {
   "cell_type": "code",
   "execution_count": null,
   "id": "3fcdd775",
   "metadata": {},
   "outputs": [],
   "source": []
  },
  {
   "cell_type": "code",
   "execution_count": null,
   "id": "e6e4f5a7",
   "metadata": {},
   "outputs": [],
   "source": []
  },
  {
   "cell_type": "code",
   "execution_count": 130,
   "id": "1e64c9cc",
   "metadata": {},
   "outputs": [
    {
     "name": "stdout",
     "output_type": "stream",
     "text": [
      "1\n",
      "1\n",
      "2\n",
      "3\n",
      "5\n",
      "8\n",
      "13\n",
      "21\n",
      "34\n",
      "55\n"
     ]
    }
   ],
   "source": [
    "def fib():\n",
    "    a, b = 0, 1\n",
    "\n",
    "    while True:\n",
    "#         print('take')\n",
    "        a, b = b, a + b\n",
    "        yield a\n",
    "\n",
    "\n",
    "f_gen = fib()\n",
    "\n",
    "        \n",
    "for i in range(10):\n",
    "    print(next(f_gen))"
   ]
  },
  {
   "cell_type": "code",
   "execution_count": 119,
   "id": "ea8e98d2",
   "metadata": {},
   "outputs": [],
   "source": [
    "from itertools import islice"
   ]
  },
  {
   "cell_type": "code",
   "execution_count": 121,
   "id": "e99f8e84",
   "metadata": {},
   "outputs": [
    {
     "data": {
      "text/plain": [
       "[1, 1, 2, 3, 5, 8, 13, 21, 34, 55]"
      ]
     },
     "execution_count": 121,
     "metadata": {},
     "output_type": "execute_result"
    }
   ],
   "source": [
    "list(islice(fib(), 10))"
   ]
  },
  {
   "cell_type": "code",
   "execution_count": null,
   "id": "9e656fb0",
   "metadata": {},
   "outputs": [],
   "source": []
  },
  {
   "cell_type": "code",
   "execution_count": 123,
   "id": "afd7c3e7",
   "metadata": {},
   "outputs": [],
   "source": [
    "f = islice(fib(), 10)"
   ]
  },
  {
   "cell_type": "code",
   "execution_count": 124,
   "id": "b6b393ce",
   "metadata": {},
   "outputs": [
    {
     "name": "stdout",
     "output_type": "stream",
     "text": [
      "take\n"
     ]
    },
    {
     "data": {
      "text/plain": [
       "1"
      ]
     },
     "execution_count": 124,
     "metadata": {},
     "output_type": "execute_result"
    }
   ],
   "source": [
    "next(f)"
   ]
  },
  {
   "cell_type": "code",
   "execution_count": 131,
   "id": "36053ce5",
   "metadata": {},
   "outputs": [
    {
     "data": {
      "text/plain": [
       "[1, 1, 2, 3, 5, 8, 13, 21, 34, 55]"
      ]
     },
     "execution_count": 131,
     "metadata": {},
     "output_type": "execute_result"
    }
   ],
   "source": [
    "list(islice(fib(), 10))"
   ]
  },
  {
   "cell_type": "code",
   "execution_count": 132,
   "id": "adb90d57",
   "metadata": {},
   "outputs": [
    {
     "data": {
      "text/plain": [
       "[(1, 101), (2, 103), (5, 108), (13, 121), (34, 155)]"
      ]
     },
     "execution_count": 132,
     "metadata": {},
     "output_type": "execute_result"
    }
   ],
   "source": [
    "f = islice(fib(), 10)\n",
    "\n",
    "list(\n",
    "    zip(f, map(lambda x: x + 100, f))\n",
    ")"
   ]
  },
  {
   "cell_type": "code",
   "execution_count": 133,
   "id": "5331d9be",
   "metadata": {},
   "outputs": [
    {
     "data": {
      "text/plain": [
       "[(1, 1, 2, 3), (5, 8, 13, 21)]"
      ]
     },
     "execution_count": 133,
     "metadata": {},
     "output_type": "execute_result"
    }
   ],
   "source": [
    "f = islice(fib(), 10)\n",
    "\n",
    "list(\n",
    "    zip(f, f, f, f)\n",
    ")"
   ]
  },
  {
   "cell_type": "code",
   "execution_count": 134,
   "id": "40549169",
   "metadata": {},
   "outputs": [
    {
     "data": {
      "text/plain": [
       "[(1, 1, 1, 1), (2, 3, 2, 3), (5, 8, 5, 8), (13, 21, 13, 21), (34, 55, 34, 55)]"
      ]
     },
     "execution_count": 134,
     "metadata": {},
     "output_type": "execute_result"
    }
   ],
   "source": [
    "f1 = islice(fib(), 10)\n",
    "f2 = islice(fib(), 10)\n",
    "\n",
    "list(\n",
    "    zip(f1, f1, f2, f2)\n",
    ")\n",
    "\n",
    "# (1, 1, 1, 1), (2, 3, 2, 3)"
   ]
  },
  {
   "cell_type": "code",
   "execution_count": 135,
   "id": "eeb6ddaf",
   "metadata": {},
   "outputs": [],
   "source": [
    "lst = iter([1, 2, 3, 4])"
   ]
  },
  {
   "cell_type": "code",
   "execution_count": 137,
   "id": "3431873b",
   "metadata": {},
   "outputs": [
    {
     "data": {
      "text/plain": [
       "4"
      ]
     },
     "execution_count": 137,
     "metadata": {},
     "output_type": "execute_result"
    }
   ],
   "source": [
    "next(lst)\n",
    "next(lst)\n",
    "next(lst)\n",
    "next(lst)"
   ]
  },
  {
   "cell_type": "code",
   "execution_count": 138,
   "id": "194f5c65",
   "metadata": {},
   "outputs": [
    {
     "ename": "StopIteration",
     "evalue": "",
     "output_type": "error",
     "traceback": [
      "\u001b[0;31m---------------------------------------------------------------------------\u001b[0m",
      "\u001b[0;31mStopIteration\u001b[0m                             Traceback (most recent call last)",
      "Cell \u001b[0;32mIn [138], line 1\u001b[0m\n\u001b[0;32m----> 1\u001b[0m \u001b[38;5;28;43mnext\u001b[39;49m\u001b[43m(\u001b[49m\u001b[43mlst\u001b[49m\u001b[43m)\u001b[49m\n",
      "\u001b[0;31mStopIteration\u001b[0m: "
     ]
    }
   ],
   "source": [
    "next(lst)"
   ]
  },
  {
   "cell_type": "code",
   "execution_count": 139,
   "id": "ec69480d",
   "metadata": {},
   "outputs": [
    {
     "ename": "TypeError",
     "evalue": "'list' object is not an iterator",
     "output_type": "error",
     "traceback": [
      "\u001b[0;31m---------------------------------------------------------------------------\u001b[0m",
      "\u001b[0;31mTypeError\u001b[0m                                 Traceback (most recent call last)",
      "Cell \u001b[0;32mIn [139], line 2\u001b[0m\n\u001b[1;32m      1\u001b[0m lst \u001b[38;5;241m=\u001b[39m [\u001b[38;5;241m1\u001b[39m, \u001b[38;5;241m2\u001b[39m, \u001b[38;5;241m3\u001b[39m, \u001b[38;5;241m4\u001b[39m]\n\u001b[0;32m----> 2\u001b[0m \u001b[38;5;28;43mnext\u001b[39;49m\u001b[43m(\u001b[49m\u001b[43mlst\u001b[49m\u001b[43m)\u001b[49m\n",
      "\u001b[0;31mTypeError\u001b[0m: 'list' object is not an iterator"
     ]
    }
   ],
   "source": [
    "lst = [1, 2, 3, 4]\n",
    "next(lst)"
   ]
  },
  {
   "cell_type": "code",
   "execution_count": null,
   "id": "231b7b8d",
   "metadata": {},
   "outputs": [],
   "source": [
    "# for i in range():\n",
    "#     for j in [1, 2, 3]:"
   ]
  },
  {
   "cell_type": "code",
   "execution_count": null,
   "id": "46163afb",
   "metadata": {},
   "outputs": [],
   "source": []
  },
  {
   "cell_type": "code",
   "execution_count": null,
   "id": "d12e3bba",
   "metadata": {},
   "outputs": [],
   "source": []
  },
  {
   "cell_type": "code",
   "execution_count": 140,
   "id": "71b4eeaa",
   "metadata": {},
   "outputs": [],
   "source": [
    "def fib():\n",
    "    a, b = 0, 1\n",
    "\n",
    "    while True:\n",
    "        a, b = b, a + b\n",
    "        yield a"
   ]
  },
  {
   "cell_type": "code",
   "execution_count": 142,
   "id": "4b4ff25c",
   "metadata": {},
   "outputs": [
    {
     "name": "stdout",
     "output_type": "stream",
     "text": [
      "__itert__\n",
      "5\n",
      "9\n",
      "11\n",
      "0\n",
      "2\n"
     ]
    }
   ],
   "source": [
    "class CustomIter:\n",
    "    def __init__(self, lst):\n",
    "        self._lst = lst\n",
    "    \n",
    "    def __iter__(self):\n",
    "        print('__itert__')\n",
    "        return iter(self._lst)\n",
    "    \n",
    "\n",
    "for i in CustomIter([5, 9, 11, 0, 2]):\n",
    "    print(i)"
   ]
  },
  {
   "cell_type": "code",
   "execution_count": 159,
   "id": "d811aa90",
   "metadata": {},
   "outputs": [
    {
     "name": "stdout",
     "output_type": "stream",
     "text": [
      "25\n",
      "81\n",
      "121\n",
      "0\n",
      "4\n"
     ]
    },
    {
     "ename": "StopIteration",
     "evalue": "",
     "output_type": "error",
     "traceback": [
      "\u001b[0;31m---------------------------------------------------------------------------\u001b[0m",
      "\u001b[0;31mStopIteration\u001b[0m                             Traceback (most recent call last)",
      "Cell \u001b[0;32mIn [159], line 24\u001b[0m\n\u001b[1;32m     22\u001b[0m \u001b[38;5;28mprint\u001b[39m(\u001b[38;5;28mnext\u001b[39m(it))\n\u001b[1;32m     23\u001b[0m \u001b[38;5;28mprint\u001b[39m(\u001b[38;5;28mnext\u001b[39m(it))\n\u001b[0;32m---> 24\u001b[0m \u001b[38;5;28mprint\u001b[39m(\u001b[38;5;28;43mnext\u001b[39;49m\u001b[43m(\u001b[49m\u001b[43mit\u001b[49m\u001b[43m)\u001b[49m)\n",
      "Cell \u001b[0;32mIn [159], line 15\u001b[0m, in \u001b[0;36mCustomIter.__next__\u001b[0;34m(self)\u001b[0m\n\u001b[1;32m     13\u001b[0m     \u001b[38;5;28mself\u001b[39m\u001b[38;5;241m.\u001b[39m_i \u001b[38;5;241m+\u001b[39m\u001b[38;5;241m=\u001b[39m \u001b[38;5;241m1\u001b[39m\n\u001b[1;32m     14\u001b[0m     \u001b[38;5;28;01mreturn\u001b[39;00m val \u001b[38;5;241m*\u001b[39m\u001b[38;5;241m*\u001b[39m \u001b[38;5;241m2\u001b[39m\n\u001b[0;32m---> 15\u001b[0m \u001b[38;5;28;01mraise\u001b[39;00m \u001b[38;5;167;01mStopIteration\u001b[39;00m()\n",
      "\u001b[0;31mStopIteration\u001b[0m: "
     ]
    }
   ],
   "source": [
    "class CustomIter:\n",
    "    def __init__(self, lst):\n",
    "        self._lst = lst\n",
    "        self._i = 0\n",
    "\n",
    "    def __iter__(self):\n",
    "        print('__itert__')\n",
    "        return self\n",
    "\n",
    "    def __next__(self):\n",
    "        if self._i < len(self._lst):\n",
    "            val = self._lst[self._i]\n",
    "            self._i += 1\n",
    "            return val ** 2\n",
    "        raise StopIteration()\n",
    "\n",
    "\n",
    "it = CustomIter([5, 9, 11, 0, 2])\n",
    "print(next(it))\n",
    "print(next(it))\n",
    "print(next(it))\n",
    "print(next(it))\n",
    "print(next(it))\n",
    "print(next(it))"
   ]
  },
  {
   "cell_type": "code",
   "execution_count": 160,
   "id": "e8cf93fb",
   "metadata": {},
   "outputs": [
    {
     "name": "stdout",
     "output_type": "stream",
     "text": [
      "__itert__\n",
      "25\n",
      "81\n",
      "121\n",
      "0\n",
      "4\n"
     ]
    }
   ],
   "source": [
    "for i in CustomIter([5, 9, 11, 0, 2]):\n",
    "    print(i)"
   ]
  },
  {
   "cell_type": "code",
   "execution_count": 154,
   "id": "dc7acba4",
   "metadata": {},
   "outputs": [
    {
     "ename": "TypeError",
     "evalue": "'CustomIter' object is not iterable",
     "output_type": "error",
     "traceback": [
      "\u001b[0;31m---------------------------------------------------------------------------\u001b[0m",
      "\u001b[0;31mTypeError\u001b[0m                                 Traceback (most recent call last)",
      "Cell \u001b[0;32mIn [154], line 1\u001b[0m\n\u001b[0;32m----> 1\u001b[0m \u001b[38;5;28;43miter\u001b[39;49m\u001b[43m(\u001b[49m\u001b[43mCustomIter\u001b[49m\u001b[43m(\u001b[49m\u001b[43m[\u001b[49m\u001b[38;5;241;43m5\u001b[39;49m\u001b[43m,\u001b[49m\u001b[43m \u001b[49m\u001b[38;5;241;43m9\u001b[39;49m\u001b[43m,\u001b[49m\u001b[43m \u001b[49m\u001b[38;5;241;43m11\u001b[39;49m\u001b[43m,\u001b[49m\u001b[43m \u001b[49m\u001b[38;5;241;43m0\u001b[39;49m\u001b[43m,\u001b[49m\u001b[43m \u001b[49m\u001b[38;5;241;43m2\u001b[39;49m\u001b[43m]\u001b[49m\u001b[43m)\u001b[49m\u001b[43m)\u001b[49m\n",
      "\u001b[0;31mTypeError\u001b[0m: 'CustomIter' object is not iterable"
     ]
    }
   ],
   "source": [
    "iter(CustomIter([5, 9, 11, 0, 2]))"
   ]
  },
  {
   "cell_type": "code",
   "execution_count": null,
   "id": "0c8036fc",
   "metadata": {},
   "outputs": [],
   "source": []
  },
  {
   "cell_type": "code",
   "execution_count": null,
   "id": "6bd89f7d",
   "metadata": {},
   "outputs": [],
   "source": []
  },
  {
   "cell_type": "code",
   "execution_count": 161,
   "id": "d8496154",
   "metadata": {},
   "outputs": [],
   "source": [
    "#type(x) == int or type(x) == float"
   ]
  },
  {
   "cell_type": "code",
   "execution_count": 175,
   "id": "72b232b3",
   "metadata": {},
   "outputs": [
    {
     "data": {
      "text/plain": [
       "(True, False)"
      ]
     },
     "execution_count": 175,
     "metadata": {},
     "output_type": "execute_result"
    }
   ],
   "source": [
    "isinstance(1, (int, float)), isinstance(\"1\", (int, float))"
   ]
  },
  {
   "cell_type": "code",
   "execution_count": 164,
   "id": "e1493932",
   "metadata": {},
   "outputs": [
    {
     "data": {
      "text/plain": [
       "(__main__.CustomIter, int)"
      ]
     },
     "execution_count": 164,
     "metadata": {},
     "output_type": "execute_result"
    }
   ],
   "source": [
    "type(CustomIter([])), type(1)"
   ]
  },
  {
   "cell_type": "code",
   "execution_count": 165,
   "id": "4a68fd90",
   "metadata": {},
   "outputs": [
    {
     "name": "stdout",
     "output_type": "stream",
     "text": [
      "Cursor.__init__ line\n",
      "ColoredCursor.__init__ green\n",
      "BoldCursor.__init__ 18\n"
     ]
    }
   ],
   "source": [
    "cur = BoldColoredCursor(\"18\", \"green\", \"line\")"
   ]
  },
  {
   "cell_type": "code",
   "execution_count": 166,
   "id": "b0124741",
   "metadata": {},
   "outputs": [
    {
     "data": {
      "text/plain": [
       "__main__.BoldColoredCursor"
      ]
     },
     "execution_count": 166,
     "metadata": {},
     "output_type": "execute_result"
    }
   ],
   "source": [
    "type(cur)"
   ]
  },
  {
   "cell_type": "code",
   "execution_count": 169,
   "id": "d551d519",
   "metadata": {},
   "outputs": [
    {
     "data": {
      "text/plain": [
       "(True, True, True)"
      ]
     },
     "execution_count": 169,
     "metadata": {},
     "output_type": "execute_result"
    }
   ],
   "source": [
    "isinstance(cur, BoldColoredCursor), isinstance(cur, Cursor), isinstance(cur, object)"
   ]
  },
  {
   "cell_type": "code",
   "execution_count": 170,
   "id": "f861acaf",
   "metadata": {},
   "outputs": [
    {
     "data": {
      "text/plain": [
       "True"
      ]
     },
     "execution_count": 170,
     "metadata": {},
     "output_type": "execute_result"
    }
   ],
   "source": [
    "def fn(): pass\n",
    "\n",
    "isinstance(fn, object)"
   ]
  },
  {
   "cell_type": "code",
   "execution_count": 173,
   "id": "8ca97f82",
   "metadata": {},
   "outputs": [
    {
     "data": {
      "text/plain": [
       "True"
      ]
     },
     "execution_count": 173,
     "metadata": {},
     "output_type": "execute_result"
    }
   ],
   "source": [
    "isinstance(cur, (str, int, Cursor))"
   ]
  },
  {
   "cell_type": "code",
   "execution_count": 176,
   "id": "b677d510",
   "metadata": {},
   "outputs": [
    {
     "name": "stdout",
     "output_type": "stream",
     "text": [
      "Cursor.__init__ name\n",
      "BoldCursor.__init__ 18\n",
      "Cursor.__init__ name\n"
     ]
    }
   ],
   "source": [
    "bold_cur = BoldCursor(18, \"name\")\n",
    "cur = Cursor(\"name\")"
   ]
  },
  {
   "cell_type": "code",
   "execution_count": 179,
   "id": "18c1e154",
   "metadata": {},
   "outputs": [
    {
     "name": "stdout",
     "output_type": "stream",
     "text": [
      "True False False False\n"
     ]
    }
   ],
   "source": [
    "print(\n",
    "    isinstance(bold_cur, Cursor),\n",
    "    isinstance(bold_cur, BoldColoredCursor),\n",
    "    isinstance(bold_cur, ColoredCursor),\n",
    "    isinstance(cur, BoldColoredCursor),\n",
    ")"
   ]
  },
  {
   "cell_type": "code",
   "execution_count": null,
   "id": "4e4a1ee8",
   "metadata": {},
   "outputs": [],
   "source": []
  },
  {
   "cell_type": "code",
   "execution_count": null,
   "id": "3dd5c9e8",
   "metadata": {},
   "outputs": [],
   "source": []
  },
  {
   "cell_type": "code",
   "execution_count": 184,
   "id": "5c661b73",
   "metadata": {},
   "outputs": [
    {
     "name": "stdout",
     "output_type": "stream",
     "text": [
      "<_io.TextIOWrapper name='data.json' mode='w' encoding='UTF-8'>\n"
     ]
    }
   ],
   "source": [
    "import json\n",
    "\n",
    "with open(\"data.json\", \"w\") as f:\n",
    "    print(f)\n",
    "    json.dump({\"x\": \"y\"}, f)"
   ]
  },
  {
   "cell_type": "code",
   "execution_count": 183,
   "id": "31b8ff18",
   "metadata": {},
   "outputs": [
    {
     "name": "stdout",
     "output_type": "stream",
     "text": [
      "{\"x\": \"y\"}"
     ]
    }
   ],
   "source": [
    "!cat data.json"
   ]
  },
  {
   "cell_type": "code",
   "execution_count": 185,
   "id": "a6462690",
   "metadata": {},
   "outputs": [],
   "source": [
    "import io"
   ]
  },
  {
   "cell_type": "code",
   "execution_count": 191,
   "id": "d54c2775",
   "metadata": {},
   "outputs": [],
   "source": [
    "buf = io.StringIO()"
   ]
  },
  {
   "cell_type": "code",
   "execution_count": 192,
   "id": "7a619f15",
   "metadata": {},
   "outputs": [],
   "source": [
    "json.dump({\"x\": \"y\"}, buf)\n",
    "json.dump({\"z\": \"22222\"}, buf)"
   ]
  },
  {
   "cell_type": "code",
   "execution_count": 193,
   "id": "74cf0ba0",
   "metadata": {},
   "outputs": [
    {
     "data": {
      "text/plain": [
       "'{\"x\": \"y\"}{\"z\": \"22222\"}'"
      ]
     },
     "execution_count": 193,
     "metadata": {},
     "output_type": "execute_result"
    }
   ],
   "source": [
    "buf.getvalue()"
   ]
  },
  {
   "cell_type": "code",
   "execution_count": null,
   "id": "3edeac67",
   "metadata": {},
   "outputs": [],
   "source": []
  },
  {
   "cell_type": "code",
   "execution_count": null,
   "id": "c910a4c5",
   "metadata": {},
   "outputs": [],
   "source": [
    "class TicTac:\n",
    "    def __init__(self, print_fn=print):\n",
    "        self._print = print_fn\n",
    "        \n",
    "    def move(self):\n",
    "        self._print(\"dkwndkwdkwk\")\n",
    "        \n",
    "        \n",
    "\n",
    "def test_xxx():\n",
    "    m_print = mock.Mock()\n",
    "    tt = TicTac(print_fn=m_print)\n",
    "    tt.play()\n",
    "    \n",
    "    self.assertEqual(\n",
    "        [mock.call(\"dkwndkwdkwk\")],\n",
    "        m_print.mock_calls,\n",
    "    )\n",
    "    \n",
    "\n",
    "def test_yyyy():\n",
    "    tt = TicTac()\n",
    "    with mock.patch(\"path_to_TicTac.print\") as m_print:\n",
    "        tt.play()\n",
    "\n",
    "        self.assertEqual(\n",
    "            [mock.call(\"dkwndkwdkwk\")],\n",
    "            m_print.mock_calls,\n",
    "        )"
   ]
  },
  {
   "cell_type": "code",
   "execution_count": null,
   "id": "d7e31999",
   "metadata": {},
   "outputs": [],
   "source": []
  }
 ],
 "metadata": {
  "kernelspec": {
   "display_name": "Python 3 (ipykernel)",
   "language": "python",
   "name": "python3"
  },
  "language_info": {
   "codemirror_mode": {
    "name": "ipython",
    "version": 3
   },
   "file_extension": ".py",
   "mimetype": "text/x-python",
   "name": "python",
   "nbconvert_exporter": "python",
   "pygments_lexer": "ipython3",
   "version": "3.10.2"
  }
 },
 "nbformat": 4,
 "nbformat_minor": 5
}
