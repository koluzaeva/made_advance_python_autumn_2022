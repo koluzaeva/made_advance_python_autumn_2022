{
 "cells": [
  {
   "cell_type": "code",
   "execution_count": 1,
   "id": "fe96a55f",
   "metadata": {},
   "outputs": [],
   "source": [
    "None"
   ]
  },
  {
   "cell_type": "code",
   "execution_count": 2,
   "id": "8047a548",
   "metadata": {},
   "outputs": [],
   "source": [
    "num = 10"
   ]
  },
  {
   "cell_type": "code",
   "execution_count": 3,
   "id": "7f5e3470",
   "metadata": {},
   "outputs": [
    {
     "data": {
      "text/plain": [
       "False"
      ]
     },
     "execution_count": 3,
     "metadata": {},
     "output_type": "execute_result"
    }
   ],
   "source": [
    "num is None"
   ]
  },
  {
   "cell_type": "code",
   "execution_count": 5,
   "id": "1e9dc14b",
   "metadata": {},
   "outputs": [
    {
     "data": {
      "text/plain": [
       "True"
      ]
     },
     "execution_count": 5,
     "metadata": {},
     "output_type": "execute_result"
    }
   ],
   "source": [
    "d = {}\n",
    "d.get(1) is None"
   ]
  },
  {
   "cell_type": "code",
   "execution_count": 6,
   "id": "a85f3a80",
   "metadata": {},
   "outputs": [
    {
     "data": {
      "text/plain": [
       "False"
      ]
     },
     "execution_count": 6,
     "metadata": {},
     "output_type": "execute_result"
    }
   ],
   "source": [
    "s1 = object()\n",
    "s2 = object()\n",
    "\n",
    "s1 is s2"
   ]
  },
  {
   "cell_type": "code",
   "execution_count": 8,
   "id": "73b7e150",
   "metadata": {},
   "outputs": [
    {
     "data": {
      "text/plain": [
       "(4360370128, 4360371200)"
      ]
     },
     "execution_count": 8,
     "metadata": {},
     "output_type": "execute_result"
    }
   ],
   "source": [
    "id(s1), id(s2)"
   ]
  },
  {
   "cell_type": "code",
   "execution_count": 9,
   "id": "1dce026f",
   "metadata": {},
   "outputs": [
    {
     "data": {
      "text/plain": [
       "True"
      ]
     },
     "execution_count": 9,
     "metadata": {},
     "output_type": "execute_result"
    }
   ],
   "source": [
    "s3 = s2\n",
    "s3 is s2"
   ]
  },
  {
   "cell_type": "code",
   "execution_count": 10,
   "id": "4e1b1348",
   "metadata": {},
   "outputs": [
    {
     "data": {
      "text/plain": [
       "(4360370128, 4360371200, 4360371200)"
      ]
     },
     "execution_count": 10,
     "metadata": {},
     "output_type": "execute_result"
    }
   ],
   "source": [
    "id(s1), id(s2), id(s3)"
   ]
  },
  {
   "cell_type": "code",
   "execution_count": 29,
   "id": "fbd6b0f9",
   "metadata": {},
   "outputs": [
    {
     "name": "stdout",
     "output_type": "stream",
     "text": [
      "[10] [10]\n",
      "[99] [10]\n"
     ]
    }
   ],
   "source": [
    "lst1 = []\n",
    "lst2 = lst1\n",
    "\n",
    "lst1.append(10)\n",
    "print(lst1, lst2)\n",
    "\n",
    "lst1 = [99]\n",
    "print(lst1, lst2)"
   ]
  },
  {
   "cell_type": "code",
   "execution_count": 14,
   "id": "1bb268cd",
   "metadata": {},
   "outputs": [
    {
     "ename": "AttributeError",
     "evalue": "'object' object has no attribute 'x'",
     "output_type": "error",
     "traceback": [
      "\u001b[0;31m---------------------------------------------------------------------------\u001b[0m",
      "\u001b[0;31mAttributeError\u001b[0m                            Traceback (most recent call last)",
      "Cell \u001b[0;32mIn [14], line 1\u001b[0m\n\u001b[0;32m----> 1\u001b[0m \u001b[43ms1\u001b[49m\u001b[38;5;241;43m.\u001b[39;49m\u001b[43mx\u001b[49m \u001b[38;5;241m=\u001b[39m \u001b[38;5;241m10\u001b[39m\n",
      "\u001b[0;31mAttributeError\u001b[0m: 'object' object has no attribute 'x'"
     ]
    }
   ],
   "source": [
    "s1.x = 10"
   ]
  },
  {
   "cell_type": "code",
   "execution_count": 15,
   "id": "ce859ff4",
   "metadata": {},
   "outputs": [],
   "source": [
    "class X:\n",
    "    pass\n",
    "\n",
    "obj = X()"
   ]
  },
  {
   "cell_type": "code",
   "execution_count": 16,
   "id": "faffbf1a",
   "metadata": {},
   "outputs": [],
   "source": [
    "obj.x = 10"
   ]
  },
  {
   "cell_type": "code",
   "execution_count": 17,
   "id": "111c79f1",
   "metadata": {},
   "outputs": [
    {
     "data": {
      "text/plain": [
       "True"
      ]
     },
     "execution_count": 17,
     "metadata": {},
     "output_type": "execute_result"
    }
   ],
   "source": [
    "isinstance(obj, object)"
   ]
  },
  {
   "cell_type": "code",
   "execution_count": 20,
   "id": "e13ebeb5",
   "metadata": {},
   "outputs": [],
   "source": [
    "def fn():\n",
    "    pass"
   ]
  },
  {
   "cell_type": "code",
   "execution_count": 21,
   "id": "140689ef",
   "metadata": {},
   "outputs": [],
   "source": [
    "def fn():\n",
    "    ..."
   ]
  },
  {
   "cell_type": "code",
   "execution_count": 25,
   "id": "67c02b97",
   "metadata": {},
   "outputs": [
    {
     "data": {
      "text/plain": [
       "(True, False, 4395903248, 4395903248, 4399708080, 4399708336)"
      ]
     },
     "execution_count": 25,
     "metadata": {},
     "output_type": "execute_result"
    }
   ],
   "source": [
    "x1 = object()\n",
    "x2 = x1\n",
    "\n",
    "addr1 = id(x1)\n",
    "addr2 = id(x2)\n",
    "\n",
    "x1 is x2, id(x1) is id(x2), addr1, addr2, id(addr1), id(addr2)"
   ]
  },
  {
   "cell_type": "code",
   "execution_count": 28,
   "id": "eb0663b9",
   "metadata": {},
   "outputs": [
    {
     "name": "stdout",
     "output_type": "stream",
     "text": [
      "True\n",
      "4 3 False\n"
     ]
    }
   ],
   "source": [
    "a, b = 3, 8\n",
    "\n",
    "c = a\n",
    "print(a is c)\n",
    "a += 1\n",
    "print(a, c, a is c)"
   ]
  },
  {
   "cell_type": "code",
   "execution_count": 36,
   "id": "c3ba8bc1",
   "metadata": {},
   "outputs": [
    {
     "data": {
      "text/plain": [
       "(True, True)"
      ]
     },
     "execution_count": 36,
     "metadata": {},
     "output_type": "execute_result"
    }
   ],
   "source": [
    "x1 = -5\n",
    "x2 = -5\n",
    "\n",
    "x3 = 256\n",
    "x4 = 256\n",
    "\n",
    "x1 is x2, x3 is x4"
   ]
  },
  {
   "cell_type": "code",
   "execution_count": 38,
   "id": "c0eebc41",
   "metadata": {},
   "outputs": [
    {
     "data": {
      "text/plain": [
       "(False, False)"
      ]
     },
     "execution_count": 38,
     "metadata": {},
     "output_type": "execute_result"
    }
   ],
   "source": [
    "x1 = -6\n",
    "x2 = -6\n",
    "\n",
    "x3 = 257\n",
    "x4 = 257\n",
    "\n",
    "x1 is x2, x3 is x4"
   ]
  },
  {
   "cell_type": "code",
   "execution_count": 51,
   "id": "9d6665a4",
   "metadata": {},
   "outputs": [
    {
     "name": "stdout",
     "output_type": "stream",
     "text": [
      "3 -4\n",
      "0.375 0 3 (0, 3)\n",
      "0 11 0\n",
      "23384026197294446691258957323460528314494920687616\n",
      "1.82877982605164e+65\n",
      "11.313708498984761\n",
      "2.0\n",
      "0.001953125\n"
     ]
    }
   ],
   "source": [
    "a, b = 3, 8\n",
    "\n",
    "print(a, ~a)\n",
    "print(a / b, a // b, a % b, divmod(a, b))\n",
    "print(a & b, a ^ b, a ^ a)\n",
    "print(2 ** 164)\n",
    "print(2.5 ** 164)\n",
    "print(2 ** 3.5)\n",
    "print(8 ** (1/3))\n",
    "print(8 ** (-3))"
   ]
  },
  {
   "cell_type": "code",
   "execution_count": 59,
   "id": "6087816e",
   "metadata": {},
   "outputs": [
    {
     "name": "stdout",
     "output_type": "stream",
     "text": [
      "255 255\n",
      "6379\n",
      "1200300\n"
     ]
    }
   ],
   "source": [
    "a = 0xff\n",
    "print(a, int(\"ff\", 16))\n",
    "print(int(\"fij\", 20))\n",
    "\n",
    "b = 1_200_300\n",
    "print(b)"
   ]
  },
  {
   "cell_type": "code",
   "execution_count": 61,
   "id": "fe28530f",
   "metadata": {},
   "outputs": [
    {
     "name": "stdout",
     "output_type": "stream",
     "text": [
      "6 6 6\n",
      "-6 -6 -7\n"
     ]
    }
   ],
   "source": [
    "print(int(6.4), int(6.5), int(6.6))\n",
    "print(int(-6.4), int(-6.5), int(-7.6))"
   ]
  },
  {
   "cell_type": "code",
   "execution_count": 62,
   "id": "6efd3459",
   "metadata": {},
   "outputs": [
    {
     "name": "stdout",
     "output_type": "stream",
     "text": [
      "6 6 7\n",
      "7 8 8\n",
      "-6 -6 -7\n",
      "-7 -8 -8\n"
     ]
    }
   ],
   "source": [
    "print(round(6.4), round(6.5), round(6.6))\n",
    "print(round(7.4), round(7.5), round(7.6))\n",
    "\n",
    "print(round(-6.4), round(-6.5), round(-6.6))\n",
    "print(round(-7.4), round(-7.5), round(-7.6))"
   ]
  },
  {
   "cell_type": "code",
   "execution_count": 63,
   "id": "5d26340c",
   "metadata": {},
   "outputs": [
    {
     "data": {
      "text/plain": [
       "1.235"
      ]
     },
     "execution_count": 63,
     "metadata": {},
     "output_type": "execute_result"
    }
   ],
   "source": [
    "round(1.23456789, 3)"
   ]
  },
  {
   "cell_type": "code",
   "execution_count": 65,
   "id": "d4c711f4",
   "metadata": {},
   "outputs": [
    {
     "data": {
      "text/plain": [
       "(inf, nan)"
      ]
     },
     "execution_count": 65,
     "metadata": {},
     "output_type": "execute_result"
    }
   ],
   "source": [
    "float(\"inf\"), float(\"nan\")"
   ]
  },
  {
   "cell_type": "code",
   "execution_count": 66,
   "id": "580d315f",
   "metadata": {},
   "outputs": [],
   "source": [
    "import math"
   ]
  },
  {
   "cell_type": "code",
   "execution_count": 67,
   "id": "5073c7d9",
   "metadata": {},
   "outputs": [
    {
     "data": {
      "text/plain": [
       "0.30000000000000004"
      ]
     },
     "execution_count": 67,
     "metadata": {},
     "output_type": "execute_result"
    }
   ],
   "source": [
    "0.1 + 0.2"
   ]
  },
  {
   "cell_type": "code",
   "execution_count": 68,
   "id": "15c7f6ae",
   "metadata": {},
   "outputs": [
    {
     "data": {
      "text/plain": [
       "0.1"
      ]
     },
     "execution_count": 68,
     "metadata": {},
     "output_type": "execute_result"
    }
   ],
   "source": [
    "0.1"
   ]
  },
  {
   "cell_type": "code",
   "execution_count": 69,
   "id": "2ad7e7e6",
   "metadata": {},
   "outputs": [
    {
     "data": {
      "text/plain": [
       "False"
      ]
     },
     "execution_count": 69,
     "metadata": {},
     "output_type": "execute_result"
    }
   ],
   "source": [
    "0.1 + 0.2 == 0.3"
   ]
  },
  {
   "cell_type": "code",
   "execution_count": 70,
   "id": "0da397b1",
   "metadata": {},
   "outputs": [
    {
     "data": {
      "text/plain": [
       "True"
      ]
     },
     "execution_count": 70,
     "metadata": {},
     "output_type": "execute_result"
    }
   ],
   "source": [
    "math.isclose(0.1 + 0.2, 0.3)"
   ]
  },
  {
   "cell_type": "code",
   "execution_count": 75,
   "id": "778195d1",
   "metadata": {},
   "outputs": [
    {
     "data": {
      "text/plain": [
       "False"
      ]
     },
     "execution_count": 75,
     "metadata": {},
     "output_type": "execute_result"
    }
   ],
   "source": [
    "abs(0.3 - 0.1 - 0.2) < 10e-18"
   ]
  },
  {
   "cell_type": "code",
   "execution_count": 76,
   "id": "cfe5448c",
   "metadata": {},
   "outputs": [
    {
     "data": {
      "text/plain": [
       "(True, False)"
      ]
     },
     "execution_count": 76,
     "metadata": {},
     "output_type": "execute_result"
    }
   ],
   "source": [
    "True, False"
   ]
  },
  {
   "cell_type": "code",
   "execution_count": 78,
   "id": "33962ad9",
   "metadata": {},
   "outputs": [
    {
     "data": {
      "text/plain": [
       "(True, False)"
      ]
     },
     "execution_count": 78,
     "metadata": {},
     "output_type": "execute_result"
    }
   ],
   "source": [
    "isinstance(True, int), isinstance(True, float)"
   ]
  },
  {
   "cell_type": "code",
   "execution_count": 81,
   "id": "f462d7e5",
   "metadata": {},
   "outputs": [
    {
     "data": {
      "text/plain": [
       "(True, True, True)"
      ]
     },
     "execution_count": 81,
     "metadata": {},
     "output_type": "execute_result"
    }
   ],
   "source": [
    "x1 = 6\n",
    "\n",
    "isinstance(x1, int), isinstance(x1, object), isinstance(object, object)"
   ]
  },
  {
   "cell_type": "code",
   "execution_count": null,
   "id": "dcd2d959",
   "metadata": {},
   "outputs": [],
   "source": []
  },
  {
   "cell_type": "code",
   "execution_count": 84,
   "id": "30817b9a",
   "metadata": {},
   "outputs": [
    {
     "data": {
      "text/plain": [
       "('пароль',\n",
       " b'\\xd0\\xbf\\xd0\\xb0\\xd1\\x80\\xd0\\xbe\\xd0\\xbb\\xd1\\x8c',\n",
       " b'\\xef\\xe0\\xf0\\xee\\xeb\\xfc')"
      ]
     },
     "execution_count": 84,
     "metadata": {},
     "output_type": "execute_result"
    }
   ],
   "source": [
    "s1 = \"пароль\"\n",
    "s2 = s1.encode()\n",
    "s3 = s1.encode(\"cp1251\")\n",
    "\n",
    "s1, s2, s3"
   ]
  },
  {
   "cell_type": "code",
   "execution_count": 86,
   "id": "20675c2f",
   "metadata": {},
   "outputs": [
    {
     "data": {
      "text/plain": [
       "'пароль'"
      ]
     },
     "execution_count": 86,
     "metadata": {},
     "output_type": "execute_result"
    }
   ],
   "source": [
    "s3.decode(\"cp1251\")"
   ]
  },
  {
   "cell_type": "code",
   "execution_count": 89,
   "id": "950d0c9a",
   "metadata": {},
   "outputs": [
    {
     "name": "stdout",
     "output_type": "stream",
     "text": [
      "qw_\n",
      "_er_\t_1\n"
     ]
    },
    {
     "data": {
      "text/plain": [
       "\"'qw_\\\\n_er_\\\\t_1'\""
      ]
     },
     "execution_count": 89,
     "metadata": {},
     "output_type": "execute_result"
    }
   ],
   "source": [
    "s1 = \"qw_\\n_er_\\t_1\"\n",
    "print(s1)\n",
    "repr(s1)"
   ]
  },
  {
   "cell_type": "code",
   "execution_count": 90,
   "id": "618b5b2b",
   "metadata": {},
   "outputs": [
    {
     "name": "stdout",
     "output_type": "stream",
     "text": [
      "qw_\\n_er_\\t_1\n"
     ]
    },
    {
     "data": {
      "text/plain": [
       "\"'qw_\\\\\\\\n_er_\\\\\\\\t_1'\""
      ]
     },
     "execution_count": 90,
     "metadata": {},
     "output_type": "execute_result"
    }
   ],
   "source": [
    "s2 = \"qw_\\\\n_er_\\\\t_1\"\n",
    "print(s2)\n",
    "repr(s2)"
   ]
  },
  {
   "cell_type": "code",
   "execution_count": 91,
   "id": "5720a3ca",
   "metadata": {},
   "outputs": [
    {
     "name": "stdout",
     "output_type": "stream",
     "text": [
      "qw_\\n_er_\\t_1\n"
     ]
    },
    {
     "data": {
      "text/plain": [
       "\"'qw_\\\\\\\\n_er_\\\\\\\\t_1'\""
      ]
     },
     "execution_count": 91,
     "metadata": {},
     "output_type": "execute_result"
    }
   ],
   "source": [
    "s3 = r\"qw_\\n_er_\\t_1\"\n",
    "print(s3)\n",
    "repr(s3)"
   ]
  },
  {
   "cell_type": "code",
   "execution_count": 95,
   "id": "7064ae68",
   "metadata": {},
   "outputs": [
    {
     "name": "stdout",
     "output_type": "stream",
     "text": [
      "[1, 2, 3]\n",
      "[99, 1, 2, 3]\n",
      "99 3 99\n",
      "[99, 1, 2, 42]\n"
     ]
    }
   ],
   "source": [
    "lst = []\n",
    "lst.append(1)\n",
    "lst.extend([2, 3])\n",
    "print(lst)\n",
    "\n",
    "lst.insert(0, 99)\n",
    "print(lst)\n",
    "\n",
    "print(lst[0], lst[-1], lst[-4])\n",
    "\n",
    "lst[3] = 42\n",
    "print(lst)"
   ]
  },
  {
   "cell_type": "code",
   "execution_count": 96,
   "id": "86273ec0",
   "metadata": {},
   "outputs": [
    {
     "name": "stdout",
     "output_type": "stream",
     "text": [
      "(99, 1, 2, 42)\n"
     ]
    }
   ],
   "source": [
    "t1 = tuple(lst)\n",
    "print(t1)"
   ]
  },
  {
   "cell_type": "code",
   "execution_count": 97,
   "id": "f4d7e674",
   "metadata": {},
   "outputs": [
    {
     "ename": "TypeError",
     "evalue": "'tuple' object does not support item assignment",
     "output_type": "error",
     "traceback": [
      "\u001b[0;31m---------------------------------------------------------------------------\u001b[0m",
      "\u001b[0;31mTypeError\u001b[0m                                 Traceback (most recent call last)",
      "Cell \u001b[0;32mIn [97], line 1\u001b[0m\n\u001b[0;32m----> 1\u001b[0m \u001b[43mt1\u001b[49m\u001b[43m[\u001b[49m\u001b[38;5;241;43m0\u001b[39;49m\u001b[43m]\u001b[49m \u001b[38;5;241m=\u001b[39m \u001b[38;5;241m12\u001b[39m\n",
      "\u001b[0;31mTypeError\u001b[0m: 'tuple' object does not support item assignment"
     ]
    }
   ],
   "source": [
    "t1[0] = 12"
   ]
  },
  {
   "cell_type": "code",
   "execution_count": 99,
   "id": "dae9fd6b",
   "metadata": {},
   "outputs": [
    {
     "data": {
      "text/plain": [
       "(True, False)"
      ]
     },
     "execution_count": 99,
     "metadata": {},
     "output_type": "execute_result"
    }
   ],
   "source": [
    "1 in lst, 4 in t1"
   ]
  },
  {
   "cell_type": "code",
   "execution_count": 101,
   "id": "2a9232c9",
   "metadata": {},
   "outputs": [
    {
     "name": "stdout",
     "output_type": "stream",
     "text": [
      "{1: 11, 2: 22, '3': '33'} True False\n"
     ]
    }
   ],
   "source": [
    "dct = {\n",
    "    1: 11,\n",
    "    2: 22,\n",
    "}\n",
    "dct[\"3\"] = \"33\"\n",
    "\n",
    "print(dct, 2 in dct, 3 in dct)\n"
   ]
  },
  {
   "cell_type": "code",
   "execution_count": 103,
   "id": "9a1b390f",
   "metadata": {},
   "outputs": [
    {
     "name": "stdout",
     "output_type": "stream",
     "text": [
      "{1, 2} True False\n"
     ]
    }
   ],
   "source": [
    "s1 = set()\n",
    "s1.add(1)\n",
    "s1.add(2)\n",
    "\n",
    "print(s1, 1 in s1, 4 in s1)"
   ]
  },
  {
   "cell_type": "code",
   "execution_count": 112,
   "id": "9c2038c6",
   "metadata": {},
   "outputs": [
    {
     "name": "stdout",
     "output_type": "stream",
     "text": [
      "ok\n"
     ]
    }
   ],
   "source": [
    "def is_uniq_elems(nums) -> bool:\n",
    "    seen = set()\n",
    "\n",
    "    for n in nums:\n",
    "        if n in seen:\n",
    "            return False\n",
    "        seen.add(n)\n",
    "    \n",
    "    return True\n",
    "\n",
    "\n",
    "assert is_uniq_elems([])\n",
    "assert is_uniq_elems([1, 2, 3])\n",
    "assert not is_uniq_elems([1, 2, 3, 1])\n",
    "\n",
    "print('ok')"
   ]
  },
  {
   "cell_type": "code",
   "execution_count": 113,
   "id": "1fbc5bab",
   "metadata": {},
   "outputs": [
    {
     "name": "stdout",
     "output_type": "stream",
     "text": [
      "ok\n"
     ]
    }
   ],
   "source": [
    "def get_nums():\n",
    "    return [1, 3]\n",
    "\n",
    "assert get_nums() == [1, 3]\n",
    "assert get_nums() != [1, 4]\n",
    "\n",
    "print('ok')"
   ]
  },
  {
   "cell_type": "code",
   "execution_count": 114,
   "id": "ad0e0324",
   "metadata": {},
   "outputs": [
    {
     "data": {
      "text/plain": [
       "range(1, 9)"
      ]
     },
     "execution_count": 114,
     "metadata": {},
     "output_type": "execute_result"
    }
   ],
   "source": [
    "range(1, 9)"
   ]
  },
  {
   "cell_type": "code",
   "execution_count": 116,
   "id": "3be75e8f",
   "metadata": {},
   "outputs": [
    {
     "name": "stdout",
     "output_type": "stream",
     "text": [
      "1\n",
      "4\n",
      "7\n"
     ]
    }
   ],
   "source": [
    "for n in range(1, 9, 3):\n",
    "    print(n)"
   ]
  },
  {
   "cell_type": "code",
   "execution_count": null,
   "id": "dddcf53a",
   "metadata": {},
   "outputs": [],
   "source": []
  }
 ],
 "metadata": {
  "kernelspec": {
   "display_name": "Python 3 (ipykernel)",
   "language": "python",
   "name": "python3"
  },
  "language_info": {
   "codemirror_mode": {
    "name": "ipython",
    "version": 3
   },
   "file_extension": ".py",
   "mimetype": "text/x-python",
   "name": "python",
   "nbconvert_exporter": "python",
   "pygments_lexer": "ipython3",
   "version": "3.10.2"
  }
 },
 "nbformat": 4,
 "nbformat_minor": 5
}
