{
 "cells": [
  {
   "cell_type": "code",
   "execution_count": 6,
   "id": "3afcce0e",
   "metadata": {},
   "outputs": [
    {
     "data": {
      "text/plain": [
       "6"
      ]
     },
     "execution_count": 6,
     "metadata": {},
     "output_type": "execute_result"
    }
   ],
   "source": [
    "round(6.5)"
   ]
  },
  {
   "cell_type": "code",
   "execution_count": 15,
   "id": "9685255b",
   "metadata": {},
   "outputs": [
    {
     "data": {
      "text/plain": [
       "4"
      ]
     },
     "execution_count": 15,
     "metadata": {},
     "output_type": "execute_result"
    }
   ],
   "source": [
    "round(3.5)"
   ]
  },
  {
   "cell_type": "code",
   "execution_count": 14,
   "id": "acc4f584",
   "metadata": {},
   "outputs": [
    {
     "data": {
      "text/plain": [
       "7.3"
      ]
     },
     "execution_count": 14,
     "metadata": {},
     "output_type": "execute_result"
    }
   ],
   "source": [
    "round(7.35, 1)"
   ]
  },
  {
   "cell_type": "code",
   "execution_count": 4,
   "id": "5588087d",
   "metadata": {},
   "outputs": [
    {
     "data": {
      "text/plain": [
       "6"
      ]
     },
     "execution_count": 4,
     "metadata": {},
     "output_type": "execute_result"
    }
   ],
   "source": [
    "round(6.4)"
   ]
  },
  {
   "cell_type": "code",
   "execution_count": 16,
   "id": "598834c8",
   "metadata": {},
   "outputs": [],
   "source": [
    "nan = float('nan')"
   ]
  },
  {
   "cell_type": "code",
   "execution_count": 17,
   "id": "6b896bac",
   "metadata": {},
   "outputs": [
    {
     "data": {
      "text/plain": [
       "nan"
      ]
     },
     "execution_count": 17,
     "metadata": {},
     "output_type": "execute_result"
    }
   ],
   "source": [
    "nan"
   ]
  },
  {
   "cell_type": "code",
   "execution_count": 18,
   "id": "685dfba9",
   "metadata": {},
   "outputs": [
    {
     "data": {
      "text/plain": [
       "float"
      ]
     },
     "execution_count": 18,
     "metadata": {},
     "output_type": "execute_result"
    }
   ],
   "source": [
    "type(nan)"
   ]
  },
  {
   "cell_type": "code",
   "execution_count": 19,
   "id": "efeb9f1b",
   "metadata": {},
   "outputs": [
    {
     "data": {
      "text/plain": [
       "True"
      ]
     },
     "execution_count": 19,
     "metadata": {},
     "output_type": "execute_result"
    }
   ],
   "source": [
    "nan != nan"
   ]
  },
  {
   "cell_type": "code",
   "execution_count": 20,
   "id": "cac87039",
   "metadata": {},
   "outputs": [],
   "source": [
    "def is_nan(val):\n",
    "    return val != val"
   ]
  },
  {
   "cell_type": "code",
   "execution_count": 22,
   "id": "e684d845",
   "metadata": {},
   "outputs": [
    {
     "data": {
      "text/plain": [
       "True"
      ]
     },
     "execution_count": 22,
     "metadata": {},
     "output_type": "execute_result"
    }
   ],
   "source": [
    "is_nan(nan)"
   ]
  },
  {
   "cell_type": "code",
   "execution_count": 23,
   "id": "34b16956",
   "metadata": {},
   "outputs": [],
   "source": [
    "s1 = \"1²³⁵\""
   ]
  },
  {
   "cell_type": "code",
   "execution_count": 31,
   "id": "b112300f",
   "metadata": {},
   "outputs": [],
   "source": [
    "s2 = \"2_334_534\""
   ]
  },
  {
   "cell_type": "code",
   "execution_count": 26,
   "id": "df0aea2a",
   "metadata": {},
   "outputs": [
    {
     "data": {
      "text/plain": [
       "(True, True, False)"
      ]
     },
     "execution_count": 26,
     "metadata": {},
     "output_type": "execute_result"
    }
   ],
   "source": [
    "s1.isdigit(), s1.isnumeric(), s1.isdecimal()"
   ]
  },
  {
   "cell_type": "code",
   "execution_count": 32,
   "id": "1f3985f7",
   "metadata": {},
   "outputs": [
    {
     "data": {
      "text/plain": [
       "(False, False, False)"
      ]
     },
     "execution_count": 32,
     "metadata": {},
     "output_type": "execute_result"
    }
   ],
   "source": [
    "s2.isdigit(), s2.isnumeric(), s2.isdecimal()"
   ]
  },
  {
   "cell_type": "code",
   "execution_count": 38,
   "id": "5f891cb2",
   "metadata": {},
   "outputs": [
    {
     "ename": "ValueError",
     "evalue": "invalid literal for int() with base 10: '1²³⁵'",
     "output_type": "error",
     "traceback": [
      "\u001b[0;31m---------------------------------------------------------------------------\u001b[0m",
      "\u001b[0;31mValueError\u001b[0m                                Traceback (most recent call last)",
      "Cell \u001b[0;32mIn [38], line 1\u001b[0m\n\u001b[0;32m----> 1\u001b[0m \u001b[38;5;28;43mint\u001b[39;49m\u001b[43m(\u001b[49m\u001b[43ms1\u001b[49m\u001b[43m)\u001b[49m\n",
      "\u001b[0;31mValueError\u001b[0m: invalid literal for int() with base 10: '1²³⁵'"
     ]
    }
   ],
   "source": [
    "int(s1)"
   ]
  },
  {
   "cell_type": "code",
   "execution_count": 39,
   "id": "1b41951c",
   "metadata": {},
   "outputs": [
    {
     "name": "stdout",
     "output_type": "stream",
     "text": [
      "2233534\n"
     ]
    }
   ],
   "source": [
    "i1 = 2_233_534, print(i1)"
   ]
  },
  {
   "cell_type": "code",
   "execution_count": 40,
   "id": "f0f0ef93",
   "metadata": {},
   "outputs": [],
   "source": [
    "s1 = \"Привет дивный новый мир\""
   ]
  },
  {
   "cell_type": "code",
   "execution_count": 49,
   "id": "08610326",
   "metadata": {},
   "outputs": [
    {
     "data": {
      "text/plain": [
       "('ПРИВЕТ ДИВНЫЙ НОВЫЙ МИР',\n",
       " 'привет дивный новый мир',\n",
       " 'пРИВЕТ ДИВНЫЙ НОВЫЙ МИР',\n",
       " True)"
      ]
     },
     "execution_count": 49,
     "metadata": {},
     "output_type": "execute_result"
    }
   ],
   "source": [
    "s1.upper(), s1.lower(), s1.swapcase(), s1.upper().capitalize() == s1.lower().capitalize()"
   ]
  },
  {
   "cell_type": "code",
   "execution_count": 55,
   "id": "9847d2af",
   "metadata": {},
   "outputs": [],
   "source": [
    "tags = [\"<a href='https://vk.com'>\", \"<body>\", \"<title>Социальная сеть</title>\"]"
   ]
  },
  {
   "cell_type": "code",
   "execution_count": 56,
   "id": "8e926501",
   "metadata": {},
   "outputs": [
    {
     "name": "stdout",
     "output_type": "stream",
     "text": [
      "Нашли гиперссылку\n",
      "Всё остальное\n",
      "Мы нашли заголовок\n"
     ]
    }
   ],
   "source": [
    "for tag in tags:\n",
    "    if tag.startswith('<a '):\n",
    "        print('Нашли гиперссылку')\n",
    "    elif tag.endswith('</title>'):\n",
    "        print('Мы нашли заголовок')\n",
    "    else:\n",
    "        print('Всё остальное')"
   ]
  },
  {
   "cell_type": "code",
   "execution_count": 62,
   "id": "4fb2d43f",
   "metadata": {},
   "outputs": [
    {
     "data": {
      "text/plain": [
       "(True, True, False, False)"
      ]
     },
     "execution_count": 62,
     "metadata": {},
     "output_type": "execute_result"
    }
   ],
   "source": [
    "'a'.isprintable(), ' '.isprintable(), '\\t'.isprintable(), '\\r'.isprintable()"
   ]
  },
  {
   "cell_type": "code",
   "execution_count": 64,
   "id": "8bd154e7",
   "metadata": {},
   "outputs": [
    {
     "data": {
      "text/plain": [
       "(False, True, True, True)"
      ]
     },
     "execution_count": 64,
     "metadata": {},
     "output_type": "execute_result"
    }
   ],
   "source": [
    "'32'.isspace(), ' '.isspace(), '\\t'.isspace(), '\\n'.isspace()"
   ]
  },
  {
   "cell_type": "code",
   "execution_count": 65,
   "id": "3e889b65",
   "metadata": {},
   "outputs": [],
   "source": [
    "s3 = 'www'"
   ]
  },
  {
   "cell_type": "code",
   "execution_count": 70,
   "id": "5d76a685",
   "metadata": {},
   "outputs": [
    {
     "data": {
      "text/plain": [
       "('www   ', '#######www')"
      ]
     },
     "execution_count": 70,
     "metadata": {},
     "output_type": "execute_result"
    }
   ],
   "source": [
    "s3.ljust(6,), s3.rjust(10, '#')"
   ]
  },
  {
   "cell_type": "code",
   "execution_count": 73,
   "id": "a0233535",
   "metadata": {},
   "outputs": [],
   "source": [
    "s4 = '     \\nabcdef \\n\\r'"
   ]
  },
  {
   "cell_type": "code",
   "execution_count": 75,
   "id": "e799d29e",
   "metadata": {},
   "outputs": [
    {
     "data": {
      "text/plain": [
       "('abcdef', '     \\nabcdef', 'abcdef \\n\\r')"
      ]
     },
     "execution_count": 75,
     "metadata": {},
     "output_type": "execute_result"
    }
   ],
   "source": [
    "s4.strip(), s4.rstrip(), s4.lstrip()"
   ]
  },
  {
   "cell_type": "code",
   "execution_count": 76,
   "id": "abcb9ebb",
   "metadata": {},
   "outputs": [
    {
     "data": {
      "text/plain": [
       "'cfef\\n '"
      ]
     },
     "execution_count": 76,
     "metadata": {},
     "output_type": "execute_result"
    }
   ],
   "source": [
    "'abcfef\\n '.strip('ba')"
   ]
  },
  {
   "cell_type": "code",
   "execution_count": 79,
   "id": "e4e45944",
   "metadata": {},
   "outputs": [
    {
     "data": {
      "text/plain": [
       "'=====hello====='"
      ]
     },
     "execution_count": 79,
     "metadata": {},
     "output_type": "execute_result"
    }
   ],
   "source": [
    "'hello'.center(15, '=')"
   ]
  },
  {
   "cell_type": "code",
   "execution_count": 91,
   "id": "97a9cc3e",
   "metadata": {},
   "outputs": [
    {
     "ename": "ValueError",
     "evalue": "substring not found",
     "output_type": "error",
     "traceback": [
      "\u001b[0;31m---------------------------------------------------------------------------\u001b[0m",
      "\u001b[0;31mValueError\u001b[0m                                Traceback (most recent call last)",
      "Cell \u001b[0;32mIn [91], line 2\u001b[0m\n\u001b[1;32m      1\u001b[0m s5 \u001b[38;5;241m=\u001b[39m \u001b[38;5;124m'\u001b[39m\u001b[38;5;124mabdaadc\u001b[39m\u001b[38;5;124m'\u001b[39m\n\u001b[0;32m----> 2\u001b[0m \u001b[38;5;124m'\u001b[39m\u001b[38;5;124mabdaadc\u001b[39m\u001b[38;5;124m'\u001b[39m\u001b[38;5;241m.\u001b[39mcount(\u001b[38;5;124m'\u001b[39m\u001b[38;5;124mab\u001b[39m\u001b[38;5;124m'\u001b[39m), \u001b[38;5;124m'\u001b[39m\u001b[38;5;124mbanana\u001b[39m\u001b[38;5;124m'\u001b[39m\u001b[38;5;241m.\u001b[39mfind(\u001b[38;5;124m'\u001b[39m\u001b[38;5;124mana\u001b[39m\u001b[38;5;124m'\u001b[39m, \u001b[38;5;241m2\u001b[39m), \u001b[38;5;124;43m'\u001b[39;49m\u001b[38;5;124;43mbanana\u001b[39;49m\u001b[38;5;124;43m'\u001b[39;49m\u001b[38;5;241;43m.\u001b[39;49m\u001b[43mindex\u001b[49m\u001b[43m(\u001b[49m\u001b[38;5;124;43m'\u001b[39;49m\u001b[38;5;124;43manasdfd\u001b[39;49m\u001b[38;5;124;43m'\u001b[39;49m\u001b[43m,\u001b[49m\u001b[43m \u001b[49m\u001b[38;5;241;43m2\u001b[39;49m\u001b[43m)\u001b[49m\n",
      "\u001b[0;31mValueError\u001b[0m: substring not found"
     ]
    }
   ],
   "source": [
    "s5 = 'abdaadc'\n",
    "'abdaadc'.count('ab'), 'banana'.find('ana', 2), 'banana'.index('anasdfd', 2)"
   ]
  },
  {
   "cell_type": "code",
   "execution_count": 95,
   "id": "40ad80f7",
   "metadata": {},
   "outputs": [
    {
     "data": {
      "text/plain": [
       "('\\tHello\\t', '    Hello   ')"
      ]
     },
     "execution_count": 95,
     "metadata": {},
     "output_type": "execute_result"
    }
   ],
   "source": [
    "tabsstr = '\\tHello\\t'\n",
    "tabsstr, tabsstr.expandtabs(4)"
   ]
  },
  {
   "cell_type": "code",
   "execution_count": 96,
   "id": "6c260329",
   "metadata": {},
   "outputs": [
    {
     "name": "stdout",
     "output_type": "stream",
     "text": [
      "\tHello\t\n"
     ]
    }
   ],
   "source": [
    "print(tabsstr)"
   ]
  },
  {
   "cell_type": "code",
   "execution_count": 111,
   "id": "377393f9",
   "metadata": {},
   "outputs": [
    {
     "data": {
      "text/plain": [
       "['Я  вас люблю чего же более ', ' что я могу ', ' ещё сказать']"
      ]
     },
     "execution_count": 111,
     "metadata": {},
     "output_type": "execute_result"
    }
   ],
   "source": [
    "res = \"Я  вас люблю чего же более =*_*= что я могу =*_*= ещё сказать\".split('=*_*=')\n",
    "res"
   ]
  },
  {
   "cell_type": "code",
   "execution_count": 103,
   "id": "52bfcc38",
   "metadata": {},
   "outputs": [
    {
     "data": {
      "text/plain": [
       "('Я  вас люблю чего же более ', '=*_*=', ' что я могу ещё сказать')"
      ]
     },
     "execution_count": 103,
     "metadata": {},
     "output_type": "execute_result"
    }
   ],
   "source": [
    "\"Я  вас люблю чего же более =*_*= что я могу ещё сказать\".partition('=*_*=')"
   ]
  },
  {
   "cell_type": "code",
   "execution_count": 106,
   "id": "1e804cc6",
   "metadata": {},
   "outputs": [
    {
     "data": {
      "text/plain": [
       "'00000Hello'"
      ]
     },
     "execution_count": 106,
     "metadata": {},
     "output_type": "execute_result"
    }
   ],
   "source": [
    "\"Hello\".zfill(10)"
   ]
  },
  {
   "cell_type": "code",
   "execution_count": 108,
   "id": "d9f76419",
   "metadata": {},
   "outputs": [
    {
     "data": {
      "text/plain": [
       "'hello, how, are, you'"
      ]
     },
     "execution_count": 108,
     "metadata": {},
     "output_type": "execute_result"
    }
   ],
   "source": [
    "\", \".join([\"hello\", 'how', 'are', 'you'])"
   ]
  },
  {
   "cell_type": "code",
   "execution_count": 112,
   "id": "fb9ae2e3",
   "metadata": {},
   "outputs": [
    {
     "data": {
      "text/plain": [
       "True"
      ]
     },
     "execution_count": 112,
     "metadata": {},
     "output_type": "execute_result"
    }
   ],
   "source": [
    "'=*_*='.join(res) == \"Я  вас люблю чего же более =*_*= что я могу =*_*= ещё сказать\""
   ]
  },
  {
   "cell_type": "code",
   "execution_count": 115,
   "id": "9df4ab42",
   "metadata": {},
   "outputs": [],
   "source": [
    "s6 = 'word1 word2\\nlin2\\nline3'"
   ]
  },
  {
   "cell_type": "code",
   "execution_count": 118,
   "id": "2ba7f56f",
   "metadata": {},
   "outputs": [
    {
     "data": {
      "text/plain": [
       "['word1 word2', 'lin2', 'line3']"
      ]
     },
     "execution_count": 118,
     "metadata": {},
     "output_type": "execute_result"
    }
   ],
   "source": [
    "s6.splitlines()"
   ]
  },
  {
   "cell_type": "code",
   "execution_count": 119,
   "id": "0b2cc64f",
   "metadata": {},
   "outputs": [],
   "source": [
    "import collections"
   ]
  },
  {
   "cell_type": "code",
   "execution_count": 121,
   "id": "503e7613",
   "metadata": {},
   "outputs": [],
   "source": [
    "Country = collections.namedtuple('Country', ['name', 'population', 'area'])"
   ]
  },
  {
   "cell_type": "code",
   "execution_count": 124,
   "id": "89fff513",
   "metadata": {},
   "outputs": [],
   "source": [
    "south_africa = Country('South Africa', 5931 * 10 ** 4, 1.2 * 10 ** 6)"
   ]
  },
  {
   "cell_type": "code",
   "execution_count": 125,
   "id": "72ca7b05",
   "metadata": {},
   "outputs": [
    {
     "name": "stdout",
     "output_type": "stream",
     "text": [
      "Country(name='South Africa', population=59310000, area=1200000.0)\n"
     ]
    }
   ],
   "source": [
    "print(south_africa)"
   ]
  },
  {
   "cell_type": "code",
   "execution_count": 133,
   "id": "04ecc13e",
   "metadata": {},
   "outputs": [],
   "source": [
    "south_africa = south_africa._replace(population=5941 * 10 ** 4)"
   ]
  },
  {
   "cell_type": "code",
   "execution_count": 134,
   "id": "2f7e806e",
   "metadata": {},
   "outputs": [
    {
     "data": {
      "text/plain": [
       "Country(name='South Africa', population=59410000, area=1200000.0)"
      ]
     },
     "execution_count": 134,
     "metadata": {},
     "output_type": "execute_result"
    }
   ],
   "source": [
    "south_africa"
   ]
  },
  {
   "cell_type": "code",
   "execution_count": 153,
   "id": "86941e03",
   "metadata": {},
   "outputs": [],
   "source": [
    "d = {}\n",
    "d1 = collections.defaultdict(int)"
   ]
  },
  {
   "cell_type": "code",
   "execution_count": 156,
   "id": "fd502da1",
   "metadata": {},
   "outputs": [],
   "source": [
    "for i in [1,2,1,3,4,2]:\n",
    "    if i not in d:\n",
    "        d[i] = 0\n",
    "        d1[i] = int()\n",
    "    d[i] += 1\n",
    "    d1[i] += 1"
   ]
  },
  {
   "cell_type": "code",
   "execution_count": 157,
   "id": "72bfa6ce",
   "metadata": {},
   "outputs": [
    {
     "data": {
      "text/plain": [
       "({1: 4, 2: 4, 3: 2, 4: 2}, defaultdict(int, {1: 4, 2: 4, 3: 2, 4: 2}), True)"
      ]
     },
     "execution_count": 157,
     "metadata": {},
     "output_type": "execute_result"
    }
   ],
   "source": [
    "d, d1, isinstance(d1, dict)"
   ]
  },
  {
   "cell_type": "code",
   "execution_count": 158,
   "id": "30bd74ef",
   "metadata": {},
   "outputs": [
    {
     "data": {
      "text/plain": [
       "0"
      ]
     },
     "execution_count": 158,
     "metadata": {},
     "output_type": "execute_result"
    }
   ],
   "source": [
    "int()"
   ]
  },
  {
   "cell_type": "code",
   "execution_count": 164,
   "id": "72bf6d21",
   "metadata": {},
   "outputs": [],
   "source": [
    "lst = ['Алёна','Арчибальда', 'Геннадий', 'Светлана', 'Арчибальда', 'Геннадий', 'Арчибальда']"
   ]
  },
  {
   "cell_type": "code",
   "execution_count": 165,
   "id": "fcc99865",
   "metadata": {},
   "outputs": [],
   "source": [
    "c = collections.Counter(lst)"
   ]
  },
  {
   "cell_type": "code",
   "execution_count": 166,
   "id": "99c6769a",
   "metadata": {},
   "outputs": [
    {
     "data": {
      "text/plain": [
       "Counter({'Алёна': 1, 'Арчибальда': 3, 'Геннадий': 2, 'Светлана': 1})"
      ]
     },
     "execution_count": 166,
     "metadata": {},
     "output_type": "execute_result"
    }
   ],
   "source": [
    "c"
   ]
  },
  {
   "cell_type": "code",
   "execution_count": 167,
   "id": "d27a9947",
   "metadata": {},
   "outputs": [
    {
     "data": {
      "text/plain": [
       "['Алёна',\n",
       " 'Арчибальда',\n",
       " 'Арчибальда',\n",
       " 'Арчибальда',\n",
       " 'Геннадий',\n",
       " 'Геннадий',\n",
       " 'Светлана']"
      ]
     },
     "execution_count": 167,
     "metadata": {},
     "output_type": "execute_result"
    }
   ],
   "source": [
    "list(c.elements())"
   ]
  },
  {
   "cell_type": "code",
   "execution_count": 169,
   "id": "9d570e4f",
   "metadata": {},
   "outputs": [
    {
     "data": {
      "text/plain": [
       "[('Арчибальда', 3), ('Геннадий', 2)]"
      ]
     },
     "execution_count": 169,
     "metadata": {},
     "output_type": "execute_result"
    }
   ],
   "source": [
    "c.most_common(2)"
   ]
  },
  {
   "cell_type": "code",
   "execution_count": 174,
   "id": "73950e89",
   "metadata": {},
   "outputs": [],
   "source": [
    "d = collections.deque()"
   ]
  },
  {
   "cell_type": "code",
   "execution_count": 175,
   "id": "1f2718a9",
   "metadata": {},
   "outputs": [],
   "source": [
    "d.append(1)\n",
    "d.append(2)\n",
    "d.append(3)"
   ]
  },
  {
   "cell_type": "code",
   "execution_count": 176,
   "id": "b5ccc880",
   "metadata": {},
   "outputs": [
    {
     "data": {
      "text/plain": [
       "deque([1, 2, 3])"
      ]
     },
     "execution_count": 176,
     "metadata": {},
     "output_type": "execute_result"
    }
   ],
   "source": [
    "d"
   ]
  },
  {
   "cell_type": "code",
   "execution_count": 178,
   "id": "198565ab",
   "metadata": {},
   "outputs": [],
   "source": [
    "d.appendleft(10)"
   ]
  },
  {
   "cell_type": "code",
   "execution_count": 180,
   "id": "bc96642d",
   "metadata": {},
   "outputs": [],
   "source": [
    "d.extendleft([5,6,7])"
   ]
  },
  {
   "cell_type": "code",
   "execution_count": 181,
   "id": "c6f74b10",
   "metadata": {},
   "outputs": [
    {
     "data": {
      "text/plain": [
       "deque([7, 6, 5, 10, 1, 2, 3])"
      ]
     },
     "execution_count": 181,
     "metadata": {},
     "output_type": "execute_result"
    }
   ],
   "source": [
    "d"
   ]
  },
  {
   "cell_type": "code",
   "execution_count": 182,
   "id": "589c876f",
   "metadata": {},
   "outputs": [],
   "source": [
    "d.append([10,23,23])"
   ]
  },
  {
   "cell_type": "code",
   "execution_count": 184,
   "id": "e6815510",
   "metadata": {},
   "outputs": [
    {
     "data": {
      "text/plain": [
       "[10, 23, 23]"
      ]
     },
     "execution_count": 184,
     "metadata": {},
     "output_type": "execute_result"
    }
   ],
   "source": [
    "d.pop()"
   ]
  },
  {
   "cell_type": "code",
   "execution_count": 185,
   "id": "45f5c9c1",
   "metadata": {},
   "outputs": [
    {
     "data": {
      "text/plain": [
       "deque([7, 6, 5, 10, 1, 2, 3])"
      ]
     },
     "execution_count": 185,
     "metadata": {},
     "output_type": "execute_result"
    }
   ],
   "source": [
    "d"
   ]
  },
  {
   "cell_type": "code",
   "execution_count": 186,
   "id": "05cbc80d",
   "metadata": {},
   "outputs": [
    {
     "data": {
      "text/plain": [
       "7"
      ]
     },
     "execution_count": 186,
     "metadata": {},
     "output_type": "execute_result"
    }
   ],
   "source": [
    "d[0]"
   ]
  },
  {
   "cell_type": "code",
   "execution_count": 187,
   "id": "778d43de",
   "metadata": {},
   "outputs": [],
   "source": [
    "import functools"
   ]
  },
  {
   "cell_type": "code",
   "execution_count": 206,
   "id": "8803ec98",
   "metadata": {},
   "outputs": [],
   "source": [
    "#@functools.lru_cache(maxsize=100)\n",
    "def fib(n):\n",
    "    if n <= 1:\n",
    "        return n\n",
    "    return fib(n-1) + fib(n-2)"
   ]
  },
  {
   "cell_type": "code",
   "execution_count": 211,
   "id": "b4b31ed2",
   "metadata": {},
   "outputs": [
    {
     "name": "stdout",
     "output_type": "stream",
     "text": [
      "CPU times: user 117 µs, sys: 24 µs, total: 141 µs\n",
      "Wall time: 163 µs\n"
     ]
    },
    {
     "data": {
      "text/plain": [
       "354224848179261915075"
      ]
     },
     "execution_count": 211,
     "metadata": {},
     "output_type": "execute_result"
    }
   ],
   "source": [
    "%%time\n",
    "fib(40)\n",
    "\n",
    "fibd = functools.cache(fib)\n",
    "fibd(100)"
   ]
  },
  {
   "cell_type": "code",
   "execution_count": 216,
   "id": "baf15906",
   "metadata": {},
   "outputs": [],
   "source": [
    "def deco(func):\n",
    "    @functools.wraps(func)\n",
    "    def wrapper(*args, **kwargs):\n",
    "        res = func(*args, **kwargs)\n",
    "        print(f\"Executin {func.__name__}\")\n",
    "        return res\n",
    "    return wrapper"
   ]
  },
  {
   "cell_type": "code",
   "execution_count": 217,
   "id": "4b59d54f",
   "metadata": {},
   "outputs": [],
   "source": [
    "@deco\n",
    "def add(a, b):\n",
    "    return a + b"
   ]
  },
  {
   "cell_type": "code",
   "execution_count": 218,
   "id": "144d1205",
   "metadata": {},
   "outputs": [
    {
     "name": "stdout",
     "output_type": "stream",
     "text": [
      "Executin add\n"
     ]
    },
    {
     "data": {
      "text/plain": [
       "14"
      ]
     },
     "execution_count": 218,
     "metadata": {},
     "output_type": "execute_result"
    }
   ],
   "source": [
    "add(10, 4)"
   ]
  },
  {
   "cell_type": "code",
   "execution_count": 219,
   "id": "2c16c574",
   "metadata": {},
   "outputs": [
    {
     "data": {
      "text/plain": [
       "'add'"
      ]
     },
     "execution_count": 219,
     "metadata": {},
     "output_type": "execute_result"
    }
   ],
   "source": [
    "add.__name__"
   ]
  },
  {
   "cell_type": "code",
   "execution_count": 222,
   "id": "0fb53efa",
   "metadata": {},
   "outputs": [
    {
     "data": {
      "text/plain": [
       "12"
      ]
     },
     "execution_count": 222,
     "metadata": {},
     "output_type": "execute_result"
    }
   ],
   "source": [
    "add.__wrapped__(10, 2)"
   ]
  },
  {
   "cell_type": "code",
   "execution_count": 223,
   "id": "24cc9e3c",
   "metadata": {},
   "outputs": [],
   "source": [
    "import itertools"
   ]
  },
  {
   "cell_type": "code",
   "execution_count": 226,
   "id": "a69101df",
   "metadata": {},
   "outputs": [
    {
     "name": "stdout",
     "output_type": "stream",
     "text": [
      "0\n",
      "3\n",
      "6\n",
      "9\n",
      "12\n",
      "15\n",
      "18\n",
      "21\n",
      "24\n",
      "27\n",
      "30\n",
      "33\n",
      "36\n",
      "39\n",
      "42\n",
      "45\n",
      "48\n",
      "51\n",
      "54\n",
      "57\n",
      "60\n",
      "63\n",
      "66\n",
      "69\n",
      "72\n",
      "75\n",
      "78\n",
      "81\n",
      "84\n",
      "87\n",
      "90\n",
      "93\n",
      "96\n",
      "99\n",
      "102\n"
     ]
    }
   ],
   "source": [
    "for i in itertools.count(0, 3):\n",
    "    print(i)\n",
    "    if i > 100:\n",
    "        break"
   ]
  },
  {
   "cell_type": "code",
   "execution_count": 230,
   "id": "78a5e06f",
   "metadata": {},
   "outputs": [
    {
     "data": {
      "text/plain": [
       "['Алёна',\n",
       " 'Арчибальда',\n",
       " 'Геннадий',\n",
       " 'Светлана',\n",
       " 'Арчибальда',\n",
       " 'Геннадий',\n",
       " 'Арчибальда']"
      ]
     },
     "execution_count": 230,
     "metadata": {},
     "output_type": "execute_result"
    }
   ],
   "source": [
    "cycle = itertools.cycle(lst)\n",
    "lst"
   ]
  },
  {
   "cell_type": "code",
   "execution_count": 229,
   "id": "80c446cc",
   "metadata": {},
   "outputs": [
    {
     "name": "stdout",
     "output_type": "stream",
     "text": [
      "Алёна\n",
      "Арчибальда\n",
      "Геннадий\n",
      "Светлана\n",
      "Арчибальда\n",
      "Геннадий\n",
      "Арчибальда\n",
      "Алёна\n",
      "Арчибальда\n",
      "Геннадий\n",
      "Светлана\n",
      "Арчибальда\n",
      "Геннадий\n",
      "Арчибальда\n",
      "Алёна\n",
      "Арчибальда\n",
      "Геннадий\n",
      "Светлана\n",
      "Арчибальда\n",
      "Геннадий\n"
     ]
    }
   ],
   "source": [
    "for _ in range(20):\n",
    "    name = next(cycle)\n",
    "    print(name)"
   ]
  },
  {
   "cell_type": "code",
   "execution_count": 239,
   "id": "b58eda95",
   "metadata": {},
   "outputs": [],
   "source": [
    "repeater = itertools.repeat(\"Таксы\")"
   ]
  },
  {
   "cell_type": "code",
   "execution_count": 240,
   "id": "b0376612",
   "metadata": {},
   "outputs": [
    {
     "name": "stdout",
     "output_type": "stream",
     "text": [
      "Таксы\n",
      "Таксы\n",
      "Таксы\n",
      "Таксы\n",
      "Таксы\n"
     ]
    }
   ],
   "source": [
    "for _ in range(5):\n",
    "    name = next(repeater)\n",
    "    print(name)"
   ]
  },
  {
   "cell_type": "code",
   "execution_count": 241,
   "id": "a4960fbe",
   "metadata": {},
   "outputs": [],
   "source": [
    "lst = [1, 2, 3, 4, 5, 6]"
   ]
  },
  {
   "cell_type": "code",
   "execution_count": 246,
   "id": "80a089b4",
   "metadata": {},
   "outputs": [
    {
     "data": {
      "text/plain": [
       "[10, 11, 13, 16, 20, 25, 31]"
      ]
     },
     "execution_count": 246,
     "metadata": {},
     "output_type": "execute_result"
    }
   ],
   "source": [
    "list(itertools.accumulate(lst, initial=10))"
   ]
  },
  {
   "cell_type": "code",
   "execution_count": 250,
   "id": "2aa4bf99",
   "metadata": {},
   "outputs": [
    {
     "data": {
      "text/plain": [
       "31"
      ]
     },
     "execution_count": 250,
     "metadata": {},
     "output_type": "execute_result"
    }
   ],
   "source": [
    "functools.reduce(lambda a,b: a + b, lst, 10)"
   ]
  },
  {
   "cell_type": "code",
   "execution_count": 252,
   "id": "f489db0d",
   "metadata": {},
   "outputs": [
    {
     "name": "stdout",
     "output_type": "stream",
     "text": [
      "1\n",
      "2\n",
      "3\n",
      "10\n",
      "20\n",
      "30\n",
      "h\n",
      "e\n",
      "l\n",
      "l\n",
      "o\n"
     ]
    }
   ],
   "source": [
    "for it in itertools.chain([1,2,3], [10, 20, 30], \"hello\"):\n",
    "    print(it)"
   ]
  },
  {
   "cell_type": "code",
   "execution_count": 255,
   "id": "b515dace",
   "metadata": {},
   "outputs": [
    {
     "data": {
      "text/plain": [
       "[45]"
      ]
     },
     "execution_count": 255,
     "metadata": {},
     "output_type": "execute_result"
    }
   ],
   "source": [
    "list(itertools.dropwhile(lambda x: x % 2 == 0, [2, 4, 12, 2, 10, 45]))"
   ]
  },
  {
   "cell_type": "code",
   "execution_count": 256,
   "id": "9c7685fb",
   "metadata": {},
   "outputs": [
    {
     "data": {
      "text/plain": [
       "[2, 4, 12, 2, 10]"
      ]
     },
     "execution_count": 256,
     "metadata": {},
     "output_type": "execute_result"
    }
   ],
   "source": [
    "list(itertools.takewhile(lambda x: x % 2 == 0, [2, 4, 12, 2, 10, 45]))"
   ]
  },
  {
   "cell_type": "code",
   "execution_count": 273,
   "id": "f42cb7d5",
   "metadata": {},
   "outputs": [
    {
     "data": {
      "text/plain": [
       "3"
      ]
     },
     "execution_count": 273,
     "metadata": {},
     "output_type": "execute_result"
    }
   ],
   "source": [
    "lst = [1,2 ,3] * 3\n",
    "lst.pop()"
   ]
  },
  {
   "cell_type": "code",
   "execution_count": 276,
   "id": "42690a91",
   "metadata": {},
   "outputs": [
    {
     "name": "stdout",
     "output_type": "stream",
     "text": [
      "[1, 1, 1, 2, 2, 2, 3, 3]\n"
     ]
    }
   ],
   "source": [
    "lst.sort()\n",
    "print(lst)"
   ]
  },
  {
   "cell_type": "code",
   "execution_count": 277,
   "id": "30626e25",
   "metadata": {},
   "outputs": [
    {
     "name": "stdout",
     "output_type": "stream",
     "text": [
      "key=1 [1, 1, 1]\n",
      "key=2 [2, 2, 2]\n",
      "key=3 [3, 3]\n"
     ]
    }
   ],
   "source": [
    "for key, it in itertools.groupby(lst):\n",
    "    print(f\"{key=}\", list(it))"
   ]
  },
  {
   "cell_type": "code",
   "execution_count": null,
   "id": "73c72aa8",
   "metadata": {},
   "outputs": [],
   "source": []
  }
 ],
 "metadata": {
  "kernelspec": {
   "display_name": "Python 3 (ipykernel)",
   "language": "python",
   "name": "python3"
  },
  "language_info": {
   "codemirror_mode": {
    "name": "ipython",
    "version": 3
   },
   "file_extension": ".py",
   "mimetype": "text/x-python",
   "name": "python",
   "nbconvert_exporter": "python",
   "pygments_lexer": "ipython3",
   "version": "3.9.13"
  }
 },
 "nbformat": 4,
 "nbformat_minor": 5
}
